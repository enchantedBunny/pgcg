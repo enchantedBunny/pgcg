{
 "cells": [
  {
   "cell_type": "code",
   "execution_count": 1,
   "metadata": {
    "collapsed": false,
    "scrolled": true
   },
   "outputs": [
    {
     "name": "stderr",
     "output_type": "stream",
     "text": [
      "Exception ignored in: 'pyCalc.cError'\n",
      "ValueError: <invalid operation: colwise* >left is a 4x1 matrix but right is a 4x1 matrix\n",
      "Exception ignored in: 'pyCalc.cError'\n",
      "ValueError: <invalid operation: colwise* >left is a 4x1 matrix but right is a 4x1 matrix\n"
     ]
    }
   ],
   "source": [
    "import numpy as np\n",
    "import pyCalc as p\n",
    "import random\n",
    "p.setMode(\"quiet\")\n",
    "xs = p.var(\"constant\",np.array([\n",
    "                                   [1,0,0],\n",
    "                                   [1,1,0],\n",
    "                                   [1,0,1],\n",
    "                                   [1,1,1]\n",
    "                               ]\n",
    "                               , dtype= float))\n",
    "ys = p.var(\"constant\", np.array(\n",
    "                                [0,0,1,1]\n",
    "                                , dtype=float))\n",
    "half = p.var(\"constant\", np.array(\n",
    "                                [\n",
    "                                   0.5\n",
    "                               ]\n",
    "                                , dtype=float))\n",
    "np.random.seed(1)\n",
    "weights =2*np.random.random((3,1)) - 1\n",
    "ws = p.var(\"independent\", 3,1)\n",
    "\n",
    "l0 = p.function(xs,ws, \"*\") #4x1\n",
    "l1 = p.function(l0, \"sigmoid\") #4x1\n",
    "l1_error = p.function(ys.T(), l1, \"-\")#4x1\n",
    "sq_err = p.function(l1_error, l1_error, \"colwise*\")#4x1\n",
    "cost = p.function(sq_err,half,\"*\")\n",
    "\n",
    "sig = p.function(l1, \"sigmoid_r\")\n",
    "l1_delta = p.function(sig, l1_error, \"colwise*\")\n",
    "tmp = p.function(xs.T(),l1_delta, \"*\")\n"
   ]
  },
  {
   "cell_type": "code",
   "execution_count": 2,
   "metadata": {
    "collapsed": false
   },
   "outputs": [
    {
     "data": {
      "text/plain": [
       "array([['0.03292970214586599'],\n",
       "       ['0.008683325692727506'],\n",
       "       ['0.28621004770421443']], \n",
       "      dtype='<U32')"
      ]
     },
     "execution_count": 2,
     "metadata": {},
     "output_type": "execute_result"
    }
   ],
   "source": [
    "\n",
    "tmp.value(dict([(ws,weights)])).astype(str)"
   ]
  },
  {
   "cell_type": "code",
   "execution_count": 3,
   "metadata": {
    "collapsed": false
   },
   "outputs": [
    {
     "data": {
      "text/plain": [
       "array([[ 0.03292969],\n",
       "       [ 0.00868332],\n",
       "       [ 0.28621007]])"
      ]
     },
     "execution_count": 3,
     "metadata": {},
     "output_type": "execute_result"
    }
   ],
   "source": [
    "def ddderiv(vara,varb,npist):\n",
    "    h = 0.00000001\n",
    "    npistF = np.copy(npist)\n",
    "    for (x,y), value in np.ndenumerate(npist):\n",
    "        npist2 = np.copy(npist)\n",
    "        npist2[x][y] += h\n",
    "        npistF[x][y]= (sum(vara.value(dict([(varb,npist)]))) - sum(vara.value(dict([(varb,npist2)]))))/h\n",
    "    return npistF    \n",
    "ddderiv(cost,ws,weights)"
   ]
  },
  {
   "cell_type": "code",
   "execution_count": 4,
   "metadata": {
    "collapsed": false
   },
   "outputs": [
    {
     "data": {
      "text/plain": [
       "array([[ 0.89461007],\n",
       "       [ 0.46516253],\n",
       "       [ 0.40098089]])"
      ]
     },
     "execution_count": 4,
     "metadata": {},
     "output_type": "execute_result"
    }
   ],
   "source": [
    "  \n",
    "p.differeniate(l1_error,ws,weights)"
   ]
  },
  {
   "cell_type": "code",
   "execution_count": 7,
   "metadata": {
    "collapsed": false
   },
   "outputs": [
    {
     "data": {
      "image/png": "[encoded data removed]",
      "text/plain": [
       "<matplotlib.figure.Figure at 0x7f6430070940>"
      ]
     },
     "metadata": {},
     "output_type": "display_data"
    }
   ],
   "source": [
    "\n",
    "g= []\n",
    "h = []\n",
    "for i in range(1000):\n",
    "    weights = weights - tmp.value(dict([(ws,weights)]))\n",
    "    #weights = weights - p.differeniate(l1_error, ws, weights)\n",
    "    g.append(np.sum(l1_error.value(dict([(ws,weights)]))))\n",
    "    h.append(weights.tolist())\n",
    "\n",
    "\n",
    "import matplotlib.pyplot as plt\n",
    "x_data = [i for i in range(len(g))]\n",
    "y_data = [[h[i][j] for i in range(len(h))] for j in range(len(h[0]))]\n",
    "plt.figure(1)\n",
    "plt.subplot(211)\n",
    "plt.ylabel('error')\n",
    "plt.xlabel('iters')\n",
    "plt.plot(x_data, g, 'k')\n",
    "\n",
    "plt.subplot(212)\n",
    "plt.ylabel('weights')\n",
    "plt.xlabel('iters')\n",
    "for d in y_data:\n",
    "    plt.plot(x_data, d)\n",
    "\n",
    "plt.show()"
   ]
  },
  {
   "cell_type": "code",
   "execution_count": 8,
   "metadata": {
    "collapsed": false
   },
   "outputs": [
    {
     "data": {
      "text/plain": [
       "array([[  9.98125452e-01],\n",
       "       [  9.98756514e-01],\n",
       "       [  8.27181172e-04],\n",
       "       [  1.24723444e-03]])"
      ]
     },
     "execution_count": 8,
     "metadata": {},
     "output_type": "execute_result"
    }
   ],
   "source": [
    "l1.value(dict([(ws,weights)]))"
   ]
  },
  {
   "cell_type": "code",
   "execution_count": 9,
   "metadata": {
    "collapsed": false
   },
   "outputs": [
    {
     "data": {
      "text/plain": [
       "array([[  6.27751156],\n",
       "       [  0.41108068],\n",
       "       [-13.37417085]])"
      ]
     },
     "execution_count": 9,
     "metadata": {},
     "output_type": "execute_result"
    }
   ],
   "source": [
    "weights"
   ]
  },
  {
   "cell_type": "code",
   "execution_count": null,
   "metadata": {
    "collapsed": true
   },
   "outputs": [],
   "source": []
  }
 ],
 "metadata": {
  "kernelspec": {
   "display_name": "Python 3",
   "language": "python",
   "name": "python3"
  },
  "language_info": {
   "codemirror_mode": {
    "name": "ipython",
    "version": 3
   },
   "file_extension": ".py",
   "mimetype": "text/x-python",
   "name": "python",
   "nbconvert_exporter": "python",
   "pygments_lexer": "ipython3",
   "version": "3.6.0"
  }
 },
 "nbformat": 4,
 "nbformat_minor": 2
}
