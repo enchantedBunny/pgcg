{
 "cells": [
  {
   "cell_type": "code",
   "execution_count": 3,
   "metadata": {
    "collapsed": false,
    "scrolled": true
   },
   "outputs": [
    {
     "name": "stderr",
     "output_type": "stream",
     "text": [
      "Exception ignored in: 'pyCalc.cError'\n",
      "ValueError: <invalid operation: colwise* >left is a 4x1 matrix but right is a 4x1 matrix\n"
     ]
    },
    {
     "data": {
      "image/png": "[encoded data removed]",
      "text/plain": [
       "<matplotlib.figure.Figure at 0x7f95e02121d0>"
      ]
     },
     "metadata": {},
     "output_type": "display_data"
    }
   ],
   "source": [
    "import numpy as np\n",
    "import pyCalc as p\n",
    "import random\n",
    "p.setMode(\"quiet\")\n",
    "xs = p.var(\"constant\",np.array([\n",
    "                                   [1,0,0],\n",
    "                                   [1,1,0],\n",
    "                                   [1,0,1],\n",
    "                                   [1,1,1]\n",
    "                               ]\n",
    "                               , dtype= float))\n",
    "ys = p.var(\"constant\", np.array(\n",
    "                                [0,0,1,1]\n",
    "                                , dtype=float))\n",
    "np.random.seed(1)\n",
    "weights =2*np.random.random((3,1)) - 1\n",
    "ws = p.var(\"independent\", 3,1)\n",
    "\n",
    "l0 = p.function(xs,ws, \"*\") #4x1\n",
    "l1 = p.function(l0, \"sigmoid\") #4x1\n",
    "\n",
    "l1_error = p.function(ys.T(), l1, \"-\")\n",
    "sig = p.function(l1, \"sigmoid_r\")\n",
    "l1_delta = p.function(sig, l1_error, \"colwise*\")\n",
    "tmp = p.function(xs.T(),l1_delta, \"*\")\n",
    "\n",
    "g= []\n",
    "h = []\n",
    "for i in range(1000):\n",
    "    weights = weights + tmp.value(dict([(ws,weights)]))\n",
    "    g.append(np.sum(l1_error.value(dict([(ws,weights)]))))\n",
    "    h.append(weights.tolist())\n",
    "\n",
    "\n",
    "import matplotlib.pyplot as plt\n",
    "x_data = [i for i in range(len(g))]\n",
    "y_data = [[h[i][j] for i in range(len(h))] for j in range(len(h[0]))]\n",
    "plt.figure(1)\n",
    "plt.subplot(211)\n",
    "plt.ylabel('error')\n",
    "plt.xlabel('iters')\n",
    "plt.plot(x_data, g, 'k')\n",
    "\n",
    "plt.subplot(212)\n",
    "plt.ylabel('weights')\n",
    "plt.xlabel('iters')\n",
    "for d in y_data:\n",
    "    plt.plot(x_data, d)\n",
    "\n",
    "plt.show()"
   ]
  },
  {
   "cell_type": "code",
   "execution_count": null,
   "metadata": {
    "collapsed": true
   },
   "outputs": [],
   "source": []
  }
 ],
 "metadata": {
  "kernelspec": {
   "display_name": "Python 3",
   "language": "python",
   "name": "python3"
  },
  "language_info": {
   "codemirror_mode": {
    "name": "ipython",
    "version": 3
   },
   "file_extension": ".py",
   "mimetype": "text/x-python",
   "name": "python",
   "nbconvert_exporter": "python",
   "pygments_lexer": "ipython3",
   "version": "3.6.0"
  }
 },
 "nbformat": 4,
 "nbformat_minor": 2
}
