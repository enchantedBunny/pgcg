{
 "cells": [
  {
   "cell_type": "code",
   "execution_count": 1,
   "metadata": {
    "collapsed": false
   },
   "outputs": [
    {
     "ename": "NameError",
     "evalue": "name 'f' is not defined",
     "output_type": "error",
     "traceback": [
      "\u001b[0;31m---------------------------------------------------------------------------\u001b[0m",
      "\u001b[0;31mNameError\u001b[0m                                 Traceback (most recent call last)",
      "\u001b[0;32m<ipython-input-1-fe878410b51a>\u001b[0m in \u001b[0;36m<module>\u001b[0;34m()\u001b[0m\n\u001b[1;32m     11\u001b[0m \u001b[0mys\u001b[0m \u001b[0;34m=\u001b[0m \u001b[0mp\u001b[0m\u001b[0;34m.\u001b[0m\u001b[0mconstant\u001b[0m\u001b[0;34m(\u001b[0m\u001b[0mnp\u001b[0m\u001b[0;34m.\u001b[0m\u001b[0marray\u001b[0m\u001b[0;34m(\u001b[0m\u001b[0;34m[\u001b[0m\u001b[0;36m0\u001b[0m\u001b[0;34m,\u001b[0m\u001b[0;36m1\u001b[0m\u001b[0;34m,\u001b[0m\u001b[0;36m1\u001b[0m\u001b[0;34m]\u001b[0m\u001b[0;34m,\u001b[0m \u001b[0mdtype\u001b[0m\u001b[0;34m=\u001b[0m\u001b[0mfloat\u001b[0m\u001b[0;34m)\u001b[0m\u001b[0;34m)\u001b[0m\u001b[0;34m\u001b[0m\u001b[0m\n\u001b[1;32m     12\u001b[0m \u001b[0;34m\u001b[0m\u001b[0m\n\u001b[0;32m---> 13\u001b[0;31m \u001b[0mf\u001b[0m\u001b[0;34m\u001b[0m\u001b[0m\n\u001b[0m",
      "\u001b[0;31mNameError\u001b[0m: name 'f' is not defined"
     ]
    }
   ],
   "source": [
    "import numpy as np\n",
    "import pyCalc as p\n",
    "import random\n",
    "\n",
    "np.random.seed(1)\n",
    "\n",
    "p.setMode(p,\"quiet\")\n",
    "\n",
    "xs = p.constant(np.array([ [0,0,1],[0,1,1],[1,0,1],[1,1,1] ]                           \n",
    "                               , dtype= float))\n",
    "ys = p.constant(np.array([0,1,1], dtype=float))\n",
    "\n"
   ]
  },
  {
   "cell_type": "code",
   "execution_count": 2,
   "metadata": {
    "collapsed": false
   },
   "outputs": [
    {
     "name": "stdout",
     "output_type": "stream",
     "text": [
      "[[ 0.12395509  3.67188583  2.00241315  4.40342933  3.26599799  3.73361104\n",
      "   4.11463127  3.33873624  3.76459404  4.82370821  2.90817683  4.89042461\n",
      "   3.76547391  5.6299955   3.40325292  4.74271829  4.7579815   4.92005828\n",
      "   3.12375521  4.32033235]\n",
      " [ 0.74665417  3.69905944  3.05033487  4.70080758  5.463146    5.5105446\n",
      "   3.93524933  2.33204112  2.94742727  5.75332947  1.85797348  4.6461859\n",
      "   5.8169046   4.89369793  5.11197564  3.54675119  5.13382654  5.66989488\n",
      "   2.71910932  5.00352044]\n",
      " [ 1.87860422  8.25085586  8.37890814  8.37526444  7.47788797  8.43454022\n",
      "   9.23864695  8.14146002  8.8341233   8.47405081  8.54995547  7.77383892\n",
      "   7.69417187  9.05480349  8.16662354  7.59409553  9.85578562  8.07892215\n",
      "   8.66118391  9.12426983]]\n",
      "[[ 0.89777434]\n",
      " [ 1.82227481]\n",
      " [ 1.89132584]\n",
      " [ 1.64280782]\n",
      " [ 0.84420129]\n",
      " [ 1.83783133]\n",
      " [ 1.97985713]\n",
      " [ 1.5303477 ]\n",
      " [ 2.43616916]\n",
      " [ 1.92531678]\n",
      " [ 2.30340271]\n",
      " [ 1.06409354]\n",
      " [ 1.0506243 ]\n",
      " [ 2.36638327]\n",
      " [ 1.50208084]\n",
      " [ 0.95332892]\n",
      " [ 2.6440295 ]\n",
      " [ 1.44293269]\n",
      " [ 1.99348679]\n",
      " [ 2.2363362 ]]\n"
     ]
    },
    {
     "data": {
      "image/png": "[encoded data removed]",
      "text/plain": [
       "<matplotlib.figure.Figure at 0x7fb54500eef0>"
      ]
     },
     "metadata": {},
     "output_type": "display_data"
    },
    {
     "data": {
      "image/png": "[encoded data removed]",
      "text/plain": [
       "<matplotlib.figure.Figure at 0x7fb54500ee80>"
      ]
     },
     "metadata": {},
     "output_type": "display_data"
    }
   ],
   "source": [
    "import numpy as np\n",
    "import pyCalc as p\n",
    "import random\n",
    "\n",
    "np.random.seed(1)\n",
    "\n",
    "p.setMode(p,\"quiet\")\n",
    "\n",
    "xs = p.constant(np.array([ [0,0,1],[0,1,1],[1,0,1],[1,1,1] ]                           \n",
    "                               , dtype= float))\n",
    "ys = p.constant(np.array([0,1,1,0], dtype=float))\n",
    "\n",
    "weights = 2*np.random.random((3,20)) - 1\n",
    "weights2 = 2*np.random.random((20,1)) - 1\n",
    "\n",
    "ws0 = p.variable(3,20)\n",
    "ws1 = p.variable(20,1)\n",
    "\n",
    "\n",
    "l0 = p.function(xs, ws0, \"*\")\n",
    "l1 = p.function(l0, \"sigmoid\")\n",
    "l10 = p.function(l1,ws1, \"*\")\n",
    "l2 = p.function(l10, \"sigmoid\")\n",
    "\n",
    "l2_error = p.function(ys.T(), l2, \"-\") # = ys - sig(ws1 * sig(ws0*x)) \n",
    "sig1 = l2.deriv(1)\n",
    "l2_delta = p.function(sig1.T(), l2_error.T(), \"rowwise*\") #it should do rowwise automatically if multiplication not possible\n",
    "\n",
    "tmp1 = p.function(l2_delta, l1, \"*\").T()\n",
    "\n",
    "sig0 = l1.deriv(1)\n",
    "l2_errorh = p.function(sig0.T(), l2_delta, \"rowwise*\").T()\n",
    "l1_delta = p.function(l2_errorh,ws1, \"rowwise*\")\n",
    "tmp0 = p.function(l1_delta.T(),xs, \"*\") #add to ws0\n",
    "g= []\n",
    "g2= []\n",
    "for i in range(200):\n",
    "    t1 = weights2 + 10*tmp1.value(dict([(ws0,weights), (ws1,weights2)]))\n",
    "    t0 = weights + 10*tmp0.value(dict([(ws0,weights), (ws1,weights2)])).T\n",
    "    weights = t0\n",
    "    weights2 = t1\n",
    "    g.append(l2_error.value(dict([(ws0,weights), (ws1,weights2)])).tolist())\n",
    "    g2.append(sum([ abs(bb) for bb in l2_error.value(dict([(ws0,weights), (ws1,weights2)]))[0]]))\n",
    "    \n",
    "print(weights)\n",
    "print(weights2)\n",
    "import matplotlib.pyplot as plt\n",
    "x_data = [i for i in range(len(g))]\n",
    "y_data = [[g[j][i] for j in range(len(g))]for i in range(len(g[0]))]\n",
    "for d in y_data:\n",
    "    plt.plot(x_data, d)\n",
    "plt.ylabel('error')\n",
    "plt.xlabel('iter')\n",
    "plt.show()\n",
    "fig1 = plt.figure()\n",
    "ax1 = fig1.add_subplot(111)\n",
    "ax1.plot(x_data, g2)\n",
    "plt.show()"
   ]
  },
  {
   "cell_type": "code",
   "execution_count": null,
   "metadata": {
    "collapsed": true
   },
   "outputs": [],
   "source": []
  }
 ],
 "metadata": {
  "kernelspec": {
   "display_name": "Python 3",
   "language": "python",
   "name": "python3"
  },
  "language_info": {
   "codemirror_mode": {
    "name": "ipython",
    "version": 3
   },
   "file_extension": ".py",
   "mimetype": "text/x-python",
   "name": "python",
   "nbconvert_exporter": "python",
   "pygments_lexer": "ipython3",
   "version": "3.6.0"
  }
 },
 "nbformat": 4,
 "nbformat_minor": 2
}
