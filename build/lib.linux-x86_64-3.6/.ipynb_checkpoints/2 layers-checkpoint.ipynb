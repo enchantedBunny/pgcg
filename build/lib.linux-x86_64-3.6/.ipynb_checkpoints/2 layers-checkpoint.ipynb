{
 "cells": [
  {
   "cell_type": "code",
   "execution_count": 1,
   "metadata": {
    "collapsed": false
   },
   "outputs": [],
   "source": [
    "import numpy as np\n",
    "import pyCalc as p\n",
    "import random\n",
    "np.random.seed(1)\n",
    "l0 = p.var(\"function\")\n",
    "l1 = p.var(\"function\")\n",
    "l10 = p.var(\"function\")\n",
    "l2 = p.var(\"function\")\n",
    "l2_errorh = p.var(\"function\")\n",
    "l2_error = p.var(\"function\")\n",
    "sig0 = p.var(\"function\")\n",
    "sig1 = p.var(\"function\")\n",
    "l1_delta = p.var(\"function\")\n",
    "l2_delta = p.var(\"function\")\n",
    "hlp1 = p.var(\"function\")\n",
    "tmp1 = p.var(\"function\")\n",
    "hlp0 = p.var(\"function\")\n",
    "tmp0 = p.var(\"function\")\n",
    "xs = p.var(\"constant\",np.array([ [0,0,1],[0,1,1],[1,0,1],[1,1,1] ]                           \n",
    "                               , dtype= float))\n",
    "ys = p.var(\"constant\", np.array([0,1,1,0], dtype=float))\n",
    "weights = 2*np.random.random((3,4)) - 1\n",
    "weights2 = 2*np.random.random((4,1)) - 1\n",
    "ws0 = p.var(\"independent\", np.array([3,4]))\n",
    "ws1 = p.var(\"independent\", np.array([4,1]))\n",
    "l0.f(xs, ws0, \"*\")\n",
    "l1.sf(l0, \"sigmoid\")\n",
    "l10.f(ws1, l1, \"*\")\n",
    "l2.sf(l10, \"sigmoid\")\n",
    "l2_error.f(ys, l2, \"-\") #used to be errorh\n",
    "#l2_error.sf(l2_errorh, \"square\")\n",
    "sig1.sf(l2, \"sigmoid_r\")\n",
    "l2_delta.f(sig1, l2_error, \"rowwise\")\n",
    "hlp1.f(l1,l2_delta, \"rowwise\")\n",
    "tmp1.sf(hlp1, \"rowsum\") #add to ws1\n",
    "sig0.sf(l1, \"sigmoid_r\")\n",
    "l1_delta.f(l2_delta, ws1, \"*\")\n",
    "hlp0.f(l1_delta,xs, \"rowwise\")     \n",
    "tmp0.sf(hlp0, \"rowsum\") #add to ws0"
   ]
  },
  {
   "cell_type": "code",
   "execution_count": 2,
   "metadata": {
    "collapsed": false
   },
   "outputs": [
    {
     "data": {
      "text/plain": [
       "array([[-0.10042131,  0.14645903,  0.13666065, -0.10520451]])"
      ]
     },
     "execution_count": 2,
     "metadata": {},
     "output_type": "execute_result"
    }
   ],
   "source": [
    "l2_delta.value(dict([(ws0,weights), (ws1,weights2)]))"
   ]
  },
  {
   "cell_type": "code",
   "execution_count": 3,
   "metadata": {
    "collapsed": false
   },
   "outputs": [
    {
     "name": "stdout",
     "output_type": "stream",
     "text": [
      "[[ nan  nan  nan  nan]\n",
      " [ nan  nan  nan  nan]\n",
      " [ nan  nan  nan  nan]]\n",
      "[[ nan]\n",
      " [ nan]\n",
      " [ nan]\n",
      " [ nan]]\n"
     ]
    }
   ],
   "source": [
    "g= []\n",
    "for i in range(60000):\n",
    "    t1 = weights2 + tmp1.value(dict([(ws0,weights), (ws1,weights2)]))\n",
    "    t0 = weights + tmp0.value(dict([(ws0,weights), (ws1,weights2)]))\n",
    "    weights = t0\n",
    "    weights2 = t1\n",
    "    g.append(l2_error.value(dict([(ws0,weights), (ws1,weights2)]))[0])\n",
    "print(weights)\n",
    "print(weights2)"
   ]
  },
  {
   "cell_type": "code",
   "execution_count": 4,
   "metadata": {
    "collapsed": false
   },
   "outputs": [
    {
     "name": "stdout",
     "output_type": "stream",
     "text": [
      "[[ nan  nan  nan  nan]]\n",
      "[[ nan  nan  nan  nan]]\n"
     ]
    }
   ],
   "source": [
    "print(l2.value(dict([(ws0,weights), (ws1,weights2)])))\n",
    "print(l2_error.value(dict([(ws0,weights), (ws1,weights2)])))"
   ]
  },
  {
   "cell_type": "code",
   "execution_count": 5,
   "metadata": {
    "collapsed": false
   },
   "outputs": [
    {
     "data": {
      "image/png": "[encoded data removed]",
      "text/plain": [
       "<matplotlib.figure.Figure at 0x7f8a6c0dfc88>"
      ]
     },
     "metadata": {},
     "output_type": "display_data"
    }
   ],
   "source": [
    "import matplotlib.pyplot as plt\n",
    "plt.plot(g)\n",
    "plt.ylabel('error')\n",
    "plt.show()"
   ]
  },
  {
   "cell_type": "code",
   "execution_count": 6,
   "metadata": {
    "collapsed": false
   },
   "outputs": [
    {
     "name": "stdout",
     "output_type": "stream",
     "text": [
      "[[-0.11014039]\n",
      " [ 0.13236944]\n",
      " [ 0.12832024]\n",
      " [-0.12537547]]\n",
      "[[-0.11235965]\n",
      " [ 0.13032694]\n",
      " [ 0.1264475 ]\n",
      " [-0.12758592]]\n",
      "[[-0.11381695]\n",
      " [ 0.12889178]\n",
      " [ 0.125126  ]\n",
      " [-0.12904088]]\n",
      "[[-0.11476827]\n",
      " [ 0.12790031]\n",
      " [ 0.12419772]\n",
      " [-0.13001017]]\n",
      "[[-0.11538278]\n",
      " [ 0.12722242]\n",
      " [ 0.12354368]\n",
      " [-0.13066413]]\n",
      "[[-0.11577231]\n",
      " [ 0.12676208]\n",
      " [ 0.12307847]\n",
      " [-0.13111144]]\n",
      "[[-0.116011  ]\n",
      " [ 0.12645107]\n",
      " [ 0.12274227]\n",
      " [-0.13142234]]\n",
      "[[-0.11614823]\n",
      " [ 0.12624185]\n",
      " [ 0.12249378]\n",
      " [-0.13164271]]\n",
      "[[-0.11621702]\n",
      " [ 0.12610171]\n",
      " [ 0.12230468]\n",
      " [-0.13180279]]\n",
      "[[-0.11623946]\n",
      " [ 0.12600832]\n",
      " [ 0.12215568]\n",
      " [-0.13192266]]\n"
     ]
    }
   ],
   "source": [
    "X = np.array([ [0,0,1],[0,1,1],[1,0,1],[1,1,1] ])\n",
    "y = np.array([[0,1,1,0]]).T\n",
    "syn0 = 2*np.random.random((3,4)) - 1\n",
    "syn1 = 2*np.random.random((4,1)) - 1\n",
    "for j in range(10):\n",
    "    l1 = 1/(1+np.exp(-(np.dot(X,syn0))))\n",
    "    l2 = 1/(1+np.exp(-(np.dot(l1,syn1))))\n",
    "    l2_delta = (y - l2)*(l2*(1-l2))\n",
    "    l1_delta = l2_delta.dot(syn1.T) * (l1 * (1-l1))\n",
    "    print(l2_delta)\n",
    "    syn1 += l1.T.dot(l2_delta)\n",
    "    syn0 += X.T.dot(l1_delta)"
   ]
  },
  {
   "cell_type": "code",
   "execution_count": null,
   "metadata": {
    "collapsed": true
   },
   "outputs": [],
   "source": []
  }
 ],
 "metadata": {
  "kernelspec": {
   "display_name": "Python 3",
   "language": "python",
   "name": "python3"
  },
  "language_info": {
   "codemirror_mode": {
    "name": "ipython",
    "version": 3
   },
   "file_extension": ".py",
   "mimetype": "text/x-python",
   "name": "python",
   "nbconvert_exporter": "python",
   "pygments_lexer": "ipython3",
   "version": "3.6.0"
  }
 },
 "nbformat": 4,
 "nbformat_minor": 2
}
