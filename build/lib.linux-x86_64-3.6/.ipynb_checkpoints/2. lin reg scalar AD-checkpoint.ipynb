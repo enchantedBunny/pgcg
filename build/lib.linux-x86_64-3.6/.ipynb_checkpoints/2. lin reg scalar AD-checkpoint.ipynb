{
 "cells": [
  {
   "cell_type": "code",
   "execution_count": null,
   "metadata": {
    "collapsed": true
   },
   "outputs": [],
   "source": [
    "import pyCalc as p\n",
    "import matplotlib.pyplot as plt\n",
    "one = p.var_old('c', 1)# 1\n",
    "mone = p.var_old('c', -1) # -1\n",
    "x = p.var_old('i');\n",
    "unm = p.var_old('f');\n",
    "unm.f(mone,x,'*') # -x\n",
    "unex = p.var_old('f')\n",
    "unex.exp(unm) #e**-x\n",
    "fn1 = p.var_old('f')\n",
    "fn1.f(one, unex, '+')#1+e**-x\n",
    "y = p.var_old('f')\n",
    "y.f(one, fn1, '/') #1/ (1+ e**-x)\n",
    "xx = [i/10 for i in range(-40,50)]\n",
    "ys = [fn2.value([i, 0]) for i in xx]\n"
   ]
  }
 ],
 "metadata": {
  "kernelspec": {
   "display_name": "Python 3",
   "language": "python",
   "name": "python3"
  },
  "language_info": {
   "codemirror_mode": {
    "name": "ipython",
    "version": 3
   },
   "file_extension": ".py",
   "mimetype": "text/x-python",
   "name": "python",
   "nbconvert_exporter": "python",
   "pygments_lexer": "ipython3",
   "version": "3.6.0"
  }
 },
 "nbformat": 4,
 "nbformat_minor": 2
}
