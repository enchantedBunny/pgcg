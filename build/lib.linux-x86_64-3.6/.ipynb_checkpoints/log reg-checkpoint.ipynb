{
 "cells": [
  {
   "cell_type": "code",
   "execution_count": 1,
   "metadata": {
    "collapsed": false
   },
   "outputs": [],
   "source": [
    "import numpy as np\n",
    "import pyCalc as p\n",
    "import random\n",
    "l0 = p.var(\"function\")\n",
    "l1 = p.var(\"function\")\n",
    "l1_error = p.var(\"function\")\n",
    "sig = p.var(\"function\")\n",
    "l1_delta = p.var(\"function\")\n",
    "hlp = p.var(\"function\")\n",
    "tmp = p.var(\"function\")\n",
    "xs = p.var(\"constant\",np.array([[1,1,1,1],\n",
    "                               [0,1,0,1],\n",
    "                               [0,0,1,1]]                           \n",
    "                               , dtype= float))\n",
    "ys = p.var(\"constant\", np.array([0,0,1,1], dtype=float))\n",
    "weights =np.array([[-0.43812108],\n",
    " [ 0.91094098],\n",
    " [0.83655703]], dtype = float)\n",
    "ws = p.var(\"independent\", np.array([4,4]))\n",
    "l0.f(ws, xs, \"*\")\n",
    "l1.sf(l0, \"sigmoid\")\n",
    "l1_error.f(ys, l1, \"-\")\n",
    "sig.sf(l1, \"sigmoid_r\")\n",
    "l1_delta.f(sig, l1_error, \"rowwise\")\n",
    "hlp.f(xs,l1_delta, \"rowwise\")\n",
    "tmp.sf(hlp, \"rowsum\")"
   ]
  },
  {
   "cell_type": "code",
   "execution_count": 2,
   "metadata": {
    "collapsed": false
   },
   "outputs": [
    {
     "name": "stdout",
     "output_type": "stream",
     "text": [
      "[[-3.41991063]\n",
      " [-0.21447438]\n",
      " [ 7.26657962]]\n"
     ]
    }
   ],
   "source": [
    "g= []\n",
    "for i in range(1000):\n",
    "    weights = weights + tmp.value(dict([(ws,weights)]))\n",
    "    g.append(np.sum(l1_error.value(dict([(ws,weights)]))))\n",
    "print(weights)"
   ]
  },
  {
   "cell_type": "code",
   "execution_count": 3,
   "metadata": {
    "collapsed": false
   },
   "outputs": [
    {
     "name": "stdout",
     "output_type": "stream",
     "text": [
      "[[ 0.03167897  0.02572112  0.97909558  0.97422397]]\n",
      "-0.0107196364552\n"
     ]
    }
   ],
   "source": [
    "print(l1.value(dict([(ws,weights)])))\n",
    "print(np.sum(l1_error.value(dict([(ws,weights)]))))"
   ]
  },
  {
   "cell_type": "code",
   "execution_count": 4,
   "metadata": {
    "collapsed": false
   },
   "outputs": [
    {
     "data": {
      "image/png": "[encoded data removed]",
      "text/plain": [
       "<matplotlib.figure.Figure at 0x7fb3bced5320>"
      ]
     },
     "metadata": {},
     "output_type": "display_data"
    }
   ],
   "source": [
    "import matplotlib.pyplot as plt\n",
    "plt.plot(g)\n",
    "plt.ylabel('error')\n",
    "plt.show()"
   ]
  }
 ],
 "metadata": {
  "kernelspec": {
   "display_name": "Python 3",
   "language": "python",
   "name": "python3"
  },
  "language_info": {
   "codemirror_mode": {
    "name": "ipython",
    "version": 3
   },
   "file_extension": ".py",
   "mimetype": "text/x-python",
   "name": "python",
   "nbconvert_exporter": "python",
   "pygments_lexer": "ipython3",
   "version": "3.6.0"
  }
 },
 "nbformat": 4,
 "nbformat_minor": 2
}
