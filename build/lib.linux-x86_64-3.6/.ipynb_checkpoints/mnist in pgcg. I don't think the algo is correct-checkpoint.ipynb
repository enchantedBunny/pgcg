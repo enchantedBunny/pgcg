{
 "cells": [
  {
   "cell_type": "code",
   "execution_count": 1,
   "metadata": {
    "collapsed": true
   },
   "outputs": [],
   "source": [
    "import numpy as np\n",
    "from tensorflow.examples.tutorials.mnist import input_data\n",
    "import pyCalc as p\n",
    "import random\n",
    "import math"
   ]
  },
  {
   "cell_type": "code",
   "execution_count": 2,
   "metadata": {
    "collapsed": false,
    "scrolled": true
   },
   "outputs": [
    {
     "name": "stdout",
     "output_type": "stream",
     "text": [
      "Extracting MNIST_data/train-images-idx3-ubyte.gz\n",
      "Extracting MNIST_data/train-labels-idx1-ubyte.gz\n",
      "Extracting MNIST_data/t10k-images-idx3-ubyte.gz\n",
      "Extracting MNIST_data/t10k-labels-idx1-ubyte.gz\n"
     ]
    }
   ],
   "source": [
    "mnist = input_data.read_data_sets(\"MNIST_data/\", one_hot=False)\n",
    "\n",
    "X_train = np.vstack([img.reshape(-1,) for img in mnist.train.images])\n"
   ]
  },
  {
   "cell_type": "code",
   "execution_count": 3,
   "metadata": {
    "collapsed": false
   },
   "outputs": [],
   "source": [
    "import pyCalc as p\n",
    "import random\n",
    "\n",
    "np.random.seed(1)\n",
    "\n",
    "p.setMode(p,\"quiet\")\n",
    "\n",
    "xs = p.constant(X_train[:1000,:])\n",
    "X_test = X_train[-100:,:]\n",
    "del X_train\n",
    "y_train = mnist.train.labels[:1000]\n",
    "y_train = [[1 if n == i else 0 for n in range(10)] for i in y_train]\n",
    "Y_test = mnist.train.labels[-100:]\n",
    "Y_test = [[1 if n == i else 0 for n in range(10)] for i in Y_test]\n",
    "ys = p.constant(np.array(y_train, dtype=float))\n",
    "del y_train\n",
    "del mnist"
   ]
  },
  {
   "cell_type": "code",
   "execution_count": 4,
   "metadata": {
    "collapsed": true
   },
   "outputs": [],
   "source": [
    "xss = p.constant(np.array(X_test, dtype=float))\n",
    "yss = p.constant(np.array(Y_test, dtype=float))\n",
    "wss = p.variable(784,10)\n",
    "l0s = p.function(xss, wss, \"*\")\n",
    "l1s = p.function(l0s, \"sigmoid\")\n"
   ]
  },
  {
   "cell_type": "code",
   "execution_count": 5,
   "metadata": {
    "collapsed": false
   },
   "outputs": [],
   "source": [
    "xs.preview()\n",
    "ys.preview()"
   ]
  },
  {
   "cell_type": "code",
   "execution_count": 6,
   "metadata": {
    "collapsed": false
   },
   "outputs": [],
   "source": [
    "weights =2*np.random.random((784,10)) - 1\n",
    "ws = p.variable(784,10)"
   ]
  },
  {
   "cell_type": "code",
   "execution_count": 7,
   "metadata": {
    "collapsed": false
   },
   "outputs": [],
   "source": [
    "l0 = p.function(xs, ws, \"*\")\n",
    "l1 = p.function(l0, \"sigmoid\")"
   ]
  },
  {
   "cell_type": "code",
   "execution_count": 8,
   "metadata": {
    "collapsed": false
   },
   "outputs": [],
   "source": [
    "l1_error = p.function(ys, l1, \"-\")\n",
    "l1_error.preview()"
   ]
  },
  {
   "cell_type": "code",
   "execution_count": 9,
   "metadata": {
    "collapsed": false
   },
   "outputs": [],
   "source": [
    "sig = p.function(l1, \"sigmoid_r\")\n",
    "l1_delta = p.function(sig, l1_error, \"rowwise*\") #this doesn't work for 2d matrices\n",
    "tmp = p.function(l1_delta.T(),xs, \"*\").T()"
   ]
  },
  {
   "cell_type": "code",
   "execution_count": null,
   "metadata": {
    "collapsed": false
   },
   "outputs": [
    {
     "name": "stdout",
     "output_type": "stream",
     "text": [
      "maximum accuracy: 3.0%\n"
     ]
    }
   ],
   "source": [
    "hyp = l1s.value(dict([(wss,weights)])).tolist()\n",
    "hyp = [i.index(max(i)) + 1 for i in hyp]\n",
    "act = yss.value().tolist()\n",
    "act = [i.index(1) + 1 for i in act]\n",
    "wr = 0;\n",
    "for i in range(len(act)):\n",
    "    if hyp[i] == act[i]:\n",
    "        wr+=1\n",
    "print(\"maximum accuracy: \",( wr / len(act))*100, \"%\",sep=\"\")"
   ]
  },
  {
   "cell_type": "code",
   "execution_count": null,
   "metadata": {
    "collapsed": false
   },
   "outputs": [
    {
     "name": "stdout",
     "output_type": "stream",
     "text": [
      "500\n",
      "estimated remaining time: 15:05\n",
      "1000\n",
      "estimated remaining time: 14:55\n",
      "1500\n",
      "estimated remaining time: 14:42\n",
      "2000\n",
      "estimated remaining time: 14:18\n",
      "2500\n",
      "estimated remaining time: 13:48\n",
      "3000\n",
      "estimated remaining time: 13:29\n",
      "3500\n",
      "estimated remaining time: 13:11\n",
      "4000\n",
      "estimated remaining time: 12:54\n",
      "4500\n",
      "estimated remaining time: 12:32\n",
      "5000\n",
      "estimated remaining time: 12:09\n",
      "5500\n",
      "estimated remaining time: 11:42\n",
      "6000\n",
      "estimated remaining time: 11:21\n",
      "6500\n",
      "estimated remaining time: 10:53\n",
      "7000\n",
      "estimated remaining time: 10:27\n",
      "7500\n",
      "estimated remaining time: 10:03\n",
      "8000\n",
      "estimated remaining time: 9:39\n",
      "8500\n",
      "estimated remaining time: 9:15\n",
      "9000\n",
      "estimated remaining time: 8:52\n",
      "9500\n",
      "estimated remaining time: 8:27\n",
      "10000\n",
      "estimated remaining time: 8:04\n",
      "10500\n",
      "estimated remaining time: 7:42\n",
      "11000\n",
      "estimated remaining time: 7:20\n",
      "11500\n",
      "estimated remaining time: 6:58\n",
      "12000\n",
      "estimated remaining time: 6:33\n",
      "12500\n",
      "estimated remaining time: 6:08\n",
      "13000\n",
      "estimated remaining time: 5:42\n",
      "13500\n",
      "estimated remaining time: 5:17\n",
      "14000\n",
      "estimated remaining time: 4:51\n",
      "14500\n",
      "estimated remaining time: 4:27\n",
      "15000\n",
      "estimated remaining time: 4:02\n",
      "15500\n",
      "estimated remaining time: 3:38\n"
     ]
    }
   ],
   "source": [
    "g=[]\n",
    "import time\n",
    "seconds = time.time()\n",
    "iters = 20000\n",
    "for i in range(iters):\n",
    "    weights = weights + tmp.value(dict([(ws,weights)]))\n",
    "    if (i+1)%500==0:\n",
    "        print(math.ceil(100*(i+1/iters)), \"% done \", iters - i-1, \" iterations remaining\", sep=\"\")\n",
    "        m, s = divmod((1-((i+1)/iters))*(time.time()-seconds)/((i+1)/iters), 60)\n",
    "        m = math.ceil(m)\n",
    "        s = math.ceil(s)\n",
    "        if s < 10:\n",
    "            s = \"0\" + str(s)\n",
    "        print(\"estimated remaining time: \", m, \":\",s, sep=\"\")\n",
    "    "
   ]
  },
  {
   "cell_type": "code",
   "execution_count": null,
   "metadata": {
    "collapsed": false
   },
   "outputs": [],
   "source": [
    "hyp = l1.value(dict([(ws,weights)])).tolist()\n",
    "hyp = [i.index(max(i)) + 1 for i in hyp]\n",
    "act = ys.value().tolist()\n",
    "act = [i.index(1) + 1 for i in act]\n",
    "wr = 0;\n",
    "for i in range(len(act)):\n",
    "    if hyp[i] == act[i]:\n",
    "        wr+=1\n",
    "print(\"maximum accuracy: \",( wr / len(act))*100, \"%\",sep=\"\")"
   ]
  },
  {
   "cell_type": "code",
   "execution_count": null,
   "metadata": {
    "collapsed": false
   },
   "outputs": [],
   "source": [
    "\n",
    "hyp = l1s.value(dict([(wss,weights)])).tolist()\n",
    "hyp = [i.index(max(i)) + 1 for i in hyp]\n",
    "act = yss.value().tolist()\n",
    "act = [i.index(1) + 1 for i in act]\n",
    "wr = 0;\n",
    "for i in range(len(act)):\n",
    "    if hyp[i] == act[i]:\n",
    "        wr+=1\n",
    "print(\"maximum accuracy: \",( wr / len(act))*100, \"%\",sep=\"\")"
   ]
  },
  {
   "cell_type": "code",
   "execution_count": null,
   "metadata": {
    "collapsed": true
   },
   "outputs": [],
   "source": []
  }
 ],
 "metadata": {
  "kernelspec": {
   "display_name": "Python 3",
   "language": "python",
   "name": "python3"
  },
  "language_info": {
   "codemirror_mode": {
    "name": "ipython",
    "version": 3
   },
   "file_extension": ".py",
   "mimetype": "text/x-python",
   "name": "python",
   "nbconvert_exporter": "python",
   "pygments_lexer": "ipython3",
   "version": "3.6.0"
  }
 },
 "nbformat": 4,
 "nbformat_minor": 2
}
