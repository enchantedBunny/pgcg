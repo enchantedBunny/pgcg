{
 "cells": [
  {
   "cell_type": "code",
   "execution_count": null,
   "metadata": {
    "collapsed": true
   },
   "outputs": [],
   "source": [
    "import pyCalc as p\n",
    "import matplotlib.pyplot as plt"
   ]
  },
  {
   "cell_type": "code",
   "execution_count": null,
   "metadata": {
    "collapsed": true
   },
   "outputs": [],
   "source": [
    "a, b, x = p.var_old('i'),p.var_old('i'), p.var_old()\n",
    "x.f(a,b,'+')\n",
    "sig = p.var_old()\n",
    "sig.sigmoid(x)\n",
    "xx = [i/10 for i in range(-40,50)]\n",
    "ys = [sig.value([i, 0]) for i in xx]\n",
    "plt.plot(xx,ys)\n",
    "plt.title('Sigmoid')\n",
    "plt.show()\n",
    "print(sig.getDeriv(0,[0]))\n",
    "xx = [i/10 for i in range(-40,50)]\n",
    "ys = [sig.getDeriv(0,[i, 0]) for i in xx]\n",
    "plt.plot(xx,ys)\n",
    "plt.title('Sigmoid deriv')\n",
    "plt.show()"
   ]
  },
  {
   "cell_type": "code",
   "execution_count": 1,
   "metadata": {
    "collapsed": false
   },
   "outputs": [
    {
     "name": "stdout",
     "output_type": "stream",
     "text": [
      "the 0th deriv of this isc\n",
      "the 0th deriv of this is( -1.000000 * ( exp( -1.000000 * g3 ) ) )\n",
      "the 0th deriv of this is( 1.000000 * ( -1.000000 * ( exp( -1.000000 * g3 ) ) ) )\n",
      "the 0th deriv of this is( ( ( -1.000000 * 1.000000 ) / ( ( 1.000000 + ( exp( -1.000000 * g3 ) ) ) * ( 1.000000 + ( exp( -1.000000 * g3 ) ) ) ) ) * ( 1.000000 * ( -1.000000 * ( exp( -1.000000 * g3 ) ) ) ) )\n"
     ]
    },
    {
     "data": {
      "image/png": "[encoded data removed]",
      "text/plain": [
       "<matplotlib.figure.Figure at 0x7f31baba3f60>"
      ]
     },
     "metadata": {},
     "output_type": "display_data"
    }
   ],
   "source": [
    "import pyCalc as p\n",
    "import matplotlib.pyplot as plt\n",
    "one = p.var_old('c', 1)\n",
    "mone = p.var_old('c', -1)\n",
    "un = p.var_old('i');\n",
    "unm = p.var_old('f');\n",
    "unm.f(mone,un,'*')\n",
    "unex = p.var_old('f')\n",
    "unex.exp(unm)\n",
    "fn1 = p.var_old('f')\n",
    "fn1.f(one, unex, '+')#1+exp(x)\n",
    "fn2 = p.var_old('f')\n",
    "fn2.f(one, fn1, '/')\n",
    "xx = [i/10 for i in range(-40,50)]\n",
    "ys = [fn2.value([i, 0]) for i in xx]\n",
    "plt.plot(xx,ys)\n",
    "plt.title('Sigmoid')\n",
    "plt.show()"
   ]
  },
  {
   "cell_type": "code",
   "execution_count": 2,
   "metadata": {
    "collapsed": false
   },
   "outputs": [
    {
     "data": {
      "image/png": "[encoded data removed]",
      "text/plain": [
       "<matplotlib.figure.Figure at 0x7f31e0c51c88>"
      ]
     },
     "metadata": {},
     "output_type": "display_data"
    }
   ],
   "source": [
    "xx = [i/10 for i in range(-40,50)]\n",
    "ys = [fn2.getDeriv(0,[i, 0]) for i in xx]\n",
    "plt.plot(xx,ys)\n",
    "plt.title('Sigmoid deriv')\n",
    "plt.show()"
   ]
  },
  {
   "cell_type": "code",
   "execution_count": 3,
   "metadata": {
    "collapsed": false
   },
   "outputs": [
    {
     "name": "stdout",
     "output_type": "stream",
     "text": [
      "( ( ( -1.000000 * 1.000000 ) / ( ( 1.000000 + ( exp( -1.000000 * g3 ) ) ) * ( 1.000000 + ( exp( -1.000000 * g3 ) ) ) ) ) * ( 1.000000 * ( -1.000000 * ( exp( -1.000000 * g3 ) ) ) ) )\n"
     ]
    }
   ],
   "source": [
    "fn2.previewDeriv()"
   ]
  },
  {
   "cell_type": "code",
   "execution_count": null,
   "metadata": {
    "collapsed": true
   },
   "outputs": [],
   "source": []
  }
 ],
 "metadata": {
  "kernelspec": {
   "display_name": "Python 3",
   "language": "python",
   "name": "python3"
  },
  "language_info": {
   "codemirror_mode": {
    "name": "ipython",
    "version": 3
   },
   "file_extension": ".py",
   "mimetype": "text/x-python",
   "name": "python",
   "nbconvert_exporter": "python",
   "pygments_lexer": "ipython3",
   "version": "3.6.0"
  }
 },
 "nbformat": 4,
 "nbformat_minor": 2
}
