{
 "cells": [
  {
   "cell_type": "code",
   "execution_count": 1,
   "metadata": {
    "collapsed": false,
    "scrolled": true
   },
   "outputs": [
    {
     "ename": "ImportError",
     "evalue": "/home/jozef/repos/pgcg/build/lib.linux-x86_64-3.6/pyCalc.cpython-36m-x86_64-linux-gnu.so: undefined symbol: _ZN4calc13differentiateEPNS_8VariableES1_RKN5Eigen3MapINS2_6MatrixIdLin1ELin1ELi0ELin1ELin1EEELi0ENS2_6StrideILi0ELi0EEEEEi",
     "output_type": "error",
     "traceback": [
      "\u001b[0;31m---------------------------------------------------------------------------\u001b[0m",
      "\u001b[0;31mImportError\u001b[0m                               Traceback (most recent call last)",
      "\u001b[0;32m<ipython-input-1-392eeffc04d6>\u001b[0m in \u001b[0;36m<module>\u001b[0;34m()\u001b[0m\n\u001b[1;32m      1\u001b[0m \u001b[0;32mimport\u001b[0m \u001b[0mnumpy\u001b[0m \u001b[0;32mas\u001b[0m \u001b[0mnp\u001b[0m\u001b[0;34m\u001b[0m\u001b[0m\n\u001b[0;32m----> 2\u001b[0;31m \u001b[0;32mimport\u001b[0m \u001b[0mpyCalc\u001b[0m \u001b[0;32mas\u001b[0m \u001b[0mp\u001b[0m\u001b[0;34m\u001b[0m\u001b[0m\n\u001b[0m\u001b[1;32m      3\u001b[0m \u001b[0;32mimport\u001b[0m \u001b[0mrandom\u001b[0m\u001b[0;34m\u001b[0m\u001b[0m\n\u001b[1;32m      4\u001b[0m \u001b[0mp\u001b[0m\u001b[0;34m.\u001b[0m\u001b[0msetMode\u001b[0m\u001b[0;34m(\u001b[0m\u001b[0;34m\"quiet\"\u001b[0m\u001b[0;34m)\u001b[0m\u001b[0;34m\u001b[0m\u001b[0m\n\u001b[1;32m      5\u001b[0m xs = p.var(\"constant\",np.array([\n",
      "\u001b[0;31mImportError\u001b[0m: /home/jozef/repos/pgcg/build/lib.linux-x86_64-3.6/pyCalc.cpython-36m-x86_64-linux-gnu.so: undefined symbol: _ZN4calc13differentiateEPNS_8VariableES1_RKN5Eigen3MapINS2_6MatrixIdLin1ELin1ELi0ELin1ELin1EEELi0ENS2_6StrideILi0ELi0EEEEEi"
     ]
    }
   ],
   "source": [
    "import numpy as np\n",
    "import pyCalc as p\n",
    "import random\n",
    "p.setMode(\"quiet\")\n",
    "xs = p.var(\"constant\",np.array([\n",
    "                                   [1,0,0],\n",
    "                                   [1,1,0],\n",
    "                                   [1,0,1],\n",
    "                                   [1,1,1]\n",
    "                               ]\n",
    "                               , dtype= float))\n",
    "ys = p.var(\"constant\", np.array(\n",
    "                                [0,0,1,1]\n",
    "                                , dtype=float))\n",
    "half = p.var(\"constant\", np.array(\n",
    "                                [\n",
    "                                   0.5\n",
    "                               ]\n",
    "                                , dtype=float))\n",
    "np.random.seed(1)\n",
    "weights =2*np.random.random((3,1)) - 1\n",
    "ws = p.var(\"independent\", 3,1)\n",
    "\n",
    "l0 = p.function(xs,ws, \"*\") #4x1\n",
    "l1 = p.function(l0, \"sigmoid\") #4x1\n",
    "l1_error = p.function(ys.T(), l1, \"-\")#4x1\n",
    "sq_err = p.function(l1_error, l1_error, \"colwise*\")#4x1\n",
    "cost = p.function(sq_err,half,\"*\")\n",
    "\n",
    "sig = p.function(l1, \"sigmoid_r\")\n",
    "l1_delta = p.function(sig, l1_error, \"colwise*\")\n",
    "tmp = p.function(xs.T(),l1_delta, \"*\")\n"
   ]
  },
  {
   "cell_type": "code",
   "execution_count": null,
   "metadata": {
    "collapsed": false
   },
   "outputs": [],
   "source": [
    "  \n",
    "p.differeniate(cost,ws,weights)"
   ]
  },
  {
   "cell_type": "code",
   "execution_count": null,
   "metadata": {
    "collapsed": false
   },
   "outputs": [],
   "source": [
    "  \n",
    "p.differeniate_c(cost,ws,weights)"
   ]
  },
  {
   "cell_type": "code",
   "execution_count": null,
   "metadata": {
    "collapsed": false
   },
   "outputs": [],
   "source": [
    "def fone():\n",
    "    weights =2*np.random.random((3,1)) - 1\n",
    "    g= []\n",
    "    h = []\n",
    "    for i in range(1000):\n",
    "        weights = weights - tmp.value(dict([(ws,weights)]))\n",
    "        #weights = weights - p.differeniate(cost, ws, weights)\n",
    "        g.append(np.sum(l1_error.value(dict([(ws,weights)]))))\n",
    "        h.append(weights.tolist())\n",
    "\n",
    "\n",
    "# import matplotlib.pyplot as plt\n",
    "# x_data = [i for i in range(len(g))]\n",
    "# y_data = [[h[i][j] for i in range(len(h))] for j in range(len(h[0]))]\n",
    "# plt.figure(1)\n",
    "# plt.subplot(211)\n",
    "# plt.ylabel('error')\n",
    "# plt.xlabel('iters')\n",
    "# plt.plot(x_data, g, 'k')\n",
    "\n",
    "# plt.subplot(212)\n",
    "# plt.ylabel('weights')\n",
    "# plt.xlabel('iters')\n",
    "# for d in y_data:\n",
    "#     plt.plot(x_data, d)\n",
    "\n",
    "# plt.show()"
   ]
  },
  {
   "cell_type": "code",
   "execution_count": null,
   "metadata": {
    "collapsed": false
   },
   "outputs": [],
   "source": [
    "def ftwo():\n",
    "    weights =2*np.random.random((3,1)) - 1\n",
    "    g= []\n",
    "    h = []\n",
    "    for i in range(1000):\n",
    "        #weights = weights - tmp.value(dict([(ws,weights)]))\n",
    "        weights = weights - p.differeniate(cost, ws, weights)\n",
    "        g.append(np.sum(l1_error.value(dict([(ws,weights)]))))\n",
    "        h.append(weights.tolist())\n",
    "\n",
    "\n",
    "# import matplotlib.pyplot as plt\n",
    "# x_data = [i for i in range(len(g))]\n",
    "# y_data = [[h[i][j] for i in range(len(h))] for j in range(len(h[0]))]\n",
    "# plt.figure(1)\n",
    "# plt.subplot(211)\n",
    "# plt.ylabel('error')\n",
    "# plt.xlabel('iters')\n",
    "# plt.plot(x_data, g, 'k')\n",
    "\n",
    "# plt.subplot(212)\n",
    "# plt.ylabel('weights')\n",
    "# plt.xlabel('iters')\n",
    "# for d in y_data:\n",
    "#     plt.plot(x_data, d)\n",
    "\n",
    "# plt.show()"
   ]
  },
  {
   "cell_type": "code",
   "execution_count": null,
   "metadata": {
    "collapsed": false
   },
   "outputs": [],
   "source": [
    "import timeit\n",
    "timeit.timeit(fone, number=100)"
   ]
  },
  {
   "cell_type": "code",
   "execution_count": null,
   "metadata": {
    "collapsed": false
   },
   "outputs": [],
   "source": [
    "timeit.timeit(ftwo, number=100)"
   ]
  },
  {
   "cell_type": "code",
   "execution_count": null,
   "metadata": {
    "collapsed": false
   },
   "outputs": [],
   "source": [
    "# l1.value(dict([(ws,weights)]))"
   ]
  },
  {
   "cell_type": "code",
   "execution_count": null,
   "metadata": {
    "collapsed": false
   },
   "outputs": [],
   "source": [
    "# weights"
   ]
  },
  {
   "cell_type": "code",
   "execution_count": null,
   "metadata": {
    "collapsed": true
   },
   "outputs": [],
   "source": []
  }
 ],
 "metadata": {
  "kernelspec": {
   "display_name": "Python 3",
   "language": "python",
   "name": "python3"
  },
  "language_info": {
   "codemirror_mode": {
    "name": "ipython",
    "version": 3
   },
   "file_extension": ".py",
   "mimetype": "text/x-python",
   "name": "python",
   "nbconvert_exporter": "python",
   "pygments_lexer": "ipython3",
   "version": "3.6.0"
  }
 },
 "nbformat": 4,
 "nbformat_minor": 2
}
