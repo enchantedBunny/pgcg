{
 "cells": [
  {
   "cell_type": "code",
   "execution_count": 1,
   "metadata": {
    "collapsed": false
   },
   "outputs": [],
   "source": [
    "import numpy as np\n",
    "import pyCalc as p\n",
    "import random\n",
    "np.random.seed(1)\n",
    "\n",
    "#this shouldn't exist\n",
    "l0 = p.var(\"function\")\n",
    "l1 = p.var(\"function\")\n",
    "l10 = p.var(\"function\")\n",
    "l2 = p.var(\"function\")\n",
    "l2_errorh = p.var(\"function\")\n",
    "l2_error = p.var(\"function\")\n",
    "sig0 = p.var(\"function\")\n",
    "sig1 = p.var(\"function\")\n",
    "l1_delta = p.var(\"function\")\n",
    "l2_delta = p.var(\"function\")\n",
    "hlp1 = p.var(\"function\")\n",
    "tmp1 = p.var(\"function\")\n",
    "hlp0 = p.var(\"function\")\n",
    "tmp0 = p.var(\"function\")\n",
    "\n",
    "xs = p.var(\"constant\",np.array([ [0,0,1],[0,1,1],[1,0,1],[1,1,1] ]                           \n",
    "                               , dtype= float))\n",
    "ys = p.var(\"constant\", np.array([0,1,1,0], dtype=float))\n",
    "\n",
    "weights = 2*np.random.random((3,4)) - 1\n",
    "weights2 = 2*np.random.random((4,1)) - 1\n",
    "\n",
    "ws0 = p.var(\"independent\", np.array([3,4]))\n",
    "ws1 = p.var(\"independent\", np.array([4,1]))\n",
    "\n",
    "l0.f(xs, ws0, \"*\")\n",
    "l1.sf(l0, \"sigmoid\")\n",
    "\n",
    "l10.f(ws1, l1, \"*\")\n",
    "l2.sf(l10, \"sigmoid\")\n",
    "\n",
    "l2_error.f(ys, l2, \"-\") #error function such as MSE\n",
    "\n",
    "sig1.sf(l2, \"sigmoid_r\")#this should be a part of l2\n",
    "\n",
    "l2_delta.f(sig1, l2_error, \"rowwise\") #it should do rowwise automatically if multiplication not possible\n",
    "hlp1.f(l1,l2_delta, \"rowwise\")\n",
    "tmp1.sf(hlp1, \"rowsum\") #add to ws1\n",
    "\n",
    "sig0.sf(l1, \"sigmoid_r\")#this should be a part of l1\n",
    "\n",
    "l2_errorh.sf(l2_delta, \"transpose\")\n",
    "l1_delta.f(l2_errorh,ws1, \"*\")\n",
    "tmp0.f(l1_delta,xs, \"*\") #add to ws0"
   ]
  },
  {
   "cell_type": "code",
   "execution_count": 2,
   "metadata": {
    "collapsed": false
   },
   "outputs": [
    {
     "name": "stdout",
     "output_type": "stream",
     "text": [
      "[[  4.74516376  -2.53429148  -2.90011697   3.24280022]\n",
      " [-17.80386506   9.01975985   5.5366234  -12.74029483]\n",
      " [ -1.87463494   0.7824925    0.19676802  -0.74696667]]\n",
      "[[-1.19447025]\n",
      " [ 4.00664822]\n",
      " [-5.06568816]\n",
      " [ 2.82538934]]\n"
     ]
    }
   ],
   "source": [
    "g= []\n",
    "for i in range(6000):\n",
    "    t1 = weights2 + tmp1.value(dict([(ws0,weights), (ws1,weights2)]))\n",
    "    t0 = weights + tmp0.value(dict([(ws0,weights), (ws1,weights2)])).T\n",
    "    weights = t0\n",
    "    weights2 = t1\n",
    "    g.append(l2_error.value(dict([(ws0,weights), (ws1,weights2)])).tolist())\n",
    "\n",
    "print(weights)\n",
    "print(weights2)"
   ]
  },
  {
   "cell_type": "code",
   "execution_count": 3,
   "metadata": {
    "collapsed": false
   },
   "outputs": [
    {
     "name": "stdout",
     "output_type": "stream",
     "text": [
      "[[ 0.00701345  0.99483854  0.99662626  0.00628161]]\n",
      "[[-0.00701345  0.00516146  0.00337374 -0.00628161]]\n"
     ]
    }
   ],
   "source": [
    "print(l2.value(dict([(ws0,weights), (ws1,weights2)])))\n",
    "print(l2_error.value(dict([(ws0,weights), (ws1,weights2)])))"
   ]
  },
  {
   "cell_type": "code",
   "execution_count": 4,
   "metadata": {
    "collapsed": false
   },
   "outputs": [
    {
     "data": {
      "image/png": "[encoded data removed]",
      "text/plain": [
       "<matplotlib.figure.Figure at 0x7f0e744261d0>"
      ]
     },
     "metadata": {},
     "output_type": "display_data"
    }
   ],
   "source": [
    "import matplotlib.pyplot as plt\n",
    "x_data = [i for i in range(len(g))]\n",
    "y_data = [[g[j][i] for j in range(len(g))]for i in range(len(g[0]))]\n",
    "for d in y_data:\n",
    "    plt.plot(x_data, d)\n",
    "plt.ylabel('error')\n",
    "plt.xlabel('iter')\n",
    "plt.show()"
   ]
  },
  {
   "cell_type": "code",
   "execution_count": 5,
   "metadata": {
    "collapsed": true
   },
   "outputs": [],
   "source": [
    "X = np.array([ [0,0,1],[0,1,1],[1,0,1],[1,1,1] ])\n",
    "y = np.array([[0,1,1,0]]).T\n",
    "syn0 = 2*np.random.random((3,4)) - 1\n",
    "syn1 = 2*np.random.random((4,1)) - 1\n",
    "import time"
   ]
  },
  {
   "cell_type": "code",
   "execution_count": 6,
   "metadata": {
    "collapsed": false
   },
   "outputs": [
    {
     "name": "stdout",
     "output_type": "stream",
     "text": [
      "0.000265129566192627\n"
     ]
    }
   ],
   "source": [
    "out = 0\n",
    "for i in range(10):\n",
    "    a = time.time()\n",
    "    for j in range(1000):\n",
    "        l1 = 1/(1+np.exp(-(np.dot(X,syn0))))\n",
    "        l2 = 1/(1+np.exp(-(np.dot(l1,syn1))))\n",
    "        l2_delta = (y - l2)*(l2*(1-l2))\n",
    "        l1_delta = l2_delta.dot(syn1.T) * (l1 * (1-l1))\n",
    "        syn1 += l1.T.dot(l2_delta)\n",
    "        syn0 += X.T.dot(l1_delta)\n",
    "    b = time.time()\n",
    "    out += b-a\n",
    "print (out/1000)"
   ]
  },
  {
   "cell_type": "code",
   "execution_count": 7,
   "metadata": {
    "collapsed": false
   },
   "outputs": [
    {
     "name": "stdout",
     "output_type": "stream",
     "text": [
      "0.0011549646854400635\n"
     ]
    }
   ],
   "source": [
    "out = 0\n",
    "for i in range(10):\n",
    "    a = time.time()\n",
    "    for i in range(1000):\n",
    "        t1 = weights2 + tmp1.value(dict([(ws0,weights), (ws1,weights2)]))\n",
    "        t0 = weights + tmp0.value(dict([(ws0,weights), (ws1,weights2)])).T\n",
    "        weights = t0\n",
    "        weights2 = t1\n",
    "    b = time.time()\n",
    "    out += b-a\n",
    "print (out/1000)"
   ]
  },
  {
   "cell_type": "code",
   "execution_count": null,
   "metadata": {
    "collapsed": true
   },
   "outputs": [],
   "source": []
  }
 ],
 "metadata": {
  "kernelspec": {
   "display_name": "Python 3",
   "language": "python",
   "name": "python3"
  },
  "language_info": {
   "codemirror_mode": {
    "name": "ipython",
    "version": 3
   },
   "file_extension": ".py",
   "mimetype": "text/x-python",
   "name": "python",
   "nbconvert_exporter": "python",
   "pygments_lexer": "ipython3",
   "version": "3.6.0"
  }
 },
 "nbformat": 4,
 "nbformat_minor": 2
}
