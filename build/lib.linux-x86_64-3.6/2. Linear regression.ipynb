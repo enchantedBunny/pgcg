{
 "cells": [
  {
   "cell_type": "code",
   "execution_count": 15,
   "metadata": {
    "collapsed": false
   },
   "outputs": [
    {
     "name": "stderr",
     "output_type": "stream",
     "text": [
      "Exception ignored in: 'pyCalc.cError'\n",
      "ValueError: <invalid operation: colwise* >left is a 4x1 matrix but right is a 4x1 matrix\n"
     ]
    },
    {
     "data": {
      "image/png": "[encoded data removed]",
      "text/plain": [
       "<matplotlib.figure.Figure at 0x7f1487da2940>"
      ]
     },
     "metadata": {},
     "output_type": "display_data"
    }
   ],
   "source": [
    "import numpy as np\n",
    "import pyCalc as p\n",
    "import random\n",
    "p.setMode(\"quiet\")\n",
    "xs = p.var(\"constant\",np.array([\n",
    "                                   [5,0,0],\n",
    "                                   [1,5,0],\n",
    "                                   [1,0,5],\n",
    "                                   [5,1,1]\n",
    "                               ]\n",
    "                               , dtype= float))\n",
    "ys = p.var(\"constant\", np.array(\n",
    "                                [17,3,-6,5]\n",
    "                                , dtype=float))\n",
    "np.random.seed(1)\n",
    "weights =2*np.random.random((3,1)) - 1\n",
    "ws = p.var(\"independent\", 3,1)\n",
    "\n",
    "l0 = p.function(xs,ws, \"*\") #4x1\n",
    "l1 = p.function(l0, \"sigmoid\") #4x1\n",
    "\n",
    "weights2 =2*np.random.random((1,1)) - 1\n",
    "ws2 = p.var(\"independent\", 1,1)\n",
    "\n",
    "l2 = p.function(l1,ws2, \"*\") #4x1\n",
    "l2_error = p.function(ys.T(), l2, \"-\")\n",
    "\n",
    "\n",
    "\n",
    "tmp2 = p.function(l1.T(),l2_error, \"*\")\n",
    "\n",
    "sig = p.function(l1, \"sigmoid_r\")\n",
    "l1_delta = p.function(sig, l2_error, \"colwise*\")\n",
    "l1_delta2 = p.function(xs.T(),l1_delta, \"*\")\n",
    "\n",
    "tmp = p.function(l1_delta2,ws2, \"*\")\n",
    "\n",
    "tmp.value(dict([(ws,weights), (ws2, weights2)]))\n",
    "g= []\n",
    "h = []\n",
    "for i in range(1000):\n",
    "    t0 = weights + 0.01*tmp.value(dict([(ws,weights), (ws2, weights2)]))\n",
    "    t1 = weights2 + 0.01*tmp2.value(dict([(ws,weights), (ws2, weights2)]))\n",
    "    weights = t0\n",
    "    weights2 = t1\n",
    "    g.append(np.sum(l2_error.value(dict([(ws,weights), (ws2, weights2)]))))\n",
    "    h.append(weights.tolist())\n",
    "\n",
    "\n",
    "import matplotlib.pyplot as plt\n",
    "x_data = [i for i in range(len(g))]\n",
    "y_data = [[h[i][j] for i in range(len(h))] for j in range(len(h[0]))]\n",
    "plt.figure(1)\n",
    "plt.subplot(211)\n",
    "plt.ylabel('error')\n",
    "plt.xlabel('iters')\n",
    "plt.plot(x_data, g, 'k')\n",
    "\n",
    "plt.subplot(212)\n",
    "plt.ylabel('weights')\n",
    "plt.xlabel('iters')\n",
    "for d in y_data:\n",
    "    plt.plot(x_data, d)\n",
    "\n",
    "plt.show()"
   ]
  },
  {
   "cell_type": "code",
   "execution_count": 16,
   "metadata": {
    "collapsed": false
   },
   "outputs": [
    {
     "data": {
      "text/plain": [
       "array([[ 17.07909211]])"
      ]
     },
     "execution_count": 16,
     "metadata": {},
     "output_type": "execute_result"
    }
   ],
   "source": [
    "weights2"
   ]
  },
  {
   "cell_type": "code",
   "execution_count": 17,
   "metadata": {
    "collapsed": false
   },
   "outputs": [
    {
     "data": {
      "text/plain": [
       "array([[ 0.05393164],\n",
       "       [ 1.49652011],\n",
       "       [-6.        ],\n",
       "       [ 3.41610814]])"
      ]
     },
     "execution_count": 17,
     "metadata": {},
     "output_type": "execute_result"
    }
   ],
   "source": [
    "l2_error.value(dict([(ws,weights), (ws2, weights2)]))"
   ]
  },
  {
   "cell_type": "code",
   "execution_count": 18,
   "metadata": {
    "collapsed": false
   },
   "outputs": [
    {
     "data": {
      "text/plain": [
       "array([[  9.92211310e-01],\n",
       "       [  8.80304341e-02],\n",
       "       [  2.39522521e-14],\n",
       "       [  9.27386451e-02]])"
      ]
     },
     "execution_count": 18,
     "metadata": {},
     "output_type": "execute_result"
    }
   ],
   "source": [
    "l1.value(dict([(ws,weights), (ws2, weights2)]))"
   ]
  },
  {
   "cell_type": "code",
   "execution_count": 19,
   "metadata": {
    "collapsed": false
   },
   "outputs": [
    {
     "data": {
      "text/plain": [
       "array([[  1.69460684e+01],\n",
       "       [  1.50347989e+00],\n",
       "       [  4.09082720e-13],\n",
       "       [  1.58389186e+00]])"
      ]
     },
     "execution_count": 19,
     "metadata": {},
     "output_type": "execute_result"
    }
   ],
   "source": [
    "l2.value(dict([(ws,weights), (ws2, weights2)]))"
   ]
  },
  {
   "cell_type": "code",
   "execution_count": 27,
   "metadata": {
    "collapsed": false
   },
   "outputs": [
    {
     "data": {
      "text/plain": [
       "array([[ 17.,   3.,  -6.,   5.]])"
      ]
     },
     "execution_count": 27,
     "metadata": {},
     "output_type": "execute_result"
    }
   ],
   "source": [
    "xs = p.var(\"constant\",np.array([\n",
    "                                   [5,0,0],\n",
    "                                   [1,5,0],\n",
    "                                   [1,0,5],\n",
    "                                   [5,1,1]\n",
    "                               ]\n",
    "                               , dtype= float))\n",
    "ys = p.var(\"constant\", np.array(\n",
    "                                [17,3,-6,5]\n",
    "                                , dtype=float))\n",
    "ys.value()"
   ]
  },
  {
   "cell_type": "code",
   "execution_count": 80,
   "metadata": {
    "collapsed": false
   },
   "outputs": [
    {
     "name": "stderr",
     "output_type": "stream",
     "text": [
      "Exception ignored in: 'pyCalc.cError'\n",
      "ValueError: <invalid operation: colwise* >left is a 100x1 matrix but right is a 100x1 matrix\n"
     ]
    },
    {
     "data": {
      "image/png": "[encoded data removed]",
      "text/plain": [
       "<matplotlib.figure.Figure at 0x7f14880c6c50>"
      ]
     },
     "metadata": {},
     "output_type": "display_data"
    }
   ],
   "source": [
    "from math import exp\n",
    "import numpy as np\n",
    "import pyCalc as p\n",
    "import random\n",
    "p.setMode(\"quiet\")\n",
    "xxx = [[random.randint(1,101),random.randint(1,101),random.randint(1,101)] for x in range(100)]\n",
    "xs = p.var(\"constant\",np.array(xxx\n",
    "                               , dtype= float))\n",
    "\n",
    "yy = [3*(1/(1+exp(-2*d[0]+3*d[1]+d[2]))) for d in xxx]\n",
    "ys = p.var(\"constant\",np.array(yy\n",
    "                               , dtype= float))\n",
    "\n",
    "np.random.seed(1)\n",
    "weights =2*np.random.random((3,1)) - 1\n",
    "ws = p.var(\"independent\", 3,1)\n",
    "\n",
    "l0 = p.function(xs,ws, \"*\") #4x1\n",
    "l1 = p.function(l0, \"sigmoid\") #4x1\n",
    "\n",
    "weights2 =2*np.random.random((1,1)) - 1\n",
    "ws2 = p.var(\"independent\", 1,1)\n",
    "\n",
    "l2 = p.function(l1,ws2, \"*\") #4x1\n",
    "l2_error = p.function(ys.T(), l2, \"-\")\n",
    "\n",
    "\n",
    "\n",
    "tmp2 = p.function(l1.T(),l2_error, \"*\")\n",
    "\n",
    "sig = p.function(l1, \"sigmoid_r\")\n",
    "l1_delta = p.function(sig, l2_error, \"colwise*\")\n",
    "l1_delta2 = p.function(xs.T(),l1_delta, \"*\")\n",
    "\n",
    "tmp = p.function(l1_delta2,ws2, \"*\")\n",
    "\n",
    "tmp.value(dict([(ws,weights), (ws2, weights2)]))\n",
    "g= []\n",
    "h = []\n",
    "for i in range(5000):\n",
    "    t0 = weights + 0.01*tmp.value(dict([(ws,weights), (ws2, weights2)]))\n",
    "    t1 = weights2 + 0.01*tmp2.value(dict([(ws,weights), (ws2, weights2)]))\n",
    "    weights = t0\n",
    "    weights2 = t1\n",
    "    g.append(np.sum(l2_error.value(dict([(ws,weights), (ws2, weights2)]))))\n",
    "    h.append(weights.tolist())\n",
    "\n",
    "\n",
    "import matplotlib.pyplot as plt\n",
    "x_data = [i for i in range(len(g))]\n",
    "y_data = [[h[i][j] for i in range(len(h))] for j in range(len(h[0]))]\n",
    "plt.figure(1)\n",
    "plt.subplot(211)\n",
    "plt.ylabel('error')\n",
    "plt.xlabel('iters')\n",
    "plt.plot(x_data, g, 'k')\n",
    "\n",
    "plt.subplot(212)\n",
    "plt.ylabel('weights')\n",
    "plt.xlabel('iters')\n",
    "for d in y_data:\n",
    "    plt.plot(x_data, d)\n",
    "\n",
    "plt.show()"
   ]
  },
  {
   "cell_type": "code",
   "execution_count": 81,
   "metadata": {
    "collapsed": false
   },
   "outputs": [
    {
     "data": {
      "text/plain": [
       "array([[-0.49173756],\n",
       "       [ 0.08367581],\n",
       "       [-1.04233992]])"
      ]
     },
     "execution_count": 81,
     "metadata": {},
     "output_type": "execute_result"
    }
   ],
   "source": [
    "weights"
   ]
  },
  {
   "cell_type": "code",
   "execution_count": 82,
   "metadata": {
    "collapsed": false
   },
   "outputs": [
    {
     "data": {
      "text/plain": [
       "array([[  4.81897329e-53],\n",
       "       [  3.04980696e-19],\n",
       "       [  6.10146124e-16],\n",
       "       [  2.75528736e-03],\n",
       "       [  1.54992619e-54],\n",
       "       [  1.10899940e-41],\n",
       "       [  1.95769533e-49],\n",
       "       [  6.21242728e-37],\n",
       "       [  1.00496062e-26],\n",
       "       [  3.00000000e+00],\n",
       "       [  9.04549355e-40],\n",
       "       [  7.02233608e-54],\n",
       "       [  3.79312709e-49],\n",
       "       [  7.29852674e-25],\n",
       "       [  5.87081453e-25],\n",
       "       [  2.99999988e+00],\n",
       "       [  3.93590449e-50],\n",
       "       [  1.39766584e-14],\n",
       "       [  1.11083611e-30],\n",
       "       [  2.49817073e-50],\n",
       "       [  1.22478095e-38],\n",
       "       [  5.63858645e-12],\n",
       "       [  1.49180893e-08],\n",
       "       [  5.55638411e-45],\n",
       "       [  3.00000000e+00],\n",
       "       [  5.31233577e-27],\n",
       "       [  1.99073036e-37],\n",
       "       [  6.95970806e-22],\n",
       "       [  3.00000000e+00],\n",
       "       [  1.16219929e-20],\n",
       "       [  1.81638057e-38],\n",
       "       [  4.64662815e-44],\n",
       "       [  4.26934407e-21],\n",
       "       [  2.13129895e-34],\n",
       "       [  1.89453049e-22],\n",
       "       [  2.88723894e-40],\n",
       "       [  3.00000000e+00],\n",
       "       [  6.42461048e-15],\n",
       "       [  6.80418375e-25],\n",
       "       [  4.65143044e-43],\n",
       "       [  1.94107048e-25],\n",
       "       [  9.04322636e-40],\n",
       "       [  2.94604137e+00],\n",
       "       [  3.54755904e-44],\n",
       "       [  3.00000000e+00],\n",
       "       [  3.14636063e-28],\n",
       "       [  3.00000000e+00],\n",
       "       [  4.10459559e-46],\n",
       "       [  3.64829790e-37],\n",
       "       [  9.65090964e-32],\n",
       "       [  3.00000000e+00],\n",
       "       [  5.93777963e-32],\n",
       "       [  1.89153568e-15],\n",
       "       [  9.87041296e-51],\n",
       "       [  2.12867499e-22],\n",
       "       [  2.88080402e-23],\n",
       "       [  6.92461003e-11],\n",
       "       [  7.32780292e-36],\n",
       "       [  2.07815676e-57],\n",
       "       [  6.95856849e-16],\n",
       "       [  4.68864777e-18],\n",
       "       [  2.15501277e-32],\n",
       "       [  3.82138118e-48],\n",
       "       [  1.23920751e-42],\n",
       "       [  3.00000000e+00],\n",
       "       [  3.89874428e-24],\n",
       "       [  3.00000000e+00],\n",
       "       [  3.98400933e-10],\n",
       "       [  4.27118518e-24],\n",
       "       [  1.32059967e-17],\n",
       "       [  1.18792558e-20],\n",
       "       [  4.30417809e-27],\n",
       "       [  2.90793133e-18],\n",
       "       [  1.52305444e-20],\n",
       "       [  1.47183121e-34],\n",
       "       [  3.00000000e+00],\n",
       "       [  3.37139477e-33],\n",
       "       [  3.58992642e-19],\n",
       "       [  2.85772238e+00],\n",
       "       [  1.51846283e-25],\n",
       "       [  1.94107048e-25],\n",
       "       [  3.00000000e+00],\n",
       "       [  9.10565023e-38],\n",
       "       [  3.83331660e-14],\n",
       "       [  3.55206040e-24],\n",
       "       [  1.23603877e-23],\n",
       "       [  1.00605039e-03],\n",
       "       [  1.75767991e-56],\n",
       "       [  1.07627559e-19],\n",
       "       [  5.41543410e-21],\n",
       "       [  3.24935816e-28],\n",
       "       [  3.00000000e+00],\n",
       "       [  3.00000000e+00],\n",
       "       [  5.89773396e-28],\n",
       "       [  6.42552898e-14],\n",
       "       [  3.00000000e+00],\n",
       "       [  3.74800699e-29],\n",
       "       [  2.49458408e-06],\n",
       "       [  2.55991429e-16],\n",
       "       [  3.00000000e+00]])"
      ]
     },
     "execution_count": 82,
     "metadata": {},
     "output_type": "execute_result"
    }
   ],
   "source": [
    "l2_error.value(dict([(ws,weights), (ws2, weights2)]))"
   ]
  },
  {
   "cell_type": "code",
   "execution_count": null,
   "metadata": {
    "collapsed": true
   },
   "outputs": [],
   "source": []
  }
 ],
 "metadata": {
  "kernelspec": {
   "display_name": "Python 3",
   "language": "python",
   "name": "python3"
  },
  "language_info": {
   "codemirror_mode": {
    "name": "ipython",
    "version": 3
   },
   "file_extension": ".py",
   "mimetype": "text/x-python",
   "name": "python",
   "nbconvert_exporter": "python",
   "pygments_lexer": "ipython3",
   "version": "3.6.0"
  }
 },
 "nbformat": 4,
 "nbformat_minor": 2
}
