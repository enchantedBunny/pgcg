{
 "cells": [
  {
   "cell_type": "code",
   "execution_count": 1,
   "metadata": {
    "collapsed": false
   },
   "outputs": [
    {
     "name": "stderr",
     "output_type": "stream",
     "text": [
      "Exception ignored in: 'pyCalc.cError'\n",
      "ValueError: <invalid operation: colwise* >left is a 4x1 matrix but right is a 4x1 matrix\n"
     ]
    },
    {
     "data": {
      "image/png": "[encoded data removed]",
      "text/plain": [
       "<matplotlib.figure.Figure at 0x7f7f98e5c668>"
      ]
     },
     "metadata": {},
     "output_type": "display_data"
    }
   ],
   "source": [
    "import numpy as np\n",
    "import pyCalc as p\n",
    "import random\n",
    "p.setMode(\"quiet\")\n",
    "xs = p.var(\"constant\",np.array([\n",
    "                                   [1,0,0],\n",
    "                                   [1,1,0],\n",
    "                                   [1,0,1],\n",
    "                                   [1,1,1]\n",
    "                               ]\n",
    "                               , dtype= float))\n",
    "ys = p.var(\"constant\", np.array(\n",
    "                                [0,0,5,5]\n",
    "                                , dtype=float))\n",
    "np.random.seed(1)\n",
    "weights =2*np.random.random((3,1)) - 1\n",
    "ws = p.var(\"independent\", 3,1)\n",
    "\n",
    "l0 = p.function(xs,ws, \"*\") #4x1\n",
    "l1 = p.function(l0, \"sigmoid\") #4x1\n",
    "\n",
    "weights2 =np.array([ 2.5 ] , dtype= float)\n",
    "ws2 = p.var(\"independent\", 1,1)\n",
    "\n",
    "l2 = p.function(l1,ws2, \"*\") #4x1\n",
    "l2_error = p.function(ys.T(), l2, \"-\")\n",
    "\n",
    "\n",
    "\n",
    "tmp2 = p.function(l1.T(),l2_error, \"*\")\n",
    "\n",
    "sig = p.function(l1, \"sigmoid_r\")\n",
    "l1_delta = p.function(sig, l2_error, \"colwise*\")\n",
    "l1_delta2 = p.function(xs.T(),l1_delta, \"*\")\n",
    "\n",
    "tmp = p.function(l1_delta2,ws2, \"*\")\n",
    "\n",
    "tmp.value(dict([(ws,weights), (ws2, weights2)]))\n",
    "g= []\n",
    "h = []\n",
    "for i in range(100000):\n",
    "    t0 = weights + 0.01*tmp.value(dict([(ws,weights), (ws2, weights2)]))\n",
    "    t1 = weights2 + 0.001*tmp2.value(dict([(ws,weights), (ws2, weights2)]))\n",
    "    weights = t0\n",
    "    weights2 = t1\n",
    "    g.append(np.sum(l2_error.value(dict([(ws,weights), (ws2, weights2)]))))\n",
    "    h.append(weights.tolist())\n",
    "\n",
    "\n",
    "import matplotlib.pyplot as plt\n",
    "x_data = [i for i in range(len(g))]\n",
    "y_data = [[h[i][j] for i in range(len(h))] for j in range(len(h[0]))]\n",
    "plt.figure(1)\n",
    "plt.subplot(211)\n",
    "plt.ylabel('error')\n",
    "plt.xlabel('iters')\n",
    "plt.plot(x_data, g, 'k')\n",
    "\n",
    "plt.subplot(212)\n",
    "plt.ylabel('weights')\n",
    "plt.xlabel('iters')\n",
    "for d in y_data:\n",
    "    plt.plot(x_data, d)\n",
    "\n",
    "plt.show()"
   ]
  },
  {
   "cell_type": "code",
   "execution_count": 2,
   "metadata": {
    "collapsed": false
   },
   "outputs": [
    {
     "data": {
      "text/plain": [
       "array([[ 0.020933  ],\n",
       "       [ 0.02086294],\n",
       "       [ 5.0002096 ],\n",
       "       [ 4.99888689]])"
      ]
     },
     "execution_count": 2,
     "metadata": {},
     "output_type": "execute_result"
    }
   ],
   "source": [
    "l2.value(dict([(ws,weights), (ws2, weights2)]))"
   ]
  },
  {
   "cell_type": "code",
   "execution_count": 3,
   "metadata": {
    "collapsed": false
   },
   "outputs": [
    {
     "data": {
      "text/plain": [
       "array([[ 5.42610157]])"
      ]
     },
     "execution_count": 3,
     "metadata": {},
     "output_type": "execute_result"
    }
   ],
   "source": [
    "weights2"
   ]
  },
  {
   "cell_type": "code",
   "execution_count": 4,
   "metadata": {
    "collapsed": false
   },
   "outputs": [
    {
     "data": {
      "text/plain": [
       "array([[-0.020933  ],\n",
       "       [-0.02086294],\n",
       "       [-0.0002096 ],\n",
       "       [ 0.00111311]])"
      ]
     },
     "execution_count": 4,
     "metadata": {},
     "output_type": "execute_result"
    }
   ],
   "source": [
    "l2_error.value(dict([(ws,weights), (ws2, weights2)]))"
   ]
  },
  {
   "cell_type": "code",
   "execution_count": 5,
   "metadata": {
    "collapsed": false
   },
   "outputs": [
    {
     "data": {
      "text/plain": [
       "array([[ 0.00385783],\n",
       "       [ 0.00384492],\n",
       "       [ 0.92151051],\n",
       "       [ 0.92126674]])"
      ]
     },
     "execution_count": 5,
     "metadata": {},
     "output_type": "execute_result"
    }
   ],
   "source": [
    "l1.value(dict([(ws,weights), (ws2, weights2)]))"
   ]
  },
  {
   "cell_type": "code",
   "execution_count": 6,
   "metadata": {
    "collapsed": false
   },
   "outputs": [
    {
     "data": {
      "text/plain": [
       "array([[ 0.020933  ],\n",
       "       [ 0.02086294],\n",
       "       [ 5.0002096 ],\n",
       "       [ 4.99888689]])"
      ]
     },
     "execution_count": 6,
     "metadata": {},
     "output_type": "execute_result"
    }
   ],
   "source": [
    "l2.value(dict([(ws,weights), (ws2, weights2)]))"
   ]
  },
  {
   "cell_type": "code",
   "execution_count": 7,
   "metadata": {
    "collapsed": false
   },
   "outputs": [
    {
     "data": {
      "text/plain": [
       "array([[ 17.,   3.,  -6.,   5.]])"
      ]
     },
     "execution_count": 7,
     "metadata": {},
     "output_type": "execute_result"
    }
   ],
   "source": [
    "xs = p.var(\"constant\",np.array([\n",
    "                                   [5,0,0],\n",
    "                                   [1,5,0],\n",
    "                                   [1,0,5],\n",
    "                                   [5,1,1]\n",
    "                               ]\n",
    "                               , dtype= float))\n",
    "ys = p.var(\"constant\", np.array(\n",
    "                                [17,3,-6,5]\n",
    "                                , dtype=float))\n",
    "ys.value()"
   ]
  },
  {
   "cell_type": "code",
   "execution_count": 8,
   "metadata": {
    "collapsed": false
   },
   "outputs": [
    {
     "name": "stderr",
     "output_type": "stream",
     "text": [
      "Exception ignored in: 'pyCalc.cError'\n",
      "ValueError: <invalid operation: colwise* >left is a 100x1 matrix but right is a 100x1 matrix\n"
     ]
    },
    {
     "data": {
      "image/png": "[encoded data removed]",
      "text/plain": [
       "<matplotlib.figure.Figure at 0x7f7f6475eda0>"
      ]
     },
     "metadata": {},
     "output_type": "display_data"
    }
   ],
   "source": [
    "from math import exp\n",
    "import numpy as np\n",
    "import pyCalc as p\n",
    "import random\n",
    "p.setMode(\"quiet\")\n",
    "xxx = [[random.randint(1,101),random.randint(1,101),random.randint(1,101)] for x in range(100)]\n",
    "xs = p.var(\"constant\",np.array(xxx\n",
    "                               , dtype= float))\n",
    "\n",
    "yy = [3*(1/(1+exp(-2*d[0]+3*d[1]+d[2]))) for d in xxx]\n",
    "ys = p.var(\"constant\",np.array(yy\n",
    "                               , dtype= float))\n",
    "\n",
    "np.random.seed(1)\n",
    "weights =2*np.random.random((3,1)) - 1\n",
    "ws = p.var(\"independent\", 3,1)\n",
    "\n",
    "l0 = p.function(xs,ws, \"*\") #4x1\n",
    "l1 = p.function(l0, \"sigmoid\") #4x1\n",
    "\n",
    "weights2 =2*np.random.random((1,1)) - 1\n",
    "ws2 = p.var(\"independent\", 1,1)\n",
    "\n",
    "l2 = p.function(l1,ws2, \"*\") #4x1\n",
    "l2_error = p.function(ys.T(), l2, \"-\")\n",
    "\n",
    "\n",
    "\n",
    "tmp2 = p.function(l1.T(),l2_error, \"*\")\n",
    "\n",
    "sig = p.function(l1, \"sigmoid_r\")\n",
    "l1_delta = p.function(sig, l2_error, \"colwise*\")\n",
    "l1_delta2 = p.function(xs.T(),l1_delta, \"*\")\n",
    "\n",
    "tmp = p.function(l1_delta2,ws2, \"*\")\n",
    "\n",
    "tmp.value(dict([(ws,weights), (ws2, weights2)]))\n",
    "g= []\n",
    "h = []\n",
    "for i in range(100000):\n",
    "    t0 = weights + 0.01*tmp.value(dict([(ws,weights), (ws2, weights2)]))\n",
    "    t1 = weights2 + 0.001*tmp2.value(dict([(ws,weights), (ws2, weights2)]))\n",
    "    weights = t0\n",
    "    weights2 = t1\n",
    "    g.append(np.sum(l2_error.value(dict([(ws,weights), (ws2, weights2)]))))\n",
    "    h.append(weights.tolist())\n",
    "\n",
    "\n",
    "import matplotlib.pyplot as plt\n",
    "x_data = [i for i in range(len(g))]\n",
    "y_data = [[h[i][j] for i in range(len(h))] for j in range(len(h[0]))]\n",
    "plt.figure(1)\n",
    "plt.subplot(211)\n",
    "plt.ylabel('error')\n",
    "plt.xlabel('iters')\n",
    "plt.plot(x_data, g, 'k')\n",
    "\n",
    "plt.subplot(212)\n",
    "plt.ylabel('weights')\n",
    "plt.xlabel('iters')\n",
    "for d in y_data:\n",
    "    plt.plot(x_data, d)\n",
    "\n",
    "plt.show()"
   ]
  },
  {
   "cell_type": "code",
   "execution_count": 9,
   "metadata": {
    "collapsed": false
   },
   "outputs": [
    {
     "data": {
      "text/plain": [
       "array([[-0.29324288]])"
      ]
     },
     "execution_count": 9,
     "metadata": {},
     "output_type": "execute_result"
    }
   ],
   "source": [
    "weights2"
   ]
  },
  {
   "cell_type": "code",
   "execution_count": 10,
   "metadata": {
    "collapsed": false
   },
   "outputs": [
    {
     "data": {
      "text/plain": [
       "array([[-0.34479302],\n",
       "       [-0.0891443 ],\n",
       "       [-1.05555975]])"
      ]
     },
     "execution_count": 10,
     "metadata": {},
     "output_type": "execute_result"
    }
   ],
   "source": [
    "weights"
   ]
  },
  {
   "cell_type": "code",
   "execution_count": 11,
   "metadata": {
    "collapsed": false
   },
   "outputs": [
    {
     "data": {
      "text/plain": [
       "array([[  1.77002716e-28],\n",
       "       [  1.84325238e-05],\n",
       "       [  5.97597230e-27],\n",
       "       [  3.00000000e+00],\n",
       "       [  1.79305098e-48],\n",
       "       [  1.62904149e-16],\n",
       "       [  8.51534001e-21],\n",
       "       [  9.17706681e-07],\n",
       "       [  2.91361987e-21],\n",
       "       [  3.82508724e-47],\n",
       "       [  5.58861113e-50],\n",
       "       [  2.99899395e+00],\n",
       "       [  2.50341512e-25],\n",
       "       [  3.00000000e+00],\n",
       "       [  3.00000000e+00],\n",
       "       [  3.24061864e-07],\n",
       "       [  3.00000000e+00],\n",
       "       [  1.34213379e-37],\n",
       "       [  3.15918521e-20],\n",
       "       [  1.52014877e-47],\n",
       "       [  3.15056347e-16],\n",
       "       [  1.57433320e-12],\n",
       "       [  1.50000000e+00],\n",
       "       [  9.91710188e-37],\n",
       "       [  8.63360191e-51],\n",
       "       [  3.00000000e+00],\n",
       "       [  5.43099737e-40],\n",
       "       [  1.03909984e-40],\n",
       "       [  3.14226447e-27],\n",
       "       [  1.04096423e-19],\n",
       "       [  2.64239123e+00],\n",
       "       [  4.07260483e-33],\n",
       "       [  9.31236495e-34],\n",
       "       [  2.49458408e-06],\n",
       "       [  6.20788483e-19],\n",
       "       [  2.35345276e-64],\n",
       "       [  1.39766584e-14],\n",
       "       [  7.41786993e-03],\n",
       "       [  1.13344812e-42],\n",
       "       [  1.39766584e-14],\n",
       "       [  3.57608766e-01],\n",
       "       [  1.43426787e-24],\n",
       "       [  2.99999998e+00],\n",
       "       [  7.15620069e-32],\n",
       "       [  1.55757212e-49],\n",
       "       [  3.00000000e+00],\n",
       "       [  2.27953067e-57],\n",
       "       [  2.64239123e+00],\n",
       "       [  2.94604137e+00],\n",
       "       [  2.62695351e-26],\n",
       "       [  2.33433967e-19],\n",
       "       [  9.10856611e-29],\n",
       "       [  1.36193606e-04],\n",
       "       [  4.22112229e-19],\n",
       "       [  1.86861724e-33],\n",
       "       [  1.83857429e-52],\n",
       "       [  3.00000000e+00],\n",
       "       [  1.10800634e-11],\n",
       "       [  3.00000000e+00],\n",
       "       [  5.29722701e-30],\n",
       "       [  3.00000000e+00],\n",
       "       [  1.39293683e-12],\n",
       "       [  1.87947053e-45],\n",
       "       [  1.78396291e-17],\n",
       "       [  1.09674640e-16],\n",
       "       [  2.73315358e-03],\n",
       "       [  1.47636373e-27],\n",
       "       [  6.51156603e-29],\n",
       "       [  7.51970243e-46],\n",
       "       [  3.00000000e+00],\n",
       "       [  1.48271056e-11],\n",
       "       [  1.32197392e-16],\n",
       "       [  3.00000000e+00],\n",
       "       [  3.00000000e+00],\n",
       "       [  3.00000000e+00],\n",
       "       [  1.72783287e-21],\n",
       "       [  4.16715359e-11],\n",
       "       [  4.38745868e-31],\n",
       "       [  1.74128756e-44],\n",
       "       [  5.07726319e-04],\n",
       "       [  1.46323563e-15],\n",
       "       [  9.24159382e-48],\n",
       "       [  6.50750251e-21],\n",
       "       [  1.36208446e-24],\n",
       "       [  4.16638316e-11],\n",
       "       [  1.71695330e-32],\n",
       "       [  9.16329279e-38],\n",
       "       [  4.96256034e-49],\n",
       "       [  2.45215595e-10],\n",
       "       [  2.83689463e-40],\n",
       "       [  6.92153396e-58],\n",
       "       [  7.31586495e-26],\n",
       "       [  1.44366548e-22],\n",
       "       [  1.53272671e-11],\n",
       "       [  5.92700433e-20],\n",
       "       [  3.66853890e-47],\n",
       "       [  6.20431339e-51],\n",
       "       [  4.23579279e-54],\n",
       "       [  1.64962728e-24],\n",
       "       [  8.58755574e-20]])"
      ]
     },
     "execution_count": 11,
     "metadata": {},
     "output_type": "execute_result"
    }
   ],
   "source": [
    "l2_error.value(dict([(ws,weights), (ws2, weights2)]))"
   ]
  },
  {
   "cell_type": "code",
   "execution_count": 12,
   "metadata": {
    "collapsed": false
   },
   "outputs": [
    {
     "data": {
      "text/plain": [
       "[1.7700271624791183e-28,\n",
       " 1.8432523806644153e-05,\n",
       " 1.8367630697488912e-81,\n",
       " 3.0,\n",
       " 1.5273212426850327e-87,\n",
       " 3.8849945775269506e-100,\n",
       " 1.962852185715437e-68,\n",
       " 9.177066807768742e-07,\n",
       " 2.756587864545866e-122,\n",
       " 5.851179900390746e-65,\n",
       " 1.2060180647230065e-73,\n",
       " 2.998993949608601,\n",
       " 7.140799226083201e-26,\n",
       " 2.999999999999962,\n",
       " 2.9999999999997193,\n",
       " 4.2604138740308156e-97,\n",
       " 3.0,\n",
       " 1.3421337918543361e-37,\n",
       " 3.159185207266144e-20,\n",
       " 3.0677067213519102e-86,\n",
       " 2.55991428772322e-16,\n",
       " 5.937779633840714e-32,\n",
       " 1.5,\n",
       " 9.917101880282202e-37,\n",
       " 6.416597894698618e-62,\n",
       " 3.0,\n",
       " 6.416597894698618e-62,\n",
       " 1.0291009583789104e-89,\n",
       " 1.6749111183005662e-84,\n",
       " 5.851179900390746e-65,\n",
       " 2.642391233933647,\n",
       " 8.911335136562072e-73,\n",
       " 5.066735640673597e-48,\n",
       " 2.4945840829923964e-06,\n",
       " 1.2559181997912695e-50,\n",
       " 1.590515599827697e-64,\n",
       " 1.3976658435310127e-14,\n",
       " 0.007417869469904323,\n",
       " 2.1525287919493234e-65,\n",
       " 1.3976658435310127e-14,\n",
       " 0.3576087660663526,\n",
       " 1.4342678651656406e-24,\n",
       " 2.9999999831916107,\n",
       " 1.6749111183005662e-84,\n",
       " 3.2782969901298934e-73,\n",
       " 3.0,\n",
       " 1.7442121457687816e-61,\n",
       " 2.642391233933647,\n",
       " 2.9460413701137256,\n",
       " 2.6269532288089563e-26,\n",
       " 2.334339672340139e-19,\n",
       " 1.192634920772594e-30,\n",
       " 0.00013619360610730318,\n",
       " 1.5103726076294948e-44,\n",
       " 1.9342249064011498e-101,\n",
       " 1.2060180647230065e-73,\n",
       " 3.0,\n",
       " 8.2172726118003e-119,\n",
       " 3.0,\n",
       " 2.6564315650540294e-69,\n",
       " 3.0,\n",
       " 2.0368582372760845e-121,\n",
       " 1.8573742929632235e-124,\n",
       " 2.3954712737060937e-29,\n",
       " 1.5499261898513583e-54,\n",
       " 0.0027331535832019363,\n",
       " 1.7442121457687816e-61,\n",
       " 6.511566033910918e-29,\n",
       " 7.519702427699859e-46,\n",
       " 3.0,\n",
       " 1.0597885716602421e-23,\n",
       " 9.629938765381928e-103,\n",
       " 3.0,\n",
       " 3.0,\n",
       " 3.0,\n",
       " 2.38702316758542e-105,\n",
       " 4.1663831594313434e-11,\n",
       " 4.3874586817536925e-31,\n",
       " 5.257768415223143e-101,\n",
       " 1.5499261898513583e-54,\n",
       " 7.716628117927244e-56,\n",
       " 2.2667457059135878e-85,\n",
       " 1.0875422757430677e-33,\n",
       " 2.579510991690048e-135,\n",
       " 4.1663831594313434e-11,\n",
       " 1.3421337918543361e-37,\n",
       " 8.462310265380405e-53,\n",
       " 2.5225791374410927e-49,\n",
       " 9.417398376144088e-17,\n",
       " 1.2060180647230065e-73,\n",
       " 1.5273212426850327e-87,\n",
       " 1.0716809812857653e-66,\n",
       " 8.781367489546104e-106,\n",
       " 1.5327267084111663e-11,\n",
       " 3.159185207266144e-20,\n",
       " 1.830285359286613e-157,\n",
       " 2.8387888397509135e-56,\n",
       " 3.1946359807245194e-63,\n",
       " 3.5033437455711254e-60,\n",
       " 8.587555741648182e-20]"
      ]
     },
     "execution_count": 12,
     "metadata": {},
     "output_type": "execute_result"
    }
   ],
   "source": [
    "yy"
   ]
  },
  {
   "cell_type": "code",
   "execution_count": 13,
   "metadata": {
    "collapsed": false
   },
   "outputs": [
    {
     "data": {
      "image/png": "[encoded data removed]",
      "text/plain": [
       "<matplotlib.figure.Figure at 0x7f7f8c90dbe0>"
      ]
     },
     "metadata": {},
     "output_type": "display_data"
    }
   ],
   "source": [
    "plt.subplot(111)\n",
    "x_data = [i for i in range(len(yy))]\n",
    "\n",
    "plt.plot(x_data,[i[0] for i in l2_error.value(dict([(ws,weights), (ws2, weights2)])).tolist()])\n",
    "plt.show()"
   ]
  },
  {
   "cell_type": "code",
   "execution_count": 14,
   "metadata": {
    "collapsed": false
   },
   "outputs": [
    {
     "data": {
      "image/png": "[encoded data removed]",
      "text/plain": [
       "<matplotlib.figure.Figure at 0x7f7f687ec438>"
      ]
     },
     "metadata": {},
     "output_type": "display_data"
    }
   ],
   "source": [
    "plt.plot(x_data,yy)\n",
    "plt.show()"
   ]
  },
  {
   "cell_type": "code",
   "execution_count": null,
   "metadata": {
    "collapsed": true
   },
   "outputs": [],
   "source": []
  }
 ],
 "metadata": {
  "kernelspec": {
   "display_name": "Python 3",
   "language": "python",
   "name": "python3"
  },
  "language_info": {
   "codemirror_mode": {
    "name": "ipython",
    "version": 3
   },
   "file_extension": ".py",
   "mimetype": "text/x-python",
   "name": "python",
   "nbconvert_exporter": "python",
   "pygments_lexer": "ipython3",
   "version": "3.6.0"
  }
 },
 "nbformat": 4,
 "nbformat_minor": 2
}
