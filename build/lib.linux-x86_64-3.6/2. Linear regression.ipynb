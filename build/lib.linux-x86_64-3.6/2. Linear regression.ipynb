{
 "cells": [
  {
   "cell_type": "code",
   "execution_count": 1,
   "metadata": {
    "collapsed": false
   },
   "outputs": [
    {
     "name": "stderr",
     "output_type": "stream",
     "text": [
      "Exception ignored in: 'pyCalc.cError'\n",
      "ValueError: <invalid operation: colwise* >left is a 4x1 matrix but right is a 4x1 matrix\n"
     ]
    },
    {
     "data": {
      "image/png": "[encoded data removed]",
      "text/plain": [
       "<matplotlib.figure.Figure at 0x7f0864365208>"
      ]
     },
     "metadata": {},
     "output_type": "display_data"
    }
   ],
   "source": [
    "import numpy as np\n",
    "import pyCalc as p\n",
    "import random\n",
    "p.setMode(\"quiet\")\n",
    "xs = p.var(\"constant\",np.array([\n",
    "                                   [1,0,0],\n",
    "                                   [1,1,0],\n",
    "                                   [1,0,1],\n",
    "                                   [1,1,1]\n",
    "                               ]\n",
    "                               , dtype= float))\n",
    "ys = p.var(\"constant\", np.array(\n",
    "                                [0,0,5,5]\n",
    "                                , dtype=float))\n",
    "np.random.seed(1)\n",
    "weights =2*np.random.random((3,1)) - 1\n",
    "ws = p.var(\"independent\", 3,1)\n",
    "\n",
    "l0 = p.function(xs,ws, \"*\") #4x1\n",
    "l1 = p.function(l0, \"sigmoid\") #4x1\n",
    "\n",
    "weights2 =np.array([ 2.5 ] , dtype= float)\n",
    "ws2 = p.var(\"independent\", 1,1)\n",
    "\n",
    "l2 = p.function(l1,ws2, \"*\") #4x1\n",
    "l2_error = p.function(ys.T(), l2, \"-\")\n",
    "\n",
    "\n",
    "\n",
    "tmp2 = p.function(l1.T(),l2_error, \"*\")\n",
    "\n",
    "sig = p.function(l1, \"sigmoid_r\")\n",
    "l1_delta = p.function(sig, l2_error, \"colwise*\")\n",
    "l1_delta2 = p.function(xs.T(),l1_delta, \"*\")\n",
    "\n",
    "tmp = p.function(l1_delta2,ws2, \"*\")\n",
    "\n",
    "tmp.value(dict([(ws,weights), (ws2, weights2)]))\n",
    "g= []\n",
    "h = []\n",
    "for i in range(100000):\n",
    "    t0 = weights + 0.01*tmp.value(dict([(ws,weights), (ws2, weights2)]))\n",
    "    t1 = weights2 + 0.001*tmp2.value(dict([(ws,weights), (ws2, weights2)]))\n",
    "    weights = t0\n",
    "    weights2 = t1\n",
    "    g.append(np.sum(l2_error.value(dict([(ws,weights), (ws2, weights2)]))))\n",
    "    h.append(weights.tolist())\n",
    "\n",
    "\n",
    "import matplotlib.pyplot as plt\n",
    "x_data = [i for i in range(len(g))]\n",
    "y_data = [[h[i][j] for i in range(len(h))] for j in range(len(h[0]))]\n",
    "plt.figure(1)\n",
    "plt.subplot(211)\n",
    "plt.ylabel('error')\n",
    "plt.xlabel('iters')\n",
    "plt.plot(x_data, g, 'k')\n",
    "\n",
    "plt.subplot(212)\n",
    "plt.ylabel('weights')\n",
    "plt.xlabel('iters')\n",
    "for d in y_data:\n",
    "    plt.plot(x_data, d)\n",
    "\n",
    "plt.show()"
   ]
  },
  {
   "cell_type": "code",
   "execution_count": 2,
   "metadata": {
    "collapsed": false
   },
   "outputs": [
    {
     "data": {
      "text/plain": [
       "array([[ 0.020933  ],\n",
       "       [ 0.02086294],\n",
       "       [ 5.0002096 ],\n",
       "       [ 4.99888689]])"
      ]
     },
     "execution_count": 2,
     "metadata": {},
     "output_type": "execute_result"
    }
   ],
   "source": [
    "l2.value(dict([(ws,weights), (ws2, weights2)]))"
   ]
  },
  {
   "cell_type": "code",
   "execution_count": 3,
   "metadata": {
    "collapsed": false
   },
   "outputs": [
    {
     "data": {
      "text/plain": [
       "array([[ 5.42610157]])"
      ]
     },
     "execution_count": 3,
     "metadata": {},
     "output_type": "execute_result"
    }
   ],
   "source": [
    "weights2"
   ]
  },
  {
   "cell_type": "code",
   "execution_count": 4,
   "metadata": {
    "collapsed": false
   },
   "outputs": [
    {
     "data": {
      "text/plain": [
       "array([[-0.020933  ],\n",
       "       [-0.02086294],\n",
       "       [-0.0002096 ],\n",
       "       [ 0.00111311]])"
      ]
     },
     "execution_count": 4,
     "metadata": {},
     "output_type": "execute_result"
    }
   ],
   "source": [
    "l2_error.value(dict([(ws,weights), (ws2, weights2)]))"
   ]
  },
  {
   "cell_type": "code",
   "execution_count": 5,
   "metadata": {
    "collapsed": false
   },
   "outputs": [
    {
     "data": {
      "text/plain": [
       "array([[ 0.00385783],\n",
       "       [ 0.00384492],\n",
       "       [ 0.92151051],\n",
       "       [ 0.92126674]])"
      ]
     },
     "execution_count": 5,
     "metadata": {},
     "output_type": "execute_result"
    }
   ],
   "source": [
    "l1.value(dict([(ws,weights), (ws2, weights2)]))"
   ]
  },
  {
   "cell_type": "code",
   "execution_count": 6,
   "metadata": {
    "collapsed": false
   },
   "outputs": [
    {
     "data": {
      "text/plain": [
       "array([[ 0.020933  ],\n",
       "       [ 0.02086294],\n",
       "       [ 5.0002096 ],\n",
       "       [ 4.99888689]])"
      ]
     },
     "execution_count": 6,
     "metadata": {},
     "output_type": "execute_result"
    }
   ],
   "source": [
    "l2.value(dict([(ws,weights), (ws2, weights2)]))"
   ]
  },
  {
   "cell_type": "code",
   "execution_count": 7,
   "metadata": {
    "collapsed": false
   },
   "outputs": [
    {
     "data": {
      "text/plain": [
       "array([[ 17.,   3.,  -6.,   5.]])"
      ]
     },
     "execution_count": 7,
     "metadata": {},
     "output_type": "execute_result"
    }
   ],
   "source": [
    "xs = p.var(\"constant\",np.array([\n",
    "                                   [5,0,0],\n",
    "                                   [1,5,0],\n",
    "                                   [1,0,5],\n",
    "                                   [5,1,1]\n",
    "                               ]\n",
    "                               , dtype= float))\n",
    "ys = p.var(\"constant\", np.array(\n",
    "                                [17,3,-6,5]\n",
    "                                , dtype=float))\n",
    "ys.value()"
   ]
  },
  {
   "cell_type": "code",
   "execution_count": 8,
   "metadata": {
    "collapsed": false
   },
   "outputs": [
    {
     "name": "stderr",
     "output_type": "stream",
     "text": [
      "Exception ignored in: 'pyCalc.cError'\n",
      "ValueError: <invalid operation: colwise* >left is a 100x1 matrix but right is a 100x1 matrix\n"
     ]
    },
    {
     "data": {
      "image/png": "[encoded data removed]",
      "text/plain": [
       "<matplotlib.figure.Figure at 0x7f086bfe7748>"
      ]
     },
     "metadata": {},
     "output_type": "display_data"
    }
   ],
   "source": [
    "from math import exp\n",
    "import numpy as np\n",
    "import pyCalc as p\n",
    "import random\n",
    "p.setMode(\"quiet\")\n",
    "xxx = [[random.randint(1,101),random.randint(1,101),random.randint(1,101)] for x in range(100)]\n",
    "xs = p.var(\"constant\",np.array(xxx\n",
    "                               , dtype= float))\n",
    "\n",
    "yy = [3*(1/(1+exp(-2*d[0]+3*d[1]+d[2]))) for d in xxx]\n",
    "ys = p.var(\"constant\",np.array(yy\n",
    "                               , dtype= float))\n",
    "\n",
    "np.random.seed(1)\n",
    "weights =2*np.random.random((3,1)) - 1\n",
    "ws = p.var(\"independent\", 3,1)\n",
    "\n",
    "l0 = p.function(xs,ws, \"*\") #4x1\n",
    "l1 = p.function(l0, \"sigmoid\") #4x1\n",
    "\n",
    "weights2 =2*np.random.random((1,1)) - 1\n",
    "ws2 = p.var(\"independent\", 1,1)\n",
    "\n",
    "l2 = p.function(l1,ws2, \"*\") #4x1\n",
    "l2_error = p.function(ys.T(), l2, \"-\")\n",
    "\n",
    "\n",
    "\n",
    "tmp2 = p.function(l1.T(),l2_error, \"*\")\n",
    "\n",
    "sig = p.function(l1, \"sigmoid_r\")\n",
    "l1_delta = p.function(sig, l2_error, \"colwise*\")\n",
    "l1_delta2 = p.function(xs.T(),l1_delta, \"*\")\n",
    "\n",
    "tmp = p.function(l1_delta2,ws2, \"*\")\n",
    "\n",
    "tmp.value(dict([(ws,weights), (ws2, weights2)]))\n",
    "g= []\n",
    "h = []\n",
    "for i in range(100000):\n",
    "    t0 = weights + 0.01*tmp.value(dict([(ws,weights), (ws2, weights2)]))\n",
    "    t1 = weights2 + 0.001*tmp2.value(dict([(ws,weights), (ws2, weights2)]))\n",
    "    weights = t0\n",
    "    weights2 = t1\n",
    "    g.append(np.sum(l2_error.value(dict([(ws,weights), (ws2, weights2)]))))\n",
    "    h.append(weights.tolist())\n",
    "\n",
    "\n",
    "import matplotlib.pyplot as plt\n",
    "x_data = [i for i in range(len(g))]\n",
    "y_data = [[h[i][j] for i in range(len(h))] for j in range(len(h[0]))]\n",
    "plt.figure(1)\n",
    "plt.subplot(211)\n",
    "plt.ylabel('error')\n",
    "plt.xlabel('iters')\n",
    "plt.plot(x_data, g, 'k')\n",
    "\n",
    "plt.subplot(212)\n",
    "plt.ylabel('weights')\n",
    "plt.xlabel('iters')\n",
    "for d in y_data:\n",
    "    plt.plot(x_data, d)\n",
    "\n",
    "plt.show()"
   ]
  },
  {
   "cell_type": "code",
   "execution_count": 9,
   "metadata": {
    "collapsed": false
   },
   "outputs": [
    {
     "data": {
      "text/plain": [
       "array([[-0.34774525],\n",
       "       [ 0.12021718],\n",
       "       [-1.05400216]])"
      ]
     },
     "execution_count": 9,
     "metadata": {},
     "output_type": "execute_result"
    }
   ],
   "source": [
    "weights"
   ]
  },
  {
   "cell_type": "code",
   "execution_count": 10,
   "metadata": {
    "collapsed": false
   },
   "outputs": [
    {
     "data": {
      "text/plain": [
       "array([[  2.81560055e-49],\n",
       "       [  5.78822144e-43],\n",
       "       [  1.04491732e-20],\n",
       "       [  1.50714574e-20],\n",
       "       [  1.32690308e-10],\n",
       "       [  3.00000000e+00],\n",
       "       [  1.37092974e-27],\n",
       "       [  5.14172529e-15],\n",
       "       [  2.02406645e-11],\n",
       "       [  1.02027781e-14],\n",
       "       [  3.58177298e-43],\n",
       "       [  2.99999908e+00],\n",
       "       [  3.00000000e+00],\n",
       "       [  5.92259781e-13],\n",
       "       [  9.10612737e-26],\n",
       "       [  9.56964098e-09],\n",
       "       [  1.31524619e-47],\n",
       "       [  3.00000000e+00],\n",
       "       [  1.85173384e-23],\n",
       "       [  9.18698391e-40],\n",
       "       [  6.51156603e-29],\n",
       "       [  1.34122518e-56],\n",
       "       [  3.00000000e+00],\n",
       "       [  3.26889213e-30],\n",
       "       [  1.81538412e-11],\n",
       "       [  3.00000000e+00],\n",
       "       [  3.00000000e+00],\n",
       "       [  1.26831535e-28],\n",
       "       [  8.03060237e-23],\n",
       "       [  3.00000000e+00],\n",
       "       [  3.00000000e+00],\n",
       "       [  3.78630884e-32],\n",
       "       [  7.14079923e-26],\n",
       "       [  2.62214550e-13],\n",
       "       [  2.19317574e+00],\n",
       "       [  2.33306007e-44],\n",
       "       [  2.26269458e-23],\n",
       "       [  4.94761593e-47],\n",
       "       [  2.85034263e-36],\n",
       "       [  2.39292890e-45],\n",
       "       [  4.62088813e-09],\n",
       "       [  1.74642473e-41],\n",
       "       [  3.00000000e+00],\n",
       "       [  1.96923809e-13],\n",
       "       [  1.38747514e-30],\n",
       "       [  3.55223923e-04],\n",
       "       [  2.71743475e-45],\n",
       "       [  2.06517847e-10],\n",
       "       [  1.30722242e-32],\n",
       "       [  7.62115637e-23],\n",
       "       [  3.00000000e+00],\n",
       "       [  2.68463318e-49],\n",
       "       [  4.45100492e-27],\n",
       "       [  3.72506269e-14],\n",
       "       [  2.13690991e-11],\n",
       "       [  3.28441711e-36],\n",
       "       [  3.00000000e+00],\n",
       "       [  3.15918521e-20],\n",
       "       [  4.43933636e-11],\n",
       "       [  4.45090032e-19],\n",
       "       [  1.17240877e-12],\n",
       "       [  3.00000000e+00],\n",
       "       [  3.00000000e+00],\n",
       "       [  2.21635769e-41],\n",
       "       [  1.06232626e-23],\n",
       "       [  2.52258069e-49],\n",
       "       [  2.99994990e+00],\n",
       "       [  1.65668378e-23],\n",
       "       [  2.16041576e-46],\n",
       "       [  4.67119478e-12],\n",
       "       [  1.31390267e-11],\n",
       "       [  5.35243027e-08],\n",
       "       [  3.98504927e-38],\n",
       "       [  3.69817090e-23],\n",
       "       [  4.18446034e-27],\n",
       "       [  1.55325354e-52],\n",
       "       [  2.11080973e-43],\n",
       "       [  9.16032823e-10],\n",
       "       [  3.70183728e-04],\n",
       "       [  1.49629553e-24],\n",
       "       [  1.00652203e-33],\n",
       "       [  3.89412449e-09],\n",
       "       [  1.22868920e-30],\n",
       "       [  4.49528507e-17],\n",
       "       [  3.00000000e+00],\n",
       "       [  2.12864225e-22],\n",
       "       [  1.61031693e-38],\n",
       "       [  7.73245122e-44],\n",
       "       [  8.24635502e-43],\n",
       "       [  3.00000000e+00],\n",
       "       [  4.07771248e-33],\n",
       "       [  3.10307429e-16],\n",
       "       [  5.14308557e-15],\n",
       "       [  3.57608786e-01],\n",
       "       [  9.41739838e-17],\n",
       "       [  3.00000000e+00],\n",
       "       [  4.68864657e-18],\n",
       "       [  7.93549165e-10],\n",
       "       [  6.36114201e-16],\n",
       "       [  1.28956289e-28]])"
      ]
     },
     "execution_count": 10,
     "metadata": {},
     "output_type": "execute_result"
    }
   ],
   "source": [
    "l2_error.value(dict([(ws,weights), (ws2, weights2)]))"
   ]
  },
  {
   "cell_type": "code",
   "execution_count": 11,
   "metadata": {
    "collapsed": false
   },
   "outputs": [
    {
     "data": {
      "text/plain": [
       "[1.3571945362818629e-80,\n",
       " 1.0176810579078046e-46,\n",
       " 2.121135168217683e-98,\n",
       " 8.911335136562072e-73,\n",
       " 7.140799226083201e-26,\n",
       " 3.0,\n",
       " 1.962852185715437e-68,\n",
       " 5.14172529462603e-15,\n",
       " 5.7658431834715474e-98,\n",
       " 8.035910885424234e-33,\n",
       " 4.672111122890838e-94,\n",
       " 2.999999082293319,\n",
       " 2.9999999999997193,\n",
       " 2.9131309373342544e-66,\n",
       " 2.6564315650540294e-69,\n",
       " 1.0716809812857653e-66,\n",
       " 1.962852185715437e-68,\n",
       " 3.0,\n",
       " 2.8387888397509135e-56,\n",
       " 8.557270017490694e-96,\n",
       " 6.511566033910918e-29,\n",
       " 2.9131309373342544e-66,\n",
       " 2.9999999996921436,\n",
       " 1.1412102075578885e-129,\n",
       " 9.772465596622564e-70,\n",
       " 3.0,\n",
       " 3.0,\n",
       " 3.743839388738854e-47,\n",
       " 3.0677067213519102e-86,\n",
       " 3.0,\n",
       " 2.9999999999846727,\n",
       " 4.672111122890838e-94,\n",
       " 7.140799226083201e-26,\n",
       " 4.1056184135215597e-44,\n",
       " 2.193175735890015,\n",
       " 2.2336862820150956e-118,\n",
       " 5.199423127024641e-58,\n",
       " 3.5033437455711254e-60,\n",
       " 2.0142552864634782e-78,\n",
       " 9.280050033925682e-50,\n",
       " 7.327802213221583e-36,\n",
       " 4.6556339933142864e-170,\n",
       " 3.0,\n",
       " 6.488601700558198e-105,\n",
       " 5.414554163536246e-35,\n",
       " 3.743839388738854e-47,\n",
       " 7.410031091608078e-79,\n",
       " 3.5033437455711254e-60,\n",
       " 2.7973864348111806e-89,\n",
       " 2.090199405776767e-131,\n",
       " 3.0,\n",
       " 8.126085800043245e-76,\n",
       " 3.942494005094703e-67,\n",
       " 1.5103726076294948e-44,\n",
       " 1.162199288606156e-20,\n",
       " 1.2060180647230065e-73,\n",
       " 3.0,\n",
       " 3.159185207266144e-20,\n",
       " 1.5103726076294948e-44,\n",
       " 4.2604138740308156e-97,\n",
       " 9.772465596622564e-70,\n",
       " 3.0,\n",
       " 3.0,\n",
       " 1.3878249337113202e-166,\n",
       " 6.75707371663565e-82,\n",
       " 2.5225791374410927e-49,\n",
       " 2.9999498957344564,\n",
       " 1.2559181997912695e-50,\n",
       " 8.338891435692573e-86,\n",
       " 2.4857885028301646e-82,\n",
       " 1.2745062765874767e-17,\n",
       " 7.716628117927244e-56,\n",
       " 3.8418829167662496e-57,\n",
       " 7.604084712925065e-89,\n",
       " 4.000844446506783e-34,\n",
       " 1.3032704903641998e-103,\n",
       " 2.725998097043792e-79,\n",
       " 4.865424127816458e-71,\n",
       " 0.00037018372795869517,\n",
       " 5.199423127024641e-58,\n",
       " 1.3225593994389679e-70,\n",
       " 1.3032704903641998e-103,\n",
       " 6.093277988204432e-42,\n",
       " 1.3032704903641998e-103,\n",
       " 2.999999999163159,\n",
       " 2.128642248685411e-22,\n",
       " 2.9131309373342544e-66,\n",
       " 1.3927366968127943e-90,\n",
       " 8.246355023730644e-43,\n",
       " 3.0,\n",
       " 2.097596998993775e-55,\n",
       " 1.1160227928062507e-43,\n",
       " 5.14172529462603e-15,\n",
       " 0.3576087660663526,\n",
       " 9.417398376144088e-17,\n",
       " 2.9999999999979257,\n",
       " 4.688646568004966e-18,\n",
       " 4.5023572881221844e-41,\n",
       " 4.151689580210213e-87,\n",
       " 8.462310265380405e-53]"
      ]
     },
     "execution_count": 11,
     "metadata": {},
     "output_type": "execute_result"
    }
   ],
   "source": [
    "yy"
   ]
  },
  {
   "cell_type": "code",
   "execution_count": 12,
   "metadata": {
    "collapsed": false
   },
   "outputs": [
    {
     "data": {
      "image/png": "[encoded data removed]",
      "text/plain": [
       "<matplotlib.figure.Figure at 0x7f0864298978>"
      ]
     },
     "metadata": {},
     "output_type": "display_data"
    }
   ],
   "source": [
    "plt.subplot(111)\n",
    "x_data = [i for i in range(len(yy))]\n",
    "\n",
    "plt.plot(x_data,[i[0] for i in l2_error.value(dict([(ws,weights), (ws2, weights2)])).tolist()])\n",
    "plt.show()"
   ]
  },
  {
   "cell_type": "code",
   "execution_count": 13,
   "metadata": {
    "collapsed": false
   },
   "outputs": [
    {
     "data": {
      "image/png": "[encoded data removed]",
      "text/plain": [
       "<matplotlib.figure.Figure at 0x7f083fa07438>"
      ]
     },
     "metadata": {},
     "output_type": "display_data"
    }
   ],
   "source": [
    "plt.plot(x_data,yy)\n",
    "plt.show()"
   ]
  },
  {
   "cell_type": "code",
   "execution_count": null,
   "metadata": {
    "collapsed": true
   },
   "outputs": [],
   "source": []
  }
 ],
 "metadata": {
  "kernelspec": {
   "display_name": "Python 3",
   "language": "python",
   "name": "python3"
  },
  "language_info": {
   "codemirror_mode": {
    "name": "ipython",
    "version": 3
   },
   "file_extension": ".py",
   "mimetype": "text/x-python",
   "name": "python",
   "nbconvert_exporter": "python",
   "pygments_lexer": "ipython3",
   "version": "3.6.0"
  }
 },
 "nbformat": 4,
 "nbformat_minor": 2
}
