{
 "cells": [
  {
   "cell_type": "code",
   "execution_count": 1,
   "metadata": {
    "collapsed": false
   },
   "outputs": [
    {
     "name": "stdout",
     "output_type": "stream",
     "text": [
      "rows 3 colss 20\n",
      "rows 20 colss 1\n",
      "valid\n",
      "output will be 4 x 20\n",
      "valid\n",
      "output will be 4 x 1\n",
      "valid\n",
      "output will be 1 x 4\n",
      "valid\n",
      "output will be 20 x 1\n",
      "output will be 4 x 20\n",
      "output will be 3 x 4\n",
      "valid\n",
      "valid\n",
      "valid\n"
     ]
    },
    {
     "data": {
      "image/png": "[encoded data removed]",
      "text/plain": [
       "<matplotlib.figure.Figure at 0x7fbfa4bef358>"
      ]
     },
     "metadata": {},
     "output_type": "display_data"
    }
   ],
   "source": [
    "import numpy as np\n",
    "import pyCalc as p\n",
    "import random\n",
    "\n",
    "np.random.seed(1)\n",
    "\n",
    "p.setMode(\"loud\")\n",
    "\n",
    "xs = p.constant(np.array([ [0,0,1],[0,1,1],[1,0,1],[1,1,1] ]                           \n",
    "                               , dtype= float))\n",
    "ys = p.constant(np.array([0,1,1,0], dtype=float)) #AxorB\n",
    "#ys = p.constant(np.array([0,1,1,1], dtype=float)) #(AorB) and C\n",
    "\n",
    "weights = 2*np.random.random((3,20)) - 1\n",
    "weights2 = 2*np.random.random((20,1)) - 1\n",
    "\n",
    "ws0 = p.variable(3,20)\n",
    "ws1 = p.variable(20,1)\n",
    "\n",
    "\n",
    "l1 = p.function(p.function(xs, ws0, \"*\"), \"sigmoid\")\n",
    "l2 = p.function(l1,ws1, \"*\")\n",
    "\n",
    "l2_error = p.function(ys.T(), l2, \"-\") \n",
    "tmp1 = p.function(l2_error.T(), l1, \"*\").T()\n",
    "\n",
    "sig0 = p.function(l1, \"sigmoid_r\")\n",
    "l2_errorh = p.function(xs.T(), l2_error, \"rowwise*\")\n",
    "l1_delta = p.function(l2_errorh,sig0, \"*\")\n",
    "tmp0 = p.function(l1_delta,ws1, \"rowwise*\") \n",
    "\n",
    "\n",
    "g= []\n",
    "g2= []\n",
    "for i in range(5000):\n",
    "    t1 = weights2 + 0.1*tmp1.value(dict([(ws0,weights), (ws1,weights2)]))\n",
    "    t0 = weights + 0.1*tmp0.value(dict([(ws0,weights), (ws1,weights2)]))\n",
    "    weights = t0\n",
    "    weights2 = t1\n",
    "    g.append(sum([ d[0]*d[0] for d in l2_error.value(dict([(ws0,weights), (ws1,weights2)])).tolist()]))\n",
    "                  \n",
    "\n",
    "import matplotlib.pyplot as plt\n",
    "x_data = [i for i in range(len(g))]\n",
    "\n",
    "\n",
    "\n",
    "plt.figure(1)\n",
    "plt.subplot(211)\n",
    "plt.ylabel('individual errors')\n",
    "plt.xlabel('iters')\n",
    "plt.plot(x_data, g)\n",
    "plt.show()"
   ]
  },
  {
   "cell_type": "code",
   "execution_count": 2,
   "metadata": {
    "collapsed": false
   },
   "outputs": [
    {
     "data": {
      "text/plain": [
       "array([[  3.71924713e-15],\n",
       "       [  1.00000000e+00],\n",
       "       [  1.00000000e+00],\n",
       "       [  4.94049246e-15]])"
      ]
     },
     "execution_count": 2,
     "metadata": {},
     "output_type": "execute_result"
    }
   ],
   "source": [
    "l2.value()\n"
   ]
  },
  {
   "cell_type": "code",
   "execution_count": 3,
   "metadata": {
    "collapsed": false
   },
   "outputs": [
    {
     "data": {
      "text/plain": [
       "array([[ 0.,  1.,  1.,  0.]])"
      ]
     },
     "execution_count": 3,
     "metadata": {},
     "output_type": "execute_result"
    }
   ],
   "source": [
    "ys.value()"
   ]
  },
  {
   "cell_type": "code",
   "execution_count": 5,
   "metadata": {
    "collapsed": false
   },
   "outputs": [],
   "source": [
    "import numpy as np\n",
    "import pyCalc as p\n",
    "import random\n",
    "\n",
    "np.random.seed(1)\n",
    "\n",
    "p.setMode(\"quiet\")\n",
    "\n",
    "xs = p.constant(np.array([[1,2,3],[2,3,4],[3,4,5],[4,5,6] ]                           \n",
    "                               , dtype= float))\n",
    "ys = p.constant(np.array([6,9,12,15], dtype=float))\n",
    "\n",
    "weights = 2*np.random.random((3,20)) - 1\n",
    "weights2 = 2*np.random.random((20,1)) - 1\n",
    "\n",
    "ws0 = p.variable(3,20)\n",
    "ws1 = p.variable(20,1)\n",
    "\n",
    "\n",
    "l0 = p.function(xs, ws0, \"*\") #4x20\n",
    "l1 = p.function(l0, \"sigmoid\") #4x20\n",
    "#l10 = p.function(l1,ws1, \"*\") #4x1\n",
    "#l2 = p.function(l10, \"sigmoid\")\n",
    "l2 = p.function(l1,ws1, \"*\")\n",
    "\n",
    "l2_error = p.function(ys.T(), l2, \"-\") \n",
    "tmp1 = p.function(l2_error.T(), l1, \"*\").T()\n",
    "\n",
    "sig0 = p.function(l1, \"sigmoid_r\")\n",
    "l2_errorh = p.function(xs.T(), l2_error, \"rowwise*\")\n",
    "l1_delta = p.function(l2_errorh,sig0, \"*\")\n",
    "tmp0 = p.function(l1_delta,ws1, \"rowwise*\") \n",
    "\n",
    "for i in range(20000):\n",
    "    t1 = weights2 + 0.01*tmp1.value(dict([(ws0,weights), (ws1,weights2)]))\n",
    "    t0 = weights + 0.01*tmp0.value(dict([(ws0,weights), (ws1,weights2)]))\n",
    "    weights = t0\n",
    "    weights2 = t1"
   ]
  },
  {
   "cell_type": "code",
   "execution_count": 6,
   "metadata": {
    "collapsed": false
   },
   "outputs": [
    {
     "data": {
      "text/plain": [
       "array([[  6.00738198],\n",
       "       [  9.01035547],\n",
       "       [ 12.01797773],\n",
       "       [ 15.01875656]])"
      ]
     },
     "execution_count": 6,
     "metadata": {},
     "output_type": "execute_result"
    }
   ],
   "source": [
    "l2.value(dict([(ws0,weights), (ws1,weights2)]))"
   ]
  },
  {
   "cell_type": "code",
   "execution_count": 1,
   "metadata": {
    "collapsed": false
   },
   "outputs": [
    {
     "data": {
      "text/plain": [
       "array([[ 26.],\n",
       "       [ 39.],\n",
       "       [ 52.],\n",
       "       [ 65.]])"
      ]
     },
     "execution_count": 1,
     "metadata": {},
     "output_type": "execute_result"
    }
   ],
   "source": [
    "import numpy as np\n",
    "import pyCalc as p\n",
    "import random\n",
    "\n",
    "np.random.seed(1)\n",
    "\n",
    "p.setMode(\"quiet\")\n",
    "\n",
    "xs = p.constant(np.array([[1,2,3],[2,3,4],[3,4,5],[4,5,6] ]                           \n",
    "                               , dtype= float))\n",
    "ys = p.constant(np.array([5*i[0]+3*i[1]+5*i[2] for i in xs.value()], dtype=float))\n",
    "\n",
    "weights = 2*np.random.random((3,20)) - 1\n",
    "weights2 = 2*np.random.random((20,1)) - 1\n",
    "\n",
    "ws0 = p.variable(3,20)\n",
    "ws1 = p.variable(20,1)\n",
    "\n",
    "\n",
    "l0 = p.function(xs, ws0, \"*\") #4x20\n",
    "l1 = p.function(l0, \"sigmoid\") #4x20\n",
    "#l10 = p.function(l1,ws1, \"*\") #4x1\n",
    "#l2 = p.function(l10, \"sigmoid\")\n",
    "l2 = p.function(l1,ws1, \"*\")\n",
    "\n",
    "l2_error = p.function(ys.T(), l2, \"-\") \n",
    "tmp1 = p.function(l2_error.T(), l1, \"*\").T()\n",
    "\n",
    "sig0 = p.function(l1, \"sigmoid_r\")\n",
    "l2_errorh = p.function(xs.T(), l2_error, \"rowwise*\")\n",
    "l1_delta = p.function(l2_errorh,sig0, \"*\")\n",
    "tmp0 = p.function(l1_delta,ws1, \"rowwise*\") \n",
    "\n",
    "for i in range(20000):\n",
    "    t1 = weights2 + 0.01*tmp1.value(dict([(ws0,weights), (ws1,weights2)]))\n",
    "    t0 = weights + 0.01*tmp0.value(dict([(ws0,weights), (ws1,weights2)]))\n",
    "    weights = t0\n",
    "    weights2 = t1\n",
    "    \n",
    "l2.value(dict([(ws0,weights), (ws1,weights2)]))"
   ]
  },
  {
   "cell_type": "code",
   "execution_count": 2,
   "metadata": {
    "collapsed": false
   },
   "outputs": [
    {
     "data": {
      "text/plain": [
       "array([[ 26.,  39.,  52.,  65.]])"
      ]
     },
     "execution_count": 2,
     "metadata": {},
     "output_type": "execute_result"
    }
   ],
   "source": [
    "ys.value()"
   ]
  },
  {
   "cell_type": "code",
   "execution_count": null,
   "metadata": {
    "collapsed": true
   },
   "outputs": [],
   "source": []
  },
  {
   "cell_type": "code",
   "execution_count": null,
   "metadata": {
    "collapsed": true
   },
   "outputs": [],
   "source": []
  },
  {
   "cell_type": "code",
   "execution_count": null,
   "metadata": {
    "collapsed": true
   },
   "outputs": [],
   "source": []
  },
  {
   "cell_type": "code",
   "execution_count": null,
   "metadata": {
    "collapsed": true
   },
   "outputs": [],
   "source": []
  },
  {
   "cell_type": "code",
   "execution_count": null,
   "metadata": {
    "collapsed": true
   },
   "outputs": [],
   "source": []
  },
  {
   "cell_type": "code",
   "execution_count": null,
   "metadata": {
    "collapsed": true
   },
   "outputs": [],
   "source": []
  }
 ],
 "metadata": {
  "kernelspec": {
   "display_name": "Python 3",
   "language": "python",
   "name": "python3"
  },
  "language_info": {
   "codemirror_mode": {
    "name": "ipython",
    "version": 3
   },
   "file_extension": ".py",
   "mimetype": "text/x-python",
   "name": "python",
   "nbconvert_exporter": "python",
   "pygments_lexer": "ipython3",
   "version": "3.6.0"
  }
 },
 "nbformat": 4,
 "nbformat_minor": 2
}
