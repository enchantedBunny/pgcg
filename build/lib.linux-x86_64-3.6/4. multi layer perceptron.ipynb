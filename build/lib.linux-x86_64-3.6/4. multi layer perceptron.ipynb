{
 "cells": [
  {
   "cell_type": "code",
   "execution_count": 1,
   "metadata": {
    "collapsed": false
   },
   "outputs": [
    {
     "name": "stderr",
     "output_type": "stream",
     "text": [
      "Exception ignored in: 'pyCalc.cError'\n",
      "ValueError: <invalid operation: rowwise* >left is a 3x4 matrix but right is a 4x1 matrix\n",
      "Exception ignored in: 'pyCalc.cError'\n",
      "ValueError: <invalid operation: * >left is a 3x1 matrix but right is a 4x20 matrix\n",
      "Exception ignored in: 'pyCalc.cError'\n",
      "ValueError: <invalid operation: rowwise* >left is a 3x20 matrix but right is a 20x1 matrix\n"
     ]
    },
    {
     "name": "stdout",
     "output_type": "stream",
     "text": [
      "[[-0.95600607  1.06018369 -0.99193644 -0.48510705 -0.61546259 -1.64962564\n",
      "  -0.72597504 -1.20516168  0.06007893 -0.30609922  0.51326932  0.76428604\n",
      "  -0.39592918  1.79036935 -1.02746476 -0.16684863  0.7169402   0.14841721\n",
      "  -0.97659671 -0.87623671]\n",
      " [ 1.40095459  1.33865336 -0.35397929  0.37398137 -0.16413566  0.90055873\n",
      "  -0.89276971 -1.5005856  -0.73785016  0.68649346 -1.10857112 -0.40951671\n",
      "   0.58055581  1.67674817  0.16641075 -0.4916119   1.00357296  0.5795095\n",
      "  -1.17070656  0.25816733]\n",
      " [ 0.99677965  0.339659   -0.56901002  0.33576238 -0.93784476 -0.7593892\n",
      "   0.62495459 -0.55690885 -0.65946545 -0.94280935 -1.14286637  0.29718912\n",
      "  -0.61443647  0.02738703 -0.16985228 -1.00354158  0.21576482 -0.91880854\n",
      "  -0.15622843 -0.13212282]]\n",
      "[[-1.41027324]\n",
      " [ 0.69956125]\n",
      " [-0.007381  ]\n",
      " [-0.28584832]\n",
      " [-0.477902  ]\n",
      " [ 1.07422843]\n",
      " [ 0.27296185]\n",
      " [-1.05699417]\n",
      " [ 0.66883187]\n",
      " [ 0.21658944]\n",
      " [ 0.87449652]\n",
      " [-0.97260206]\n",
      " [-0.24196932]\n",
      " [ 1.34358628]\n",
      " [ 0.15775267]\n",
      " [-0.61072621]\n",
      " [ 0.77664297]\n",
      " [-0.36131619]\n",
      " [-0.43657842]\n",
      " [ 0.46727374]]\n"
     ]
    },
    {
     "data": {
      "image/png": "[encoded data removed]",
      "text/plain": [
       "<matplotlib.figure.Figure at 0x7f918c899828>"
      ]
     },
     "metadata": {},
     "output_type": "display_data"
    }
   ],
   "source": [
    "import numpy as np\n",
    "import pyCalc as p\n",
    "import random\n",
    "\n",
    "np.random.seed(1)\n",
    "\n",
    "p.setMode(\"quiet\")\n",
    "\n",
    "xs = p.constant(np.array([ [0,0,1],[0,1,1],[1,0,1],[1,1,1] ]                           \n",
    "                               , dtype= float))\n",
    "#ys = p.constant(np.array([0,1,1,0], dtype=float)) #AxorB\n",
    "ys = p.constant(np.array([0,1,1,1], dtype=float)) #(AorB) and C\n",
    "\n",
    "weights = 2*np.random.random((3,20)) - 1\n",
    "weights2 = 2*np.random.random((20,1)) - 1\n",
    "\n",
    "ws0 = p.variable(3,20)\n",
    "ws1 = p.variable(20,1)\n",
    "\n",
    "\n",
    "l0 = p.function(xs, ws0, \"*\")\n",
    "l1 = p.function(l0, \"sigmoid\")\n",
    "l2 = p.function(l1,ws1, \"*\")\n",
    "\n",
    "l2_error = p.function(ys.T(), l2, \"-\") \n",
    "tmp1 = p.function(l2_error.T(), l1, \"*\").T()\n",
    "\n",
    "sig0 = l1.deriv()\n",
    "l2_errorh = p.function(xs.T(), l2_error, \"rowwise*\")\n",
    "l1_delta = p.function(l2_errorh,sig0, \"*\")\n",
    "tmp0 = p.function(l1_delta,ws1, \"rowwise*\") \n",
    "g= []\n",
    "g2= []\n",
    "for i in range(2000):\n",
    "    t1 = weights2 + 0.1*tmp1.value(dict([(ws0,weights), (ws1,weights2)]))\n",
    "    t0 = weights + 0.1*tmp0.value(dict([(ws0,weights), (ws1,weights2)]))\n",
    "    weights = t0\n",
    "    weights2 = t1\n",
    "    g.append([[bb*bb for bb in d] for d in l2_error.value(dict([(ws0,weights), (ws1,weights2)])).tolist()])\n",
    "    g2.append(sum([ bb*bb for bb in l2_error.value(dict([(ws0,weights), (ws1,weights2)]))])/4)\n",
    "\n",
    "              \n",
    "print(weights)\n",
    "print(weights2)\n",
    "import matplotlib.pyplot as plt\n",
    "x_data = [i for i in range(len(g))]\n",
    "y_data = [[g[j][i] for j in range(len(g))]for i in range(len(g[0]))]\n",
    "\n",
    "\n",
    "\n",
    "plt.figure(1)\n",
    "plt.subplot(211)\n",
    "plt.ylabel('individual errors')\n",
    "plt.xlabel('iters')\n",
    "for d in y_data:\n",
    "    plt.plot(x_data, d)\n",
    "\n",
    "plt.subplot(212)\n",
    "plt.ylabel('mean squared error')\n",
    "plt.xlabel('iters')\n",
    "plt.plot(x_data, g2, 'k')\n",
    "plt.show()"
   ]
  },
  {
   "cell_type": "code",
   "execution_count": 2,
   "metadata": {
    "collapsed": false
   },
   "outputs": [
    {
     "data": {
      "text/plain": [
       "array([[  3.99257313e-04],\n",
       "       [  9.99503354e-01],\n",
       "       [  9.99531805e-01],\n",
       "       [  1.00058374e+00]])"
      ]
     },
     "execution_count": 2,
     "metadata": {},
     "output_type": "execute_result"
    }
   ],
   "source": [
    "l2.value(dict([(ws0,weights), (ws1,weights2)]))"
   ]
  },
  {
   "cell_type": "code",
   "execution_count": 3,
   "metadata": {
    "collapsed": false
   },
   "outputs": [
    {
     "name": "stderr",
     "output_type": "stream",
     "text": [
      "Exception ignored in: 'pyCalc.cError'\n",
      "ValueError: <invalid operation: rowwise* >left is a 3x4 matrix but right is a 4x1 matrix\n",
      "Exception ignored in: 'pyCalc.cError'\n",
      "ValueError: <invalid operation: * >left is a 3x1 matrix but right is a 4x20 matrix\n",
      "Exception ignored in: 'pyCalc.cError'\n",
      "ValueError: <invalid operation: rowwise* >left is a 3x20 matrix but right is a 20x1 matrix\n"
     ]
    },
    {
     "name": "stdout",
     "output_type": "stream",
     "text": [
      "[[ -2.33387529e-01   4.54549103e-01  -1.03601704e+00   1.48570771e-01\n",
      "   -1.43136757e+00  -2.40858753e-02  -8.78473592e-03  -3.05510452e-01\n",
      "   -2.85587055e-01   2.18098481e+00  -1.82699608e-01   6.99221780e-01\n",
      "   -1.24351459e+00   4.12268640e+00  -1.63169184e+00   2.78959601e-01\n",
      "    1.59024662e+00  -1.35044049e-01  -7.91665548e-01   2.59791427e-01]\n",
      " [  4.82652596e-01   5.19749830e-01  -4.43920198e-01   3.82072272e-01\n",
      "    7.49777225e-01   1.03163473e+00  -4.75946522e-01  -9.16317646e-01\n",
      "   -8.22179826e-01   1.05402461e+00  -8.44118525e-01  -1.73338964e-01\n",
      "    7.75664200e-01   4.66427452e-01   3.35587668e-01  -2.03444510e-01\n",
      "    6.63242588e-01   5.09908167e-01  -1.11018239e+00   6.28939892e-01]\n",
      " [  8.07480633e-01  -3.51115450e-01  -5.44403337e-01   2.95071133e-02\n",
      "   -7.46707892e-02  -4.10607070e-01   9.06426276e-01  -4.04994222e-01\n",
      "   -6.69008649e-01  -2.24781500e+00  -1.02180183e+00  -2.22014153e-03\n",
      "   -2.04554398e-01  -3.03516444e+00   5.73280223e-01  -5.00251035e-01\n",
      "   -1.02692034e+00  -7.72805497e-01  -4.24673850e-02  -2.06769206e-01]]\n",
      "[[ 0.5963814 ]\n",
      " [ 1.43362756]\n",
      " [ 0.28243343]\n",
      " [ 1.58730627]\n",
      " [-1.67010493]\n",
      " [ 1.60131662]\n",
      " [ 1.43454291]\n",
      " [-0.07445502]\n",
      " [ 0.78652014]\n",
      " [ 2.35530135]\n",
      " [ 0.78177846]\n",
      " [ 0.92207678]\n",
      " [-1.38889156]\n",
      " [ 3.70182658]\n",
      " [-1.35736996]\n",
      " [-0.98044346]\n",
      " [ 2.72461562]\n",
      " [-0.58385664]\n",
      " [ 0.30226575]\n",
      " [ 2.18081245]]\n"
     ]
    },
    {
     "data": {
      "image/png": "[encoded data removed]",
      "text/plain": [
       "<matplotlib.figure.Figure at 0x7f91a861dba8>"
      ]
     },
     "metadata": {},
     "output_type": "display_data"
    }
   ],
   "source": [
    "import numpy as np\n",
    "import pyCalc as p\n",
    "import random\n",
    "\n",
    "np.random.seed(1)\n",
    "\n",
    "p.setMode(\"quiet\")\n",
    "\n",
    "xs = p.constant(np.array([[1,2,3],[2,3,4],[3,4,5],[4,5,6] ]                           \n",
    "                               , dtype= float))\n",
    "ys = p.constant(np.array([6,9,12,15], dtype=float))\n",
    "\n",
    "weights = 2*np.random.random((3,20)) - 1\n",
    "weights2 = 2*np.random.random((20,1)) - 1\n",
    "\n",
    "ws0 = p.variable(3,20)\n",
    "ws1 = p.variable(20,1)\n",
    "\n",
    "\n",
    "l0 = p.function(xs, ws0, \"*\") #4x20\n",
    "l1 = p.function(l0, \"sigmoid\") #4x20\n",
    "#l10 = p.function(l1,ws1, \"*\") #4x1\n",
    "#l2 = p.function(l10, \"sigmoid\")\n",
    "l2 = p.function(l1,ws1, \"*\")\n",
    "\n",
    "l2_error = p.function(ys.T(), l2, \"-\") \n",
    "tmp1 = p.function(l2_error.T(), l1, \"*\").T()\n",
    "\n",
    "sig0 = l1.deriv()\n",
    "l2_errorh = p.function(xs.T(), l2_error, \"rowwise*\")\n",
    "l1_delta = p.function(l2_errorh,sig0, \"*\")\n",
    "tmp0 = p.function(l1_delta,ws1, \"rowwise*\") \n",
    "g= []\n",
    "g2= []\n",
    "for i in range(20000):\n",
    "    t1 = weights2 + 0.01*tmp1.value(dict([(ws0,weights), (ws1,weights2)]))\n",
    "    t0 = weights + 0.01*tmp0.value(dict([(ws0,weights), (ws1,weights2)]))\n",
    "    weights = t0\n",
    "    weights2 = t1\n",
    "    g.append([[bb*bb for bb in d] for d in l2_error.value(dict([(ws0,weights), (ws1,weights2)])).tolist()])\n",
    "    g2.append(sum([ bb*bb for bb in l2_error.value(dict([(ws0,weights), (ws1,weights2)]))])/4)\n",
    "\n",
    "              \n",
    "print(weights)\n",
    "print(weights2)\n",
    "import matplotlib.pyplot as plt\n",
    "x_data = [i for i in range(len(g))]\n",
    "y_data = [[g[j][i] for j in range(len(g))]for i in range(len(g[0]))]\n",
    "\n",
    "\n",
    "\n",
    "plt.figure(1)\n",
    "plt.subplot(211)\n",
    "plt.ylabel('individual errors')\n",
    "plt.xlabel('iters')\n",
    "for d in y_data:\n",
    "    plt.plot(x_data, d)\n",
    "\n",
    "plt.subplot(212)\n",
    "plt.ylabel('mean squared error')\n",
    "plt.xlabel('iters')\n",
    "plt.plot(x_data, g2, 'k')\n",
    "plt.show()"
   ]
  },
  {
   "cell_type": "code",
   "execution_count": 4,
   "metadata": {
    "collapsed": false
   },
   "outputs": [
    {
     "data": {
      "text/plain": [
       "array([[  6.00738198],\n",
       "       [  9.01035547],\n",
       "       [ 12.01797773],\n",
       "       [ 15.01875656]])"
      ]
     },
     "execution_count": 4,
     "metadata": {},
     "output_type": "execute_result"
    }
   ],
   "source": [
    "l2.value(dict([(ws0,weights), (ws1,weights2)]))"
   ]
  },
  {
   "cell_type": "code",
   "execution_count": null,
   "metadata": {
    "collapsed": true
   },
   "outputs": [],
   "source": []
  }
 ],
 "metadata": {
  "kernelspec": {
   "display_name": "Python 3",
   "language": "python",
   "name": "python3"
  },
  "language_info": {
   "codemirror_mode": {
    "name": "ipython",
    "version": 3
   },
   "file_extension": ".py",
   "mimetype": "text/x-python",
   "name": "python",
   "nbconvert_exporter": "python",
   "pygments_lexer": "ipython3",
   "version": "3.6.0"
  }
 },
 "nbformat": 4,
 "nbformat_minor": 2
}
