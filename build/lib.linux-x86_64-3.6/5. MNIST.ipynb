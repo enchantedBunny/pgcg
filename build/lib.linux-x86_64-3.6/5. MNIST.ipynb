{
 "cells": [
  {
   "cell_type": "code",
   "execution_count": 1,
   "metadata": {
    "collapsed": false
   },
   "outputs": [],
   "source": [
    "import numpy as np\n",
    "from tensorflow.examples.tutorials.mnist import input_data\n",
    "import pyCalc as p\n",
    "import random\n",
    "import math"
   ]
  },
  {
   "cell_type": "code",
   "execution_count": 2,
   "metadata": {
    "collapsed": false,
    "scrolled": true
   },
   "outputs": [
    {
     "name": "stdout",
     "output_type": "stream",
     "text": [
      "Extracting MNIST_data/train-images-idx3-ubyte.gz\n",
      "Extracting MNIST_data/train-labels-idx1-ubyte.gz\n",
      "Extracting MNIST_data/t10k-images-idx3-ubyte.gz\n",
      "Extracting MNIST_data/t10k-labels-idx1-ubyte.gz\n"
     ]
    }
   ],
   "source": [
    "mnist = input_data.read_data_sets(\"MNIST_data/\", one_hot=False)\n",
    "\n",
    "X_train = np.vstack([img.reshape(-1,) for img in mnist.train.images])\n"
   ]
  },
  {
   "cell_type": "code",
   "execution_count": 3,
   "metadata": {
    "collapsed": false
   },
   "outputs": [],
   "source": [
    "import pyCalc as p\n",
    "import random\n",
    "\n",
    "np.random.seed(1)\n",
    "\n",
    "p.setMode(\"loud\")\n",
    "\n",
    "xs = p.constant(X_train[:54000,:]) #54000x784\n",
    "X_test = X_train[-100:,:]\n",
    "del X_train\n",
    "y_train = mnist.train.labels[:54000]\n",
    "y_train = [[1 if n == i else 0 for n in range(10)] for i in y_train]\n",
    "Y_test = mnist.train.labels[-100:]\n",
    "Y_test = [[1 if n == i else 0 for n in range(10)] for i in Y_test]\n",
    "ys = p.constant(np.array(y_train, dtype=float)) #54000x10\n",
    "del y_train\n",
    "del mnist"
   ]
  },
  {
   "cell_type": "code",
   "execution_count": 4,
   "metadata": {
    "collapsed": false
   },
   "outputs": [
    {
     "name": "stdout",
     "output_type": "stream",
     "text": [
      "          rows 784 colss 10\n",
      "          valid\n",
      "          output will be 54000 x 10\n",
      "          output will be 54000 x 10\n"
     ]
    }
   ],
   "source": [
    "weights =2*np.random.random((784,10)) - 1\n",
    "ws = p.var(\"independent\", 784,10)\n",
    "\n",
    "l0 = p.function(xs, ws, \"*\") #54000x10\n",
    "l1 = p.function(l0, \"softmax\") #54000x10"
   ]
  },
  {
   "cell_type": "code",
   "execution_count": 5,
   "metadata": {
    "collapsed": false
   },
   "outputs": [
    {
     "name": "stdout",
     "output_type": "stream",
     "text": [
      "          output will be 54000 x 10\n"
     ]
    },
    {
     "data": {
      "text/plain": [
       "array([ 0.08979221,  0.08979221,  0.        ,  0.        ,  0.08979221,\n",
       "        0.        ,  0.08979221,  0.08979221,  0.        ,  0.08979221])"
      ]
     },
     "execution_count": 5,
     "metadata": {},
     "output_type": "execute_result"
    }
   ],
   "source": [
    "p.function(l0, \"softmax_r\").value(dict([(ws,weights)]))[0]"
   ]
  },
  {
   "cell_type": "code",
   "execution_count": 6,
   "metadata": {
    "collapsed": false
   },
   "outputs": [
    {
     "name": "stdout",
     "output_type": "stream",
     "text": [
      "          output will be 54000 x 10\n",
      "          output will be 54000 x 10\n",
      "          output will be 54000 x 10\n",
      "          output will be 54000 x 10\n",
      "          output will be 54000 x 10\n",
      "          trans\n",
      "          output will be 784 x 54000\n",
      "          valid\n",
      "          output will be 784 x 10\n"
     ]
    },
    {
     "name": "stderr",
     "output_type": "stream",
     "text": [
      "Exception ignored in: 'pyCalc.cError'\n",
      "ValueError: <invalid operation: elementwise* >left is a 54000x10 matrix but right is a 54000x10 matrix\n",
      "Exception ignored in: 'pyCalc.cError'\n",
      "ValueError: <invalid operation: elementwise/ >left is a 54000x10 matrix but right is a 54000x10 matrix\n",
      "Exception ignored in: 'pyCalc.cError'\n",
      "ValueError: <invalid operation: elementwise* >left is a 54000x10 matrix but right is a 54000x10 matrix\n"
     ]
    }
   ],
   "source": [
    "cost = p.function(ys, p.function(l1, \"ln\"), \"elementwise*\")\n",
    "l1_error = p.function(ys, l1, \"elementwise/\") #54000x10\n",
    "l1_delta = p.function(l1_error, p.function(l0, \"softmax_r\"), \"elementwise*\") #54000x10\n",
    "tmp = p.function(xs.T(), l1_delta, \"*\") #784x10"
   ]
  },
  {
   "cell_type": "code",
   "execution_count": 7,
   "metadata": {
    "collapsed": false
   },
   "outputs": [],
   "source": [
    "def acc():\n",
    "    out = 0\n",
    "    yss = ys.value().tolist()\n",
    "    y_ = l1.value(dict([(ws,weights)])).tolist()\n",
    "    for i in range(len(ys.value())):\n",
    "        if yss[i].index(max(yss[i])) == y_[i].index(max(y_[i])):\n",
    "            out +=1\n",
    "\n",
    "    print(out/ len(ys.value()))"
   ]
  },
  {
   "cell_type": "code",
   "execution_count": 8,
   "metadata": {
    "collapsed": false
   },
   "outputs": [
    {
     "name": "stdout",
     "output_type": "stream",
     "text": [
      "0.10148148148148148\n",
      "that's after  10\n",
      "0.10164814814814815\n",
      "that's after  20\n",
      "0.10211111111111111\n",
      "that's after  30\n",
      "0.10224074074074074\n",
      "that's after  40\n",
      "0.10268518518518518\n",
      "that's after  50\n",
      "0.10357407407407407\n",
      "that's after  60\n",
      "0.10446296296296297\n",
      "that's after  70\n",
      "0.10505555555555555\n",
      "that's after  80\n",
      "0.10548148148148148\n",
      "that's after  90\n",
      "0.10581481481481482\n",
      "that's after  100\n",
      "0.10605555555555556\n",
      "that's after  110\n",
      "0.10690740740740741\n",
      "that's after  120\n",
      "0.10724074074074075\n",
      "that's after  130\n",
      "0.10766666666666666\n",
      "that's after  140\n",
      "0.10803703703703704\n",
      "that's after  150\n",
      "0.10822222222222222\n",
      "that's after  160\n",
      "0.10868518518518519\n",
      "that's after  170\n",
      "0.10907407407407407\n",
      "that's after  180\n",
      "0.10942592592592593\n",
      "that's after  190\n",
      "0.10981481481481481\n",
      "that's after  200\n",
      "0.1097962962962963\n",
      "that's after  210\n",
      "0.1102962962962963\n",
      "that's after  220\n",
      "0.11022222222222222\n",
      "that's after  230\n",
      "0.11062962962962963\n",
      "that's after  240\n",
      "0.11070370370370371\n",
      "that's after  250\n",
      "0.1112962962962963\n",
      "that's after  260\n",
      "0.11133333333333334\n",
      "that's after  270\n",
      "0.11168518518518518\n",
      "that's after  280\n",
      "0.11174074074074074\n",
      "that's after  290\n",
      "0.11209259259259259\n",
      "that's after  300\n",
      "0.11207407407407408\n",
      "that's after  310\n",
      "0.11222222222222222\n",
      "that's after  320\n",
      "0.11231481481481481\n",
      "that's after  330\n",
      "0.11225925925925925\n",
      "that's after  340\n",
      "0.11227777777777778\n",
      "that's after  350\n",
      "0.11227777777777778\n",
      "that's after  360\n",
      "0.11231481481481481\n",
      "that's after  370\n",
      "0.11240740740740741\n",
      "that's after  380\n",
      "0.11233333333333333\n",
      "that's after  390\n",
      "0.11238888888888889\n",
      "that's after  400\n",
      "0.11240740740740741\n",
      "that's after  410\n",
      "0.11248148148148149\n",
      "that's after  420\n",
      "0.11251851851851852\n",
      "that's after  430\n",
      "0.1125\n",
      "that's after  440\n",
      "0.11251851851851852\n",
      "that's after  450\n",
      "0.11253703703703703\n",
      "that's after  460\n",
      "0.11253703703703703\n",
      "that's after  470\n",
      "0.1125\n",
      "that's after  480\n",
      "0.11246296296296296\n",
      "that's after  490\n",
      "0.11248148148148149\n",
      "that's after  500\n"
     ]
    }
   ],
   "source": [
    "g = []\n",
    "for i in range(500):\n",
    "    weights = weights + 0.001 * tmp.value(dict([(ws,weights)]))\n",
    "    g.append(sum([sum([-bb for bb in d]) for d in cost.value(dict([(ws,weights)])).tolist()]))\n",
    "    if (i+1)%10 ==0:\n",
    "        acc()\n",
    "        print(\"that's after \", i+1)\n"
   ]
  },
  {
   "cell_type": "code",
   "execution_count": 9,
   "metadata": {
    "collapsed": false
   },
   "outputs": [
    {
     "data": {
      "image/png": "[encoded data removed]",
      "text/plain": [
       "<matplotlib.figure.Figure at 0x7f26340ad4e0>"
      ]
     },
     "metadata": {},
     "output_type": "display_data"
    }
   ],
   "source": [
    "import matplotlib.pyplot as plt\n",
    "\n",
    "plt.plot(g)\n",
    "\n",
    "plt.show()"
   ]
  },
  {
   "cell_type": "code",
   "execution_count": null,
   "metadata": {
    "collapsed": true
   },
   "outputs": [],
   "source": []
  }
 ],
 "metadata": {
  "kernelspec": {
   "display_name": "Python 3",
   "language": "python",
   "name": "python3"
  },
  "language_info": {
   "codemirror_mode": {
    "name": "ipython",
    "version": 3
   },
   "file_extension": ".py",
   "mimetype": "text/x-python",
   "name": "python",
   "nbconvert_exporter": "python",
   "pygments_lexer": "ipython3",
   "version": "3.6.0"
  }
 },
 "nbformat": 4,
 "nbformat_minor": 2
}
