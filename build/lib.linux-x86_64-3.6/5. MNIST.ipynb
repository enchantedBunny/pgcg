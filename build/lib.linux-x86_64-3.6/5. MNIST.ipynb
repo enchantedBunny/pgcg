{
 "cells": [
  {
   "cell_type": "code",
   "execution_count": 1,
   "metadata": {
    "collapsed": false
   },
   "outputs": [],
   "source": [
    "import numpy as np\n",
    "from tensorflow.examples.tutorials.mnist import input_data\n",
    "import pyCalc as p\n",
    "import random\n",
    "import math"
   ]
  },
  {
   "cell_type": "code",
   "execution_count": 2,
   "metadata": {
    "collapsed": false,
    "scrolled": true
   },
   "outputs": [
    {
     "name": "stdout",
     "output_type": "stream",
     "text": [
      "Extracting MNIST_data/train-images-idx3-ubyte.gz\n",
      "Extracting MNIST_data/train-labels-idx1-ubyte.gz\n",
      "Extracting MNIST_data/t10k-images-idx3-ubyte.gz\n",
      "Extracting MNIST_data/t10k-labels-idx1-ubyte.gz\n"
     ]
    }
   ],
   "source": [
    "mnist = input_data.read_data_sets(\"MNIST_data/\", one_hot=False)\n",
    "\n",
    "X_train = np.vstack([img.reshape(-1,) for img in mnist.train.images])\n"
   ]
  },
  {
   "cell_type": "code",
   "execution_count": 3,
   "metadata": {
    "collapsed": false
   },
   "outputs": [],
   "source": [
    "import pyCalc as p\n",
    "import random\n",
    "\n",
    "np.random.seed(1)\n",
    "\n",
    "p.setMode(\"loud\")\n",
    "\n",
    "xs = p.constant(X_train[:54000,:]) #54000x784\n",
    "X_test = X_train[-100:,:]\n",
    "y_train = mnist.train.labels[:54000]\n",
    "y_train = [[1 if n == i else 0 for n in range(10)] for i in y_train]\n",
    "Y_test = mnist.train.labels[-100:]\n",
    "Y_test = [[1 if n == i else 0 for n in range(10)] for i in Y_test]\n",
    "ys = p.constant(np.array(y_train, dtype=float)) #54000x10\n",
    "del mnist"
   ]
  },
  {
   "cell_type": "code",
   "execution_count": 4,
   "metadata": {
    "collapsed": false
   },
   "outputs": [
    {
     "name": "stdout",
     "output_type": "stream",
     "text": [
      "          rows 784 colss 10\n",
      "          valid\n",
      "          output will be 54000 x 10\n",
      "          output will be 54000 x 10\n"
     ]
    }
   ],
   "source": [
    "weights =2*np.random.random((784,10)) - 1\n",
    "ws = p.var(\"independent\", 784,10)\n",
    "\n",
    "l0 = p.function(xs, ws, \"*\") #54000x10\n",
    "l1 = p.function(l0, \"softmax\") #54000x10"
   ]
  },
  {
   "cell_type": "code",
   "execution_count": 5,
   "metadata": {
    "collapsed": false
   },
   "outputs": [
    {
     "name": "stdout",
     "output_type": "stream",
     "text": [
      "          output will be 54000 x 10\n"
     ]
    },
    {
     "data": {
      "text/plain": [
       "array([ 0.08979221,  0.08979221,  0.        ,  0.        ,  0.08979221,\n",
       "        0.        ,  0.08979221,  0.08979221,  0.        ,  0.08979221])"
      ]
     },
     "execution_count": 5,
     "metadata": {},
     "output_type": "execute_result"
    }
   ],
   "source": [
    "p.function(l0, \"softmax_r\").value(dict([(ws,weights)]))[0]"
   ]
  },
  {
   "cell_type": "code",
   "execution_count": 6,
   "metadata": {
    "collapsed": false
   },
   "outputs": [
    {
     "name": "stdout",
     "output_type": "stream",
     "text": [
      "          output will be 54000 x 10\n",
      "          output will be 54000 x 10\n",
      "          output will be 54000 x 10\n",
      "          output will be 54000 x 10\n",
      "          output will be 54000 x 10\n",
      "          trans\n",
      "          output will be 784 x 54000\n",
      "          valid\n",
      "          output will be 784 x 10\n"
     ]
    },
    {
     "name": "stderr",
     "output_type": "stream",
     "text": [
      "Exception ignored in: 'pyCalc.cError'\n",
      "ValueError: <invalid operation: elementwise* >left is a 54000x10 matrix but right is a 54000x10 matrix\n",
      "Exception ignored in: 'pyCalc.cError'\n",
      "ValueError: <invalid operation: elementwise/ >left is a 54000x10 matrix but right is a 54000x10 matrix\n",
      "Exception ignored in: 'pyCalc.cError'\n",
      "ValueError: <invalid operation: elementwise* >left is a 54000x10 matrix but right is a 54000x10 matrix\n"
     ]
    }
   ],
   "source": [
    "cost = p.function(ys, p.function(l1, \"ln\"), \"elementwise*\")\n",
    "l1_error = p.function(ys, l1, \"elementwise/\") #54000x10\n",
    "l1_delta = p.function(l1_error, p.function(l0, \"softmax_r\"), \"elementwise*\") #54000x10\n",
    "tmp = p.function(xs.T(), l1_delta, \"*\") #784x10"
   ]
  },
  {
   "cell_type": "code",
   "execution_count": 7,
   "metadata": {
    "collapsed": false
   },
   "outputs": [],
   "source": [
    "def acc():\n",
    "    out = 0\n",
    "    yss = ys.value().tolist()\n",
    "    y_ = l1.value(dict([(ws,weights)])).tolist()\n",
    "    for i in range(len(ys.value())):\n",
    "        if yss[i].index(max(yss[i])) == y_[i].index(max(y_[i])):\n",
    "            out +=1\n",
    "\n",
    "    print(out/ len(ys.value()))"
   ]
  },
  {
   "cell_type": "code",
   "execution_count": null,
   "metadata": {
    "collapsed": false
   },
   "outputs": [],
   "source": [
    "g = []\n",
    "for i in range(500):\n",
    "    weights = weights + 0.001 * tmp.value(dict([(ws,weights)]))\n",
    "    g.append(sum([sum([-bb for bb in d]) for d in cost.value(dict([(ws,weights)])).tolist()]))\n",
    "    if (i+1)%10 ==0:\n",
    "        acc()\n",
    "        print(\"that's after \", i+1)\n"
   ]
  },
  {
   "cell_type": "code",
   "execution_count": null,
   "metadata": {
    "collapsed": false
   },
   "outputs": [],
   "source": [
    "import matplotlib.pyplot as plt\n",
    "\n",
    "plt.plot(g)\n",
    "\n",
    "plt.show()"
   ]
  },
  {
   "cell_type": "code",
   "execution_count": null,
   "metadata": {
    "collapsed": true
   },
   "outputs": [],
   "source": []
  }
 ],
 "metadata": {
  "kernelspec": {
   "display_name": "Python 3",
   "language": "python",
   "name": "python3"
  },
  "language_info": {
   "codemirror_mode": {
    "name": "ipython",
    "version": 3
   },
   "file_extension": ".py",
   "mimetype": "text/x-python",
   "name": "python",
   "nbconvert_exporter": "python",
   "pygments_lexer": "ipython3",
   "version": "3.6.0"
  }
 },
 "nbformat": 4,
 "nbformat_minor": 2
}
