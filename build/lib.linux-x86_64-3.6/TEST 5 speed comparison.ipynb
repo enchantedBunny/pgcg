{
 "cells": [
  {
   "cell_type": "code",
   "execution_count": 1,
   "metadata": {
    "collapsed": true
   },
   "outputs": [],
   "source": [
    "import numpy as np\n",
    "import pyCalc as p\n",
    "import random\n",
    "import timeit"
   ]
  },
  {
   "cell_type": "code",
   "execution_count": 2,
   "metadata": {
    "collapsed": false
   },
   "outputs": [],
   "source": [
    "def nonlin(x,deriv=False):\n",
    "    if(deriv==True):\n",
    "        return x*(1-x)\n",
    "    return 1/(1+np.exp(-x))\n",
    "\n",
    "X = np.array([  [0,0,1],\n",
    "                    [0,1,1],\n",
    "                    [1,0,1],\n",
    "                    [1,1,1] ])\n",
    "y = np.array([[0,0,1,1]]).T\n",
    "np.random.seed(1)\n",
    "syn0 = 2*np.random.random((3,1)) - 1\n",
    "def native():\n",
    "    global syn0, y, X\n",
    "    for iter in range(10000):\n",
    "        l0 = X\n",
    "        l1 = nonlin(np.dot(l0,syn0))\n",
    "        l1_error = y - l1\n",
    "        l1_delta = l1_error * nonlin(l1,True)\n",
    "        syn0 += np.dot(l0.T,l1_delta)\n",
    "\n"
   ]
  },
  {
   "cell_type": "code",
   "execution_count": 3,
   "metadata": {
    "collapsed": false
   },
   "outputs": [
    {
     "name": "stderr",
     "output_type": "stream",
     "text": [
      "Exception ignored in: 'pyCalc.cError'\n",
      "ValueError: <invalid operation: colwise* >left is a 4x1 matrix but right is a 4x1 matrix\n",
      "Exception ignored in: 'pyCalc.cError'\n",
      "ValueError: <invalid operation: colwise* >left is a 4x1 matrix but right is a 4x1 matrix\n"
     ]
    }
   ],
   "source": [
    "p.setMode(\"quiet\")\n",
    "xs = p.var(\"constant\",np.array([\n",
    "                                   [1,0,0],\n",
    "                                   [1,1,0],\n",
    "                                   [1,0,1],\n",
    "                                   [1,1,1]\n",
    "                               ]\n",
    "                               , dtype= float))\n",
    "ys = p.var(\"constant\", np.array(\n",
    "                                [0,0,1,1]\n",
    "                                , dtype=float))\n",
    "half = p.var(\"constant\", np.array(\n",
    "                                [\n",
    "                                   0.5\n",
    "                               ]\n",
    "                                , dtype=float))\n",
    "np.random.seed(1)\n",
    "weights =2*np.random.random((3,1)) - 1\n",
    "ws = p.var(\"independent\", 3,1)\n",
    "\n",
    "l0 = p.function(xs,ws, \"*\") #4x1\n",
    "l1 = p.function(l0, \"sigmoid\") #4x1\n",
    "l1_error = p.function(ys.T(), l1, \"-\")#4x1\n",
    "sq_err = p.function(l1_error, l1_error, \"colwise*\")#4x1\n",
    "cost = p.function(p.function(sq_err,half,\"*\"),\"colsum\")\n",
    "\n",
    "\n",
    "sig = p.function(l1, \"sigmoid_r\")\n",
    "l1_delta = p.function(sig, l1_error, \"colwise*\")\n",
    "tmp = p.function(xs.T(),l1_delta, \"*\")\n",
    "weights = weights + tmp.value(dict([(ws,weights)]))\n",
    "def pgcg_sym():\n",
    "    global weights, tmp\n",
    "    for i in range(10000):\n",
    "        weights = weights + tmp.value()\n",
    "        \n",
    "def pgcg_num():\n",
    "    global weights, cost,ws\n",
    "    for i in range(10000):\n",
    "        weights = weights + p.differeniate(cost,ws,weights)"
   ]
  },
  {
   "cell_type": "code",
   "execution_count": 4,
   "metadata": {
    "collapsed": false
   },
   "outputs": [
    {
     "data": {
      "text/plain": [
       "133.20914459000005"
      ]
     },
     "execution_count": 4,
     "metadata": {},
     "output_type": "execute_result"
    }
   ],
   "source": [
    "timeit.timeit(native,number=1000)"
   ]
  },
  {
   "cell_type": "code",
   "execution_count": 5,
   "metadata": {
    "collapsed": false
   },
   "outputs": [
    {
     "data": {
      "text/plain": [
       "573.0958234359996"
      ]
     },
     "execution_count": 5,
     "metadata": {},
     "output_type": "execute_result"
    }
   ],
   "source": [
    "timeit.timeit(pgcg_sym,number=1000)"
   ]
  },
  {
   "cell_type": "markdown",
   "metadata": {},
   "source": [
    "weights =2*np.random.random((3,1)) - 1\n",
    "timeit.timeit(pgcg_num,number=10)"
   ]
  },
  {
   "cell_type": "code",
   "execution_count": null,
   "metadata": {
    "collapsed": true
   },
   "outputs": [],
   "source": []
  }
 ],
 "metadata": {
  "kernelspec": {
   "display_name": "Python 3",
   "language": "python",
   "name": "python3"
  },
  "language_info": {
   "codemirror_mode": {
    "name": "ipython",
    "version": 3
   },
   "file_extension": ".py",
   "mimetype": "text/x-python",
   "name": "python",
   "nbconvert_exporter": "python",
   "pygments_lexer": "ipython3",
   "version": "3.6.0"
  }
 },
 "nbformat": 4,
 "nbformat_minor": 2
}
