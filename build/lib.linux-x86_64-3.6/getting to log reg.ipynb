{
 "cells": [
  {
   "cell_type": "code",
   "execution_count": 5,
   "metadata": {
    "collapsed": false
   },
   "outputs": [],
   "source": [
    "import numpy as np\n",
    "import pyCalc as p\n",
    "import random\n",
    "l1 = p.var(\"function\")\n",
    "l1_error = p.var(\"function\")\n",
    "sig = p.var(\"function\")\n",
    "l1_delta = p.var(\"function\")\n",
    "hlp = p.var(\"function\")\n",
    "tmp = p.var(\"function\")\n",
    "xs = p.var(\"constant\",np.array([  [0,1,0],\n",
    "                [0,0,0],\n",
    "                [0,0,1],\n",
    "                [1,0,0] ], dtype= float))\n",
    "ys = p.var(\"constant\", np.array([1,0,1,0], dtype=float))\n",
    "weights =np.array([[ 0.83655703],\n",
    " [ 0.91094098],\n",
    " [-0.43812108]])\n",
    "ws = p.var(\"independent\", np.array([1,3]))\n",
    "l1.f(ws, xs, \"*\")\n",
    "l1_error.f(ys, l1, \"-\")\n",
    "sig.sf(l1, \"sigmoid_r\")\n",
    "l1_delta.f(sig, l1_error, \"*\")\n",
    "hlp.f(xs,l1_delta, \"colwise\")\n",
    "tmp.sf(hlp, \"rowsum\")"
   ]
  },
  {
   "cell_type": "code",
   "execution_count": 6,
   "metadata": {
    "collapsed": false
   },
   "outputs": [
    {
     "name": "stdout",
     "output_type": "stream",
     "text": [
      "[[ 0.83655703]\n",
      " [ 0.91094098]\n",
      " [-0.43812108]]\n",
      "[[ 0.32286815 -0.12239681  0.34339559]]\n",
      "[[ 0.01162259]\n",
      " [ 8.17239282]\n",
      " [-8.14359958]]\n"
     ]
    }
   ],
   "source": [
    "print(weights)\n",
    "print(tmp.value(weights).T)\n",
    "for i in range(1000):\n",
    "    weights = weights + tmp.value(weights)\n",
    "\n",
    "print(weights)"
   ]
  },
  {
   "cell_type": "code",
   "execution_count": null,
   "metadata": {
    "collapsed": true
   },
   "outputs": [],
   "source": []
  }
 ],
 "metadata": {
  "kernelspec": {
   "display_name": "Python 3",
   "language": "python",
   "name": "python3"
  },
  "language_info": {
   "codemirror_mode": {
    "name": "ipython",
    "version": 3
   },
   "file_extension": ".py",
   "mimetype": "text/x-python",
   "name": "python",
   "nbconvert_exporter": "python",
   "pygments_lexer": "ipython3",
   "version": "3.6.0"
  }
 },
 "nbformat": 4,
 "nbformat_minor": 2
}
