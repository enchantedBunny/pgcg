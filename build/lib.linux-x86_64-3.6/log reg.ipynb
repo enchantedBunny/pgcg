{
 "cells": [
  {
   "cell_type": "code",
   "execution_count": 18,
   "metadata": {
    "collapsed": false
   },
   "outputs": [
    {
     "name": "stdout",
     "output_type": "stream",
     "text": [
      "          rows 3 colss 1\n",
      "          output will be 3 x 4\n",
      "          output will be 3 x 4\n",
      "          trans\n",
      "          output will be 4 x 1\n",
      "          output will be 4 x 4\n",
      "          output will be 3 x 4\n",
      "          output will be 3 x 4\n",
      "          trans\n",
      "          output will be 4 x 3\n",
      "          valid\n",
      "          output will be 3 x 3\n",
      "          My ID is 80 and myoutput will be 3 x 4\n"
     ]
    }
   ],
   "source": [
    "import numpy as np\n",
    "import pyCalc as p\n",
    "import random\n",
    "p.setMode(p,\"loud\")\n",
    "xs = p.var(\"constant\",np.array([[1,1,1,1],\n",
    "                               [0,1,0,1],\n",
    "                               [0,0,1,1]]                           \n",
    "                               , dtype= float))\n",
    "ys = p.var(\"constant\", np.array([0,0,1,1], dtype=float))\n",
    "np.random.seed(1)\n",
    "weights =2*np.random.random((3,1)) - 1\n",
    "ws = p.var(\"independent\", 3,1)\n",
    "\n",
    "l0 = p.function(ws, xs, \"*\")\n",
    "l1 = p.function(l0, \"sigmoid\")\n",
    "\n",
    "l1_error = p.function(ys.T(), l1, \"-\")\n",
    "#C(ws) = .5(ys - sig(wx))^2\n",
    "#dc/dws = (ys - sig(wx)) * sig'(cx) * x\n",
    "#          1x4  1x4       1x4        3x4\n",
    "sig = p.function(l1, \"sigmoid_r\")\n",
    "l1_delta = p.function(sig, l1_error, \"rowwise*\")\n",
    "tmp = p.function(xs,l1_delta.T(), \"*\")\n",
    "\n",
    "l1.preview()"
   ]
  },
  {
   "cell_type": "code",
   "execution_count": 12,
   "metadata": {
    "collapsed": false
   },
   "outputs": [
    {
     "name": "stdout",
     "output_type": "stream",
     "text": [
      "[[ 76.12603571  73.04769872  60.28868718]\n",
      " [ 62.94629426  60.40091141  49.85087439]\n",
      " [ 76.10548055  73.02797475  60.27240833]]\n"
     ]
    }
   ],
   "source": [
    "print(tmp.value(dict([(ws,weights)])))"
   ]
  },
  {
   "cell_type": "code",
   "execution_count": 13,
   "metadata": {
    "collapsed": false
   },
   "outputs": [
    {
     "name": "stdout",
     "output_type": "stream",
     "text": [
      "[[ nan  nan  nan]\n",
      " [ nan  nan  nan]\n",
      " [ nan  nan  nan]]\n"
     ]
    }
   ],
   "source": [
    "g= []\n",
    "for i in range(1000):\n",
    "    weights = weights + tmp.value(dict([(ws,weights)]))\n",
    "    g.append(np.sum(l1_error.value(dict([(ws,weights)]))))\n",
    "print(weights)"
   ]
  },
  {
   "cell_type": "code",
   "execution_count": 9,
   "metadata": {
    "collapsed": false
   },
   "outputs": [
    {
     "name": "stdout",
     "output_type": "stream",
     "text": [
      "[[ nan  nan  nan  nan]\n",
      " [ nan  nan  nan  nan]\n",
      " [ nan  nan  nan  nan]]\n",
      "nan\n"
     ]
    }
   ],
   "source": [
    "print(l1.value(dict([(ws,weights)])))\n",
    "print(np.sum(l1_error.value(dict([(ws,weights)]))))"
   ]
  },
  {
   "cell_type": "code",
   "execution_count": 10,
   "metadata": {
    "collapsed": false
   },
   "outputs": [
    {
     "data": {
      "image/png": "[encoded data removed]",
      "text/plain": [
       "<matplotlib.figure.Figure at 0x7f56e0e75da0>"
      ]
     },
     "metadata": {},
     "output_type": "display_data"
    }
   ],
   "source": [
    "import matplotlib.pyplot as plt\n",
    "plt.plot(g)\n",
    "plt.ylabel('error')\n",
    "plt.show()"
   ]
  },
  {
   "cell_type": "code",
   "execution_count": null,
   "metadata": {
    "collapsed": true
   },
   "outputs": [],
   "source": []
  }
 ],
 "metadata": {
  "kernelspec": {
   "display_name": "Python 3",
   "language": "python",
   "name": "python3"
  },
  "language_info": {
   "codemirror_mode": {
    "name": "ipython",
    "version": 3
   },
   "file_extension": ".py",
   "mimetype": "text/x-python",
   "name": "python",
   "nbconvert_exporter": "python",
   "pygments_lexer": "ipython3",
   "version": "3.6.0"
  }
 },
 "nbformat": 4,
 "nbformat_minor": 2
}
