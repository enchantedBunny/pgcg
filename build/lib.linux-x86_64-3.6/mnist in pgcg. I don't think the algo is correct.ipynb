{
 "cells": [
  {
   "cell_type": "code",
   "execution_count": 1,
   "metadata": {
    "collapsed": true
   },
   "outputs": [],
   "source": [
    "import numpy as np\n",
    "from tensorflow.examples.tutorials.mnist import input_data\n",
    "import pyCalc as p\n",
    "import random\n",
    "import math"
   ]
  },
  {
   "cell_type": "code",
   "execution_count": 2,
   "metadata": {
    "collapsed": false,
    "scrolled": true
   },
   "outputs": [
    {
     "name": "stdout",
     "output_type": "stream",
     "text": [
      "Extracting MNIST_data/train-images-idx3-ubyte.gz\n",
      "Extracting MNIST_data/train-labels-idx1-ubyte.gz\n",
      "Extracting MNIST_data/t10k-images-idx3-ubyte.gz\n",
      "Extracting MNIST_data/t10k-labels-idx1-ubyte.gz\n"
     ]
    }
   ],
   "source": [
    "mnist = input_data.read_data_sets(\"MNIST_data/\", one_hot=False)\n",
    "\n",
    "X_train = np.vstack([img.reshape(-1,) for img in mnist.train.images])\n"
   ]
  },
  {
   "cell_type": "code",
   "execution_count": 3,
   "metadata": {
    "collapsed": false
   },
   "outputs": [],
   "source": [
    "import pyCalc as p\n",
    "import random\n",
    "\n",
    "np.random.seed(1)\n",
    "\n",
    "p.setMode(p,\"quiet\")\n",
    "\n",
    "xs = p.constant(X_train[:54000,:])\n",
    "X_test = X_train[-100:,:]\n",
    "del X_train\n",
    "y_train = mnist.train.labels[:54000]\n",
    "y_train = [[1 if n == i else 0 for n in range(10)] for i in y_train]\n",
    "Y_test = mnist.train.labels[-100:]\n",
    "Y_test = [[1 if n == i else 0 for n in range(10)] for i in Y_test]\n",
    "ys = p.constant(np.array(y_train, dtype=float))\n",
    "del y_train\n",
    "del mnist"
   ]
  },
  {
   "cell_type": "code",
   "execution_count": 4,
   "metadata": {
    "collapsed": true
   },
   "outputs": [],
   "source": [
    "xss = p.constant(np.array(X_test, dtype=float))\n",
    "yss = p.constant(np.array(Y_test, dtype=float))\n",
    "wss = p.variable(784,10)\n",
    "l0s = p.function(xss, wss, \"*\")\n",
    "l1s = p.function(l0s, \"sigmoid\")\n"
   ]
  },
  {
   "cell_type": "code",
   "execution_count": 5,
   "metadata": {
    "collapsed": false
   },
   "outputs": [],
   "source": [
    "xs.preview()\n",
    "ys.preview()"
   ]
  },
  {
   "cell_type": "code",
   "execution_count": 6,
   "metadata": {
    "collapsed": false
   },
   "outputs": [],
   "source": [
    "weights =2*np.random.random((784,10)) - 1\n",
    "ws = p.variable(784,10)"
   ]
  },
  {
   "cell_type": "code",
   "execution_count": 7,
   "metadata": {
    "collapsed": false
   },
   "outputs": [],
   "source": [
    "l0 = p.function(xs, ws, \"*\")\n",
    "l1 = p.function(l0, \"sigmoid\")"
   ]
  },
  {
   "cell_type": "code",
   "execution_count": 8,
   "metadata": {
    "collapsed": false
   },
   "outputs": [],
   "source": [
    "l1_error = p.function(ys, l1, \"-\")\n",
    "l1_error.preview()"
   ]
  },
  {
   "cell_type": "code",
   "execution_count": 9,
   "metadata": {
    "collapsed": false
   },
   "outputs": [],
   "source": [
    "sig = p.function(l1, \"sigmoid_r\")\n",
    "l1_delta = p.function(sig, l1_error, \"rowwise*\") #this doesn't work for 2d matrices\n",
    "tmp = p.function(l1_delta.T(),xs, \"*\").T()"
   ]
  },
  {
   "cell_type": "code",
   "execution_count": 10,
   "metadata": {
    "collapsed": false
   },
   "outputs": [
    {
     "name": "stdout",
     "output_type": "stream",
     "text": [
      "maximum accuracy: 3.0%\n"
     ]
    }
   ],
   "source": [
    "hyp = l1s.value(dict([(wss,weights)])).tolist()\n",
    "hyp = [i.index(max(i)) + 1 for i in hyp]\n",
    "act = yss.value().tolist()\n",
    "act = [i.index(1) + 1 for i in act]\n",
    "wr = 0;\n",
    "for i in range(len(act)):\n",
    "    if hyp[i] == act[i]:\n",
    "        wr+=1\n",
    "print(\"maximum accuracy: \",( wr / len(act))*100, \"%\",sep=\"\")"
   ]
  },
  {
   "cell_type": "code",
   "execution_count": 12,
   "metadata": {
    "collapsed": false
   },
   "outputs": [
    {
     "name": "stdout",
     "output_type": "stream",
     "text": [
      "5% done 1900 iterations remaining\n",
      "estimated remaining time: 71:22\n",
      "10% done 1800 iterations remaining\n",
      "estimated remaining time: 67:27\n",
      "15% done 1700 iterations remaining\n",
      "estimated remaining time: 63:50\n",
      "20% done 1600 iterations remaining\n",
      "estimated remaining time: 59:31\n",
      "25% done 1500 iterations remaining\n",
      "estimated remaining time: 55:28\n",
      "30% done 1400 iterations remaining\n",
      "estimated remaining time: 51:35\n",
      "35% done 1300 iterations remaining\n",
      "estimated remaining time: 47:46\n",
      "40% done 1200 iterations remaining\n",
      "estimated remaining time: 43:60\n",
      "45% done 1100 iterations remaining\n",
      "estimated remaining time: 40:15\n",
      "50% done 1000 iterations remaining\n",
      "estimated remaining time: 36:32\n",
      "56% done 900 iterations remaining\n",
      "estimated remaining time: 32:50\n",
      "60% done 800 iterations remaining\n",
      "estimated remaining time: 29:10\n",
      "65% done 700 iterations remaining\n",
      "estimated remaining time: 25:30\n",
      "70% done 600 iterations remaining\n",
      "estimated remaining time: 21:50\n",
      "75% done 500 iterations remaining\n",
      "estimated remaining time: 18:12\n",
      "80% done 400 iterations remaining\n",
      "estimated remaining time: 14:33\n",
      "85% done 300 iterations remaining\n",
      "estimated remaining time: 10:55\n",
      "90% done 200 iterations remaining\n",
      "estimated remaining time: 7:16\n",
      "95% done 100 iterations remaining\n",
      "estimated remaining time: 3:38\n",
      "100% done 0 iterations remaining\n",
      "estimated remaining time: 0:00\n"
     ]
    }
   ],
   "source": [
    "g=[]\n",
    "import time\n",
    "seconds = time.time()\n",
    "iters = 2000\n",
    "from ipywidgets import FloatProgress\n",
    "from IPython.display import display\n",
    "f = FloatProgress(min=0, max=iters, description='Loading:',\n",
    "    bar_style='info',orientation='horizontal')\n",
    "display(f)\n",
    "for i in range(iters):\n",
    "    f.value += 1\n",
    "    weights = weights + 100*tmp.value(dict([(ws,weights)]))\n",
    "    if (i+1)%100==0:\n",
    "        print(math.ceil(100*((i+1)/iters)), \"% done \", iters - i-1, \" iterations remaining\", sep=\"\")\n",
    "        m, s = divmod((1-((i+1)/iters))*(time.time()-seconds)/((i+1)/iters), 60)\n",
    "        m = math.ceil(m)\n",
    "        s = math.ceil(s)\n",
    "        if s < 10:\n",
    "            s = \"0\" + str(s)\n",
    "        print(\"estimated remaining time: \", m, \":\",s, sep=\"\")\n",
    "    "
   ]
  },
  {
   "cell_type": "code",
   "execution_count": 13,
   "metadata": {
    "collapsed": false
   },
   "outputs": [
    {
     "name": "stdout",
     "output_type": "stream",
     "text": [
      "maximum accuracy: 11.287037037037036%\n"
     ]
    }
   ],
   "source": [
    "hyp = l1.value(dict([(ws,weights)])).tolist()\n",
    "hyp = [i.index(max(i)) + 1 for i in hyp]\n",
    "act = ys.value().tolist()\n",
    "act = [i.index(1) + 1 for i in act]\n",
    "wr = 0;\n",
    "for i in range(len(act)):\n",
    "    if hyp[i] == act[i]:\n",
    "        wr+=1\n",
    "print(\"maximum accuracy: \",( wr / len(act))*100, \"%\",sep=\"\")"
   ]
  },
  {
   "cell_type": "code",
   "execution_count": 14,
   "metadata": {
    "collapsed": false
   },
   "outputs": [
    {
     "name": "stdout",
     "output_type": "stream",
     "text": [
      "maximum accuracy: 10.0%\n"
     ]
    }
   ],
   "source": [
    "\n",
    "hyp = l1s.value(dict([(wss,weights)])).tolist()\n",
    "hyp = [i.index(max(i)) + 1 for i in hyp]\n",
    "act = yss.value().tolist()\n",
    "act = [i.index(1) + 1 for i in act]\n",
    "wr = 0;\n",
    "for i in range(len(act)):\n",
    "    if hyp[i] == act[i]:\n",
    "        wr+=1\n",
    "print(\"maximum accuracy: \",( wr / len(act))*100, \"%\",sep=\"\")"
   ]
  },
  {
   "cell_type": "code",
   "execution_count": null,
   "metadata": {
    "collapsed": true
   },
   "outputs": [],
   "source": []
  },
  {
   "cell_type": "code",
   "execution_count": null,
   "metadata": {
    "collapsed": true
   },
   "outputs": [],
   "source": []
  }
 ],
 "metadata": {
  "kernelspec": {
   "display_name": "Python 3",
   "language": "python",
   "name": "python3"
  },
  "language_info": {
   "codemirror_mode": {
    "name": "ipython",
    "version": 3
   },
   "file_extension": ".py",
   "mimetype": "text/x-python",
   "name": "python",
   "nbconvert_exporter": "python",
   "pygments_lexer": "ipython3",
   "version": "3.6.0"
  },
  "widgets": {
   "state": {
    "76afbc4e7a774c1781d1cdd553ce8bae": {
     "views": [
      {
       "cell_index": 10
      }
     ]
    }
   },
   "version": "1.2.0"
  }
 },
 "nbformat": 4,
 "nbformat_minor": 2
}
