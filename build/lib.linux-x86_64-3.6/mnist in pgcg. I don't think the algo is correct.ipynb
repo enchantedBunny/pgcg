{
 "cells": [
  {
   "cell_type": "code",
   "execution_count": 1,
   "metadata": {
    "collapsed": false
   },
   "outputs": [],
   "source": [
    "import numpy as np\n",
    "from tensorflow.examples.tutorials.mnist import input_data\n",
    "import pyCalc as p\n",
    "import random\n",
    "import math"
   ]
  },
  {
   "cell_type": "code",
   "execution_count": 2,
   "metadata": {
    "collapsed": false,
    "scrolled": true
   },
   "outputs": [
    {
     "name": "stdout",
     "output_type": "stream",
     "text": [
      "Extracting MNIST_data/train-images-idx3-ubyte.gz\n",
      "Extracting MNIST_data/train-labels-idx1-ubyte.gz\n",
      "Extracting MNIST_data/t10k-images-idx3-ubyte.gz\n",
      "Extracting MNIST_data/t10k-labels-idx1-ubyte.gz\n"
     ]
    }
   ],
   "source": [
    "mnist = input_data.read_data_sets(\"MNIST_data/\", one_hot=False)\n",
    "\n",
    "X_train = np.vstack([img.reshape(-1,) for img in mnist.train.images])\n"
   ]
  },
  {
   "cell_type": "code",
   "execution_count": 3,
   "metadata": {
    "collapsed": false
   },
   "outputs": [],
   "source": [
    "import pyCalc as p\n",
    "import random\n",
    "\n",
    "np.random.seed(1)\n",
    "\n",
    "p.setMode(\"quiet\")\n",
    "\n",
    "xs = p.constant(X_train[:54000,:])\n",
    "X_test = X_train[-100:,:]\n",
    "del X_train\n",
    "y_train = mnist.train.labels[:54000]\n",
    "y_train = [[1 if n == i else 0 for n in range(10)] for i in y_train]\n",
    "Y_test = mnist.train.labels[-100:]\n",
    "Y_test = [[1 if n == i else 0 for n in range(10)] for i in Y_test]\n",
    "ys = p.constant(np.array(y_train, dtype=float))\n",
    "del y_train\n",
    "del mnist"
   ]
  },
  {
   "cell_type": "code",
   "execution_count": 4,
   "metadata": {
    "collapsed": false
   },
   "outputs": [],
   "source": [
    "xss = p.constant(np.array(X_test, dtype=float))\n",
    "yss = p.constant(np.array(Y_test, dtype=float)) \n",
    "wss = p.variable(784,10)\n",
    "l0s = p.function(xss, wss, \"*\")\n",
    "l1s = p.function(l0s, \"sigmoid\")\n"
   ]
  },
  {
   "cell_type": "code",
   "execution_count": 5,
   "metadata": {
    "collapsed": false
   },
   "outputs": [
    {
     "name": "stdout",
     "output_type": "stream",
     "text": [
      "          My ID is 1 and myoutput will be 54000 x 784\n",
      "          My ID is 2 and myoutput will be 54000 x 10\n"
     ]
    }
   ],
   "source": [
    "xs.preview()\n",
    "ys.preview()"
   ]
  },
  {
   "cell_type": "code",
   "execution_count": 6,
   "metadata": {
    "collapsed": false
   },
   "outputs": [],
   "source": [
    "weights =2*np.random.random((784,10)) - 1\n",
    "ws = p.variable(784,10)"
   ]
  },
  {
   "cell_type": "code",
   "execution_count": 7,
   "metadata": {
    "collapsed": false
   },
   "outputs": [],
   "source": [
    "l0 = p.function(xs, ws, \"*\")\n",
    "l1 = p.function(l0, \"sigmoid\")"
   ]
  },
  {
   "cell_type": "code",
   "execution_count": 8,
   "metadata": {
    "collapsed": false
   },
   "outputs": [
    {
     "name": "stdout",
     "output_type": "stream",
     "text": [
      "          My ID is 11 and myoutput will be 54000 x 10\n"
     ]
    }
   ],
   "source": [
    "l1_error = p.function(ys, l1, \"-\")\n",
    "l1_error.preview()"
   ]
  },
  {
   "cell_type": "code",
   "execution_count": 9,
   "metadata": {
    "collapsed": false
   },
   "outputs": [
    {
     "name": "stderr",
     "output_type": "stream",
     "text": [
      "Exception ignored in: 'pyCalc.cError'\n",
      "ValueError: invalid operation\n",
      "Exception ignored in: 'pyCalc.cError'\n",
      "ValueError: left is a 54000x10 matrix\n",
      "Exception ignored in: 'pyCalc.cError'\n",
      "ValueError: but right is a 10x10 matrix\n"
     ]
    }
   ],
   "source": [
    "sig = p.function(l1, \"sigmoid_r\")\n",
    "l1_delta = p.function(sig, l1_error, \"rowwise*\") #this doesn't work for 2d matrices\n",
    "tmp = p.function(l1_delta.T(),xs, \"*\").T()"
   ]
  },
  {
   "cell_type": "code",
   "execution_count": 10,
   "metadata": {
    "collapsed": false
   },
   "outputs": [
    {
     "name": "stdout",
     "output_type": "stream",
     "text": [
      "          My ID is 16 and myoutput will be 784 x 10\n"
     ]
    },
    {
     "data": {
      "text/plain": [
       "array([[ -3.09845389e-02,  -3.13824359e-02,  -3.07695854e-02, ...,\n",
       "         -2.97073711e-02,  -2.75144796e-02,  -3.26470140e-02],\n",
       "       [ -2.07182407e-01,  -2.01508407e-01,  -2.14663262e-01, ...,\n",
       "         -1.76005887e-01,  -2.00448399e-01,  -2.03248122e-01],\n",
       "       [ -6.93997275e-01,  -6.94983190e-01,  -6.81667292e-01, ...,\n",
       "         -6.16347154e-01,  -6.56410872e-01,  -6.93766520e-01],\n",
       "       ..., \n",
       "       [ -6.92553556e-09,  -6.82505533e-09,  -6.80668121e-09, ...,\n",
       "         -6.66075791e-09,  -6.76795583e-09,  -6.87938059e-09],\n",
       "       [  0.00000000e+00,   0.00000000e+00,   0.00000000e+00, ...,\n",
       "          0.00000000e+00,   0.00000000e+00,   0.00000000e+00],\n",
       "       [ -1.82415815e-05,  -1.74448639e-05,  -1.79978466e-05, ...,\n",
       "         -1.81260190e-05,  -1.81666021e-05,  -1.69802096e-05]])"
      ]
     },
     "execution_count": 10,
     "metadata": {},
     "output_type": "execute_result"
    }
   ],
   "source": [
    "tmp.preview()\n",
    "tmp.value(dict([(ws,weights)]))"
   ]
  },
  {
   "cell_type": "code",
   "execution_count": null,
   "metadata": {
    "collapsed": false
   },
   "outputs": [
    {
     "name": "stdout",
     "output_type": "stream",
     "text": [
      "maximum accuracy: 3.0%\n"
     ]
    }
   ],
   "source": [
    "hyp = l1s.value(dict([(wss,weights)])).tolist()\n",
    "hyp = [i.index(max(i)) + 1 for i in hyp]\n",
    "act = yss.value().tolist()\n",
    "act = [i.index(1) + 1 for i in act]\n",
    "wr = 0;\n",
    "for i in range(len(act)):\n",
    "    if hyp[i] == act[i]:\n",
    "        wr+=1\n",
    "print(\"maximum accuracy: \",( wr / len(act))*100, \"%\",sep=\"\")"
   ]
  },
  {
   "cell_type": "code",
   "execution_count": null,
   "metadata": {
    "collapsed": false
   },
   "outputs": [],
   "source": [
    "g=[]\n",
    "import time\n",
    "seconds = time.time()\n",
    "iters = 2000\n",
    "from ipywidgets import FloatProgress\n",
    "from IPython.display import display\n",
    "f = FloatProgress(min=0, max=iters, description='Loading:',\n",
    "    bar_style='info',orientation='horizontal')\n",
    "display(f)\n",
    "for i in range(iters):\n",
    "    f.value += 1\n",
    "    weights = weights + 100*tmp.value(dict([(ws,weights)]))\n",
    "    if (i+1)%100==0:\n",
    "        print(math.ceil(100*((i+1)/iters)), \"% done \", iters - i-1, \" iterations remaining\", sep=\"\")\n",
    "        m, s = divmod((1-((i+1)/iters))*(time.time()-seconds)/((i+1)/iters), 60)\n",
    "        m = math.ceil(m)\n",
    "        s = math.ceil(s)\n",
    "        if s < 10:\n",
    "            s = \"0\" + str(s)\n",
    "        print(\"estimated remaining time: \", m, \":\",s, sep=\"\")\n",
    "    "
   ]
  },
  {
   "cell_type": "code",
   "execution_count": null,
   "metadata": {
    "collapsed": false
   },
   "outputs": [],
   "source": [
    "hyp = l1.value(dict([(ws,weights)])).tolist()\n",
    "hyp = [i.index(max(i)) + 1 for i in hyp]\n",
    "act = ys.value().tolist()\n",
    "act = [i.index(1) + 1 for i in act]\n",
    "wr = 0;\n",
    "for i in range(len(act)):\n",
    "    if hyp[i] == act[i]:\n",
    "        wr+=1\n",
    "print(\"maximum accuracy: \",( wr / len(act))*100, \"%\",sep=\"\")"
   ]
  },
  {
   "cell_type": "code",
   "execution_count": null,
   "metadata": {
    "collapsed": false
   },
   "outputs": [],
   "source": [
    "\n",
    "hyp = l1s.value(dict([(wss,weights)])).tolist()\n",
    "hyp = [i.index(max(i)) + 1 for i in hyp]\n",
    "act = yss.value().tolist()\n",
    "act = [i.index(1) + 1 for i in act]\n",
    "wr = 0;\n",
    "for i in range(len(act)):\n",
    "    if hyp[i] == act[i]:\n",
    "        wr+=1\n",
    "print(\"maximum accuracy: \",( wr / len(act))*100, \"%\",sep=\"\")"
   ]
  },
  {
   "cell_type": "code",
   "execution_count": null,
   "metadata": {
    "collapsed": true
   },
   "outputs": [],
   "source": []
  },
  {
   "cell_type": "code",
   "execution_count": null,
   "metadata": {
    "collapsed": true
   },
   "outputs": [],
   "source": []
  }
 ],
 "metadata": {
  "kernelspec": {
   "display_name": "Python 3",
   "language": "python",
   "name": "python3"
  },
  "language_info": {
   "codemirror_mode": {
    "name": "ipython",
    "version": 3
   },
   "file_extension": ".py",
   "mimetype": "text/x-python",
   "name": "python",
   "nbconvert_exporter": "python",
   "pygments_lexer": "ipython3",
   "version": "3.6.0"
  },
  "widgets": {
   "state": {
    "b67e9fac7d034beb82b210381576299b": {
     "views": [
      {
       "cell_index": 11
      }
     ]
    }
   },
   "version": "1.2.0"
  }
 },
 "nbformat": 4,
 "nbformat_minor": 2
}
