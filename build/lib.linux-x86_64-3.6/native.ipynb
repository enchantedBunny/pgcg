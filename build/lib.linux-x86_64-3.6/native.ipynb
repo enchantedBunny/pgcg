{
 "cells": [
  {
   "cell_type": "code",
   "execution_count": 4,
   "metadata": {
    "collapsed": false
   },
   "outputs": [
    {
     "name": "stdout",
     "output_type": "stream",
     "text": [
      "l0\n",
      "[[-0.43812108]\n",
      " [ 0.4728199 ]\n",
      " [ 0.39843595]\n",
      " [ 1.30937693]]\n",
      "l1\n",
      "[[ 0.39218877]\n",
      " [ 0.61605097]\n",
      " [ 0.59831182]\n",
      " [ 0.78740888]]\n",
      "l1_error\n",
      "[[-0.39218877]\n",
      " [-0.61605097]\n",
      " [ 0.40168818]\n",
      " [ 0.21259112]]\n",
      "sig\n",
      "[[ 0.23837674]\n",
      " [ 0.23653217]\n",
      " [ 0.24033479]\n",
      " [ 0.16739614]]\n",
      "l1_delta\n",
      "[[-0.09348868]\n",
      " [-0.14571587]\n",
      " [ 0.09653964]\n",
      " [ 0.03558693]]\n",
      "tmp\n",
      "[[ 0.13212658]\n",
      " [-0.11012894]\n",
      " [-0.10707798]]\n",
      "Output After Training:\n",
      "[[ 0.39218877]\n",
      " [ 0.61605097]\n",
      " [ 0.59831182]\n",
      " [ 0.78740888]]\n",
      "[[ 0.96868361]\n",
      " [ 0.80081204]\n",
      " [-0.54519906]]\n"
     ]
    }
   ],
   "source": [
    "import numpy as np\n",
    "\n",
    "# sigmoid function\n",
    "def nonlin(x,deriv=False):\n",
    "    if(deriv==True):\n",
    "        return x*(1-x)\n",
    "    return 1/(1+np.exp(-x))\n",
    "    \n",
    "# input dataset\n",
    "X = np.array([  [0,0,1],\n",
    "                [0,1,1],\n",
    "                [1,0,1],\n",
    "                [1,1,1] ])\n",
    "    \n",
    "# output dataset            \n",
    "y = np.array([[0,0,1,1]]).T\n",
    "\n",
    "# seed random numbers to make calculation\n",
    "# deterministic (just a good practice)\n",
    "np.random.seed(1)\n",
    "\n",
    "# initialize weights randomly with mean 0\n",
    "syn0 = np.array([[ 0.83655703],\n",
    " [ 0.91094098],\n",
    " [-0.43812108]], dtype = float)\n",
    "\n",
    "for iter in range(1):\n",
    "\n",
    "    # forward propagation\n",
    "    l0 = X\n",
    "    l1 = nonlin(np.dot(l0,syn0))\n",
    "    print(\"l0\")\n",
    "    print(np.dot(l0,syn0))\n",
    "    print(\"l1\")\n",
    "    print(l1)\n",
    "\n",
    "    # how much did we miss?\n",
    "    l1_error = y - l1\n",
    "    print(\"l1_error\")\n",
    "    print(l1_error)\n",
    "    # multiply how much we missed by the \n",
    "    # slope of the sigmoid at the values in l1\n",
    "    l1_delta = l1_error * nonlin(l1,True)\n",
    "    print(\"sig\")\n",
    "    print(nonlin(l1,True))\n",
    "    print(\"l1_delta\")\n",
    "    print(l1_delta)\n",
    "    # update weights\n",
    "    print(\"tmp\")\n",
    "    print(np.dot(l0.T,l1_delta))\n",
    "    syn0 += np.dot(l0.T,l1_delta)\n",
    "\n",
    "print (\"Output After Training:\")\n",
    "print (l1)\n",
    "\n",
    "print(syn0)\n"
   ]
  },
  {
   "cell_type": "code",
   "execution_count": null,
   "metadata": {
    "collapsed": true
   },
   "outputs": [],
   "source": []
  },
  {
   "cell_type": "code",
   "execution_count": null,
   "metadata": {
    "collapsed": true
   },
   "outputs": [],
   "source": []
  }
 ],
 "metadata": {
  "kernelspec": {
   "display_name": "Python 3",
   "language": "python",
   "name": "python3"
  },
  "language_info": {
   "codemirror_mode": {
    "name": "ipython",
    "version": 3
   },
   "file_extension": ".py",
   "mimetype": "text/x-python",
   "name": "python",
   "nbconvert_exporter": "python",
   "pygments_lexer": "ipython3",
   "version": "3.6.0"
  }
 },
 "nbformat": 4,
 "nbformat_minor": 2
}
