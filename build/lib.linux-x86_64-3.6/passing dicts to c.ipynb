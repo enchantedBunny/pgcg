{
 "cells": [
  {
   "cell_type": "code",
   "execution_count": 1,
   "metadata": {
    "collapsed": false
   },
   "outputs": [
    {
     "name": "stdout",
     "output_type": "stream",
     "text": [
      "[[ 1.  2.]\n",
      " [ 3.  4.]]\n"
     ]
    }
   ],
   "source": [
    "import pyCalc as p\n",
    "import numpy as np\n",
    "hop = p.var(\"constant\",np.array([[1,2], [3,4]], dtype = float))\n",
    "clop = p.var(\"independent\", np.array([2,2]))\n",
    "glop = p.var(\"\")\n",
    "glop.f(hop,clop,\"*\")\n",
    "chlop = p.var(\"\")\n",
    "chlop.f(glop, hop, \"+\")\n",
    "\n"
   ]
  },
  {
   "cell_type": "code",
   "execution_count": 2,
   "metadata": {
    "collapsed": false
   },
   "outputs": [
    {
     "name": "stdout",
     "output_type": "stream",
     "text": [
      "received\n",
      "[[ 1.  3.]\n",
      " [ 2.  4.]]\n",
      "used\n",
      "[[ 1.  2.]\n",
      " [ 3.  4.]]\n",
      "[[ 1.  2.]\n",
      " [ 3.  4.]]\n"
     ]
    },
    {
     "data": {
      "text/plain": [
       "array([[  7.,  10.],\n",
       "       [ 15.,  22.]])"
      ]
     },
     "execution_count": 2,
     "metadata": {},
     "output_type": "execute_result"
    }
   ],
   "source": [
    "glop.value(dict([(clop,np.array([[1,2], [3,4]], dtype = float))]))"
   ]
  },
  {
   "cell_type": "code",
   "execution_count": 3,
   "metadata": {
    "collapsed": false
   },
   "outputs": [
    {
     "name": "stdout",
     "output_type": "stream",
     "text": [
      "[[ 1.  2.]\n",
      " [ 3.  4.]]\n"
     ]
    },
    {
     "data": {
      "text/plain": [
       "array([[  8.,  12.],\n",
       "       [ 18.,  26.]])"
      ]
     },
     "execution_count": 3,
     "metadata": {},
     "output_type": "execute_result"
    }
   ],
   "source": [
    "chlop.value(dict([(clop,np.array([[1,2], [3,4]], dtype = float))]))"
   ]
  },
  {
   "cell_type": "code",
   "execution_count": 4,
   "metadata": {
    "collapsed": true
   },
   "outputs": [],
   "source": [
    "def getChlopped(jim):\n",
    "    hop = p.var(\"constant\",np.array([[1,2], [3,4]], dtype = float))\n",
    "    glop = p.var(\"\")\n",
    "    glop.f(hop,jim,\"*\")\n",
    "    chlop = p.var(\"\")\n",
    "    chlop.f(glop, hop, \"+\")\n",
    "    return chlop"
   ]
  },
  {
   "cell_type": "code",
   "execution_count": null,
   "metadata": {
    "collapsed": false
   },
   "outputs": [],
   "source": [
    "aaaa = p.var(\"independent\", np.array([2,2]))\n",
    "g = getChlopped(aaaa)\n",
    "g.value(dict([(clop,np.array([[1,2], [3,4]], dtype = float))]))"
   ]
  },
  {
   "cell_type": "code",
   "execution_count": null,
   "metadata": {
    "collapsed": true
   },
   "outputs": [],
   "source": []
  }
 ],
 "metadata": {
  "kernelspec": {
   "display_name": "Python 3",
   "language": "python",
   "name": "python3"
  },
  "language_info": {
   "codemirror_mode": {
    "name": "ipython",
    "version": 3
   },
   "file_extension": ".py",
   "mimetype": "text/x-python",
   "name": "python",
   "nbconvert_exporter": "python",
   "pygments_lexer": "ipython3",
   "version": "3.6.0"
  }
 },
 "nbformat": 4,
 "nbformat_minor": 2
}
