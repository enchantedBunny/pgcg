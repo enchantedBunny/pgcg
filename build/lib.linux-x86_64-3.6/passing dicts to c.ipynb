{
 "cells": [
  {
   "cell_type": "code",
   "execution_count": 1,
   "metadata": {
    "collapsed": false
   },
   "outputs": [
    {
     "name": "stdout",
     "output_type": "stream",
     "text": [
      "4\n",
      "(2, array([[ 1.,  2.],\n",
      "       [ 3.,  4.]]))\n",
      "alive\n",
      "finding where\n",
      "here\n",
      "here\n",
      "here\n",
      "[[ 1.  3.]\n",
      " [ 2.  4.]]\n",
      "here\n",
      "[[ 5.]]\n",
      "here\n",
      "[[ 1.  3.]\n",
      " [ 2.  4.]]\n"
     ]
    },
    {
     "name": "stderr",
     "output_type": "stream",
     "text": [
      "Exception ignored in: 'pyCalc.cPrintM'\n",
      "Traceback (most recent call last):\n",
      "  File \"eigency/conversions.pyx\", line 13, in eigency.conversions.ndarray_double_F (eigency/conversions.cpp:2621)\n",
      "ValueError: Cannot create cython.array from NULL pointer\n"
     ]
    },
    {
     "data": {
      "text/plain": [
       "array([[ 5.]])"
      ]
     },
     "execution_count": 1,
     "metadata": {},
     "output_type": "execute_result"
    }
   ],
   "source": [
    "import pyCalc as p\n",
    "import numpy as np\n",
    "hop = p.var(\"constant\",np.array([[1,2], [3,4]], dtype = float))\n",
    "clop = p.var(\"independent\", np.array([2,2]))\n",
    "glop = p.var(\"\")\n",
    "glop.f(hop,clop,\"*\")\n",
    "chlop = p.var(\"\")\n",
    "chlop.f(glop, hop, \"+\")\n",
    "chlop.value(dict([(clop,np.array([[1,2], [3,4]], dtype = float))]))\n"
   ]
  },
  {
   "cell_type": "code",
   "execution_count": null,
   "metadata": {
    "collapsed": true
   },
   "outputs": [],
   "source": []
  }
 ],
 "metadata": {
  "kernelspec": {
   "display_name": "Python 3",
   "language": "python",
   "name": "python3"
  },
  "language_info": {
   "codemirror_mode": {
    "name": "ipython",
    "version": 3
   },
   "file_extension": ".py",
   "mimetype": "text/x-python",
   "name": "python",
   "nbconvert_exporter": "python",
   "pygments_lexer": "ipython3",
   "version": "3.6.0"
  }
 },
 "nbformat": 4,
 "nbformat_minor": 2
}
