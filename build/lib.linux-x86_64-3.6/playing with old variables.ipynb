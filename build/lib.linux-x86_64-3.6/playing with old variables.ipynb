{
 "cells": [
  {
   "cell_type": "code",
   "execution_count": 1,
   "metadata": {
    "collapsed": true
   },
   "outputs": [],
   "source": [
    "import pyCalc as p\n",
    "import matplotlib.pyplot as plt"
   ]
  },
  {
   "cell_type": "markdown",
   "metadata": {
    "collapsed": false,
    "scrolled": true
   },
   "source": [
    "a, b, x = p.var_old('i'),p.var_old('i'), p.var_old()\n",
    "x.f(a,b,'+')\n",
    "sig = p.var_old()\n",
    "sig.sigmoid(x)\n",
    "xx = [i/10 for i in range(-40,50)]\n",
    "ys = [sig.value([i, 0]) for i in xx]\n",
    "plt.plot(xx,ys)\n",
    "plt.title('Sigmoid')\n",
    "plt.show()\n",
    "print(sig.getDeriv(0,[0]))\n",
    "xx = [i/10 for i in range(-40,50)]\n",
    "ys = [sig.getDeriv(0,[i, 0]) for i in xx]\n",
    "plt.plot(xx,ys)\n",
    "plt.title('Sigmoid deriv')\n",
    "plt.show()"
   ]
  },
  {
   "cell_type": "code",
   "execution_count": 2,
   "metadata": {
    "collapsed": false
   },
   "outputs": [
    {
     "name": "stdout",
     "output_type": "stream",
     "text": [
      "value at 0 of the 0th direct deriv is 0.000000value at 0 of the 1st direct deriv is -1.000000value at 0 of the deriv is -1.000000the 0th deriv of this isc\n",
      "value at 0 of the deriv is -1.000000the 0th deriv of this is( -1.000000 * ( exp( -1.000000 * g3 ) ) )\n",
      "value at 0 of the 0th direct deriv is 1.000000value at 0 of the 1st direct deriv is 1.000000value at 0 of the deriv is -1.000000the 0th deriv of this is( 1.000000 * ( -1.000000 * ( exp( -1.000000 * g3 ) ) ) )\n",
      "value at 0 of the 0th direct deriv is 0.500000value at 0 of the 1st direct deriv is -0.250000value at 0 of the deriv is 0.062500the 0th deriv of this is( ( ( -1.000000 * 1.000000 ) / ( ( 1.000000 + ( exp( -1.000000 * g3 ) ) ) * ( 1.000000 + ( exp( -1.000000 * g3 ) ) ) ) ) * ( 1.000000 * ( -1.000000 * ( exp( -1.000000 * g3 ) ) ) ) )\n"
     ]
    },
    {
     "data": {
      "image/png": "[encoded data removed]",
      "text/plain": [
       "<matplotlib.figure.Figure at 0x7fce68958f28>"
      ]
     },
     "metadata": {},
     "output_type": "display_data"
    }
   ],
   "source": [
    "import pyCalc as p\n",
    "import matplotlib.pyplot as plt\n",
    "one = p.var_old('c', 1)\n",
    "mone = p.var_old('c', -1)\n",
    "un = p.var_old('i');\n",
    "unm = p.var_old('f');\n",
    "unm.f(mone,un,'*')\n",
    "unex = p.var_old('f')\n",
    "unex.exp(unm)\n",
    "fn1 = p.var_old('f')\n",
    "fn1.f(one, unex, '+')#1+exp(x)\n",
    "fn2 = p.var_old('f')\n",
    "fn2.f(one, fn1, '/')\n",
    "xx = [i/10 for i in range(-40,50)]\n",
    "ys = [fn2.value([i, 0]) for i in xx]\n",
    "plt.plot(xx,ys)\n",
    "plt.title('Sigmoid')\n",
    "plt.show()"
   ]
  },
  {
   "cell_type": "code",
   "execution_count": 3,
   "metadata": {
    "collapsed": false
   },
   "outputs": [
    {
     "data": {
      "image/png": "[encoded data removed]",
      "text/plain": [
       "<matplotlib.figure.Figure at 0x7fce9c9cc550>"
      ]
     },
     "metadata": {},
     "output_type": "display_data"
    }
   ],
   "source": [
    "xxx = [i/10 for i in range(-40,50)]\n",
    "yxs = [fn2.getDeriv(0,[i]) for i in xx]\n",
    "plt.plot(xxx,yxs)\n",
    "plt.title('Sigmoid deriv')\n",
    "plt.show()"
   ]
  },
  {
   "cell_type": "code",
   "execution_count": 4,
   "metadata": {
    "collapsed": false
   },
   "outputs": [
    {
     "name": "stdout",
     "output_type": "stream",
     "text": [
      "( ( ( -1.000000 * 1.000000 ) / ( ( 1.000000 + ( exp( -1.000000 * g3 ) ) ) * ( 1.000000 + ( exp( -1.000000 * g3 ) ) ) ) ) * ( 1.000000 * ( -1.000000 * ( exp( -1.000000 * g3 ) ) ) ) )\n"
     ]
    }
   ],
   "source": [
    "fn2.previewDeriv()"
   ]
  },
  {
   "cell_type": "code",
   "execution_count": 5,
   "metadata": {
    "collapsed": false
   },
   "outputs": [
    {
     "data": {
      "text/plain": [
       "0.25"
      ]
     },
     "execution_count": 5,
     "metadata": {},
     "output_type": "execute_result"
    }
   ],
   "source": [
    "fn2.getDeriv(0,[0])"
   ]
  },
  {
   "cell_type": "code",
   "execution_count": 6,
   "metadata": {
    "collapsed": false
   },
   "outputs": [
    {
     "data": {
      "text/plain": [
       "0.5"
      ]
     },
     "execution_count": 6,
     "metadata": {},
     "output_type": "execute_result"
    }
   ],
   "source": [
    "fn2.value([0])"
   ]
  },
  {
   "cell_type": "code",
   "execution_count": 7,
   "metadata": {
    "collapsed": false
   },
   "outputs": [
    {
     "data": {
      "text/plain": [
       "2.0"
      ]
     },
     "execution_count": 7,
     "metadata": {},
     "output_type": "execute_result"
    }
   ],
   "source": [
    "fn1.value([0])"
   ]
  },
  {
   "cell_type": "code",
   "execution_count": 8,
   "metadata": {
    "collapsed": false
   },
   "outputs": [
    {
     "data": {
      "text/plain": [
       "-1.0"
      ]
     },
     "execution_count": 8,
     "metadata": {},
     "output_type": "execute_result"
    }
   ],
   "source": [
    "fn1.getDeriv(0,[0])"
   ]
  },
  {
   "cell_type": "code",
   "execution_count": 9,
   "metadata": {
    "collapsed": false
   },
   "outputs": [
    {
     "name": "stdout",
     "output_type": "stream",
     "text": [
      "value at 0 of the 0th direct deriv is 0.000000value at 0 of the 1st direct deriv is -1.000000value at 0 of the deriv is -1.000000the 0th deriv of this isc\n",
      "value at 0 of the deriv is -1.000000the 0th deriv of this is( -1.000000 * ( exp( -1.000000 * g10 ) ) )\n",
      "value at 0 of the 0th direct deriv is 1.000000value at 0 of the 1st direct deriv is 1.000000value at 0 of the deriv is -1.000000the 0th deriv of this is( 1.000000 * ( -1.000000 * ( exp( -1.000000 * g10 ) ) ) )\n",
      "value at 0 of the 0th direct deriv is 1.000000value at 0 of the 1st direct deriv is 1.000000value at 0 of the deriv is -1.000000the 0th deriv of this is( 1.000000 * ( -1.000000 * ( exp( -1.000000 * g10 ) ) ) )\n",
      "value at 0 of the 0th direct deriv is 4.000000value at 0 of the 1st direct deriv is 0.000000value at 0 of the deriv is -4.000000the 0th deriv of this is( ( ( 2.000000 * ( 1.000000 + ( exp( -1.000000 * g10 ) ) ) ) * ( 1.000000 * ( -1.000000 * ( exp( -1.000000 * g10 ) ) ) ) ) + ( 0.000000 * ( 1.000000 * ( -1.000000 * ( exp( -1.000000 * g10 ) ) ) ) ) )\n",
      "value at 0 of the 0th direct deriv is 0.250000value at 0 of the 1st direct deriv is -0.062500value at 0 of the deriv is 0.000000the 0th deriv of this is( ( ( 1.000000 / ( ( 1.000000 + ( exp( -1.000000 * g10 ) ) ) * ( 1.000000 + ( exp( -1.000000 * g10 ) ) ) ) ) * ( -1.000000 * ( exp( -1.000000 * g10 ) ) ) ) + ( ( ( -1.000000 * ( exp( -1.000000 * g10 ) ) ) / ( ( ( 1.000000 + ( exp( -1.000000 * g10 ) ) ) * ( 1.000000 + ( exp( -1.000000 * g10 ) ) ) ) * ( ( 1.000000 + ( exp( -1.000000 * g10 ) ) ) * ( 1.000000 + ( exp( -1.000000 * g10 ) ) ) ) ) ) * ( ( ( 2.000000 * ( 1.000000 + ( exp( -1.000000 * g10 ) ) ) ) * ( 1.000000 * ( -1.000000 * ( exp( -1.000000 * g10 ) ) ) ) ) + ( 0.000000 * ( 1.000000 * ( -1.000000 * ( exp( -1.000000 * g10 ) ) ) ) ) ) ) )\n"
     ]
    },
    {
     "data": {
      "image/png": "[encoded data removed]",
      "text/plain": [
       "<matplotlib.figure.Figure at 0x7fce66605550>"
      ]
     },
     "metadata": {},
     "output_type": "display_data"
    }
   ],
   "source": [
    "import pyCalc as p\n",
    "import matplotlib.pyplot as plt\n",
    "one = p.var_old('c', 1)\n",
    "mone = p.var_old('c', -1)\n",
    "un = p.var_old('i');\n",
    "unm = p.var_old('f');\n",
    "unm.f(mone,un,'*')\n",
    "unex = p.var_old('f')\n",
    "unex.exp(unm)\n",
    "fn1 = p.var_old('f')\n",
    "fn1.f(one, unex, '+')#1+exp(x)\n",
    "fn0 = p.var_old('f')\n",
    "fn0.f(one, unex, '*')#-exp(x)\n",
    "fn11 = p.var_old('f')\n",
    "fn11.f(fn1, fn1, '*')\n",
    "fn2 = p.var_old('f')\n",
    "fn2.f(unex, fn11, '/')\n",
    "xx = [i/10 for i in range(-40,50)]\n",
    "ys = [fn2.value([i, 0]) for i in xx]\n",
    "plt.plot(xx,ys)\n",
    "plt.title('Sigmoid')\n",
    "plt.show()"
   ]
  },
  {
   "cell_type": "code",
   "execution_count": 10,
   "metadata": {
    "collapsed": false
   },
   "outputs": [
    {
     "name": "stdout",
     "output_type": "stream",
     "text": [
      "( ( exp( -1.000000 * g10 ) ) / ( ( 1.000000 + ( exp( -1.000000 * g10 ) ) ) * ( 1.000000 + ( exp( -1.000000 * g10 ) ) ) ) )\n"
     ]
    }
   ],
   "source": [
    "fn2.preview()"
   ]
  },
  {
   "cell_type": "code",
   "execution_count": 11,
   "metadata": {
    "collapsed": false
   },
   "outputs": [
    {
     "data": {
      "image/png": "[encoded data removed]",
      "text/plain": [
       "<matplotlib.figure.Figure at 0x7fce6893a630>"
      ]
     },
     "metadata": {},
     "output_type": "display_data"
    }
   ],
   "source": [
    "xxx = [i/10 for i in range(-40,50)]\n",
    "yxs = [fn2.getDeriv(0,[i]) for i in xx]\n",
    "plt.plot(xxx,yxs)\n",
    "plt.title('Sigmoid deriv')\n",
    "plt.show()"
   ]
  },
  {
   "cell_type": "code",
   "execution_count": null,
   "metadata": {
    "collapsed": true
   },
   "outputs": [],
   "source": []
  }
 ],
 "metadata": {
  "kernelspec": {
   "display_name": "Python 3",
   "language": "python",
   "name": "python3"
  },
  "language_info": {
   "codemirror_mode": {
    "name": "ipython",
    "version": 3
   },
   "file_extension": ".py",
   "mimetype": "text/x-python",
   "name": "python",
   "nbconvert_exporter": "python",
   "pygments_lexer": "ipython3",
   "version": "3.6.0"
  }
 },
 "nbformat": 4,
 "nbformat_minor": 2
}
