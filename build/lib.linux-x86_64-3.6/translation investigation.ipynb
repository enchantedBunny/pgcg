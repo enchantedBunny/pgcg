{
 "cells": [
  {
   "cell_type": "code",
   "execution_count": 1,
   "metadata": {
    "collapsed": false
   },
   "outputs": [],
   "source": [
    "import pyCalc as p\n",
    "import numpy as np\n",
    "c = p.var(\"constant\",np.array([[1,1,1,1],\n",
    "                               [0,1,0,1],\n",
    "                               [0,0,1,1]]                           \n",
    "                               , dtype= float).T)\n",
    "x = p.var(\"independent\", np.array([2,2]))\n",
    "xc = p.var(\"\")\n",
    "xc.f(x,c, \"*\")\n",
    "xmc = p.var(\"\")\n",
    "xmc.sf(xc, \"sigmoid\")\n",
    "weights =np.array([[-0.43812108],\n",
    " [ 0.91094098],\n",
    " [0.83655703]], dtype = float).T"
   ]
  },
  {
   "cell_type": "code",
   "execution_count": 2,
   "metadata": {
    "collapsed": false
   },
   "outputs": [
    {
     "data": {
      "text/plain": [
       "array([[ 1.,  1.,  1.,  1.],\n",
       "       [ 0.,  1.,  0.,  1.],\n",
       "       [ 0.,  0.,  1.,  1.]])"
      ]
     },
     "execution_count": 2,
     "metadata": {},
     "output_type": "execute_result"
    }
   ],
   "source": [
    "c.value(dict([(x,weights)]))"
   ]
  },
  {
   "cell_type": "code",
   "execution_count": 3,
   "metadata": {
    "collapsed": false
   },
   "outputs": [
    {
     "data": {
      "text/plain": [
       "array([[-0.43812108,  0.91094098,  0.83655703]])"
      ]
     },
     "execution_count": 3,
     "metadata": {},
     "output_type": "execute_result"
    }
   ],
   "source": [
    "x.value(dict([(x,weights)]))"
   ]
  },
  {
   "cell_type": "code",
   "execution_count": null,
   "metadata": {
    "collapsed": false
   },
   "outputs": [],
   "source": [
    "xmc.value(dict([(x,weights)]))"
   ]
  },
  {
   "cell_type": "code",
   "execution_count": 5,
   "metadata": {
    "collapsed": false
   },
   "outputs": [
    {
     "data": {
      "text/plain": [
       "array([[  46.],\n",
       "       [ 102.]])"
      ]
     },
     "execution_count": 5,
     "metadata": {},
     "output_type": "execute_result"
    }
   ],
   "source": [
    "xmcx.value(dict([(x,np.array([[2,4], [6,8]], dtype = float))]))"
   ]
  },
  {
   "cell_type": "code",
   "execution_count": 6,
   "metadata": {
    "collapsed": true
   },
   "outputs": [],
   "source": [
    "xx = p.var(\"independent\", np.array([1,4]))"
   ]
  },
  {
   "cell_type": "code",
   "execution_count": 7,
   "metadata": {
    "collapsed": false
   },
   "outputs": [
    {
     "data": {
      "text/plain": [
       "array([[ 1.],\n",
       "       [ 2.],\n",
       "       [ 3.],\n",
       "       [ 4.]])"
      ]
     },
     "execution_count": 7,
     "metadata": {},
     "output_type": "execute_result"
    }
   ],
   "source": [
    "xx.value(dict([(xx,np.array([[1,2,3,4]], dtype = float).T)]))"
   ]
  },
  {
   "cell_type": "code",
   "execution_count": null,
   "metadata": {
    "collapsed": false
   },
   "outputs": [],
   "source": [
    "xs = p.var(\"constant\",np.array([[0,1,0,1],\n",
    "                               [1,0,1,0],\n",
    "                               [0,1,1,0]]                           \n",
    "                               , dtype= float).T)\n",
    "tmp = p.var(\"function\")\n",
    "tmp.sf(xs, \"rowwise\")\n",
    "print(xs.value(dict([(x,np.array([[1,2], [3,4]], dtype = float))])))\n",
    "\n",
    "print(tmp.value(dict([(x,np.array([[1,2], [3,4]], dtype = float))])))"
   ]
  },
  {
   "cell_type": "code",
   "execution_count": null,
   "metadata": {
    "collapsed": true
   },
   "outputs": [],
   "source": []
  }
 ],
 "metadata": {
  "kernelspec": {
   "display_name": "Python 3",
   "language": "python",
   "name": "python3"
  },
  "language_info": {
   "codemirror_mode": {
    "name": "ipython",
    "version": 3
   },
   "file_extension": ".py",
   "mimetype": "text/x-python",
   "name": "python",
   "nbconvert_exporter": "python",
   "pygments_lexer": "ipython3",
   "version": "3.6.0"
  }
 },
 "nbformat": 4,
 "nbformat_minor": 2
}
